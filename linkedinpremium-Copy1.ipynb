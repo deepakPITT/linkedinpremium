{
 "cells": [
  {
   "cell_type": "code",
   "execution_count": 795,
   "id": "6d2416bd",
   "metadata": {},
   "outputs": [],
   "source": [
    "import pandas as pd\n",
    "import matplotlib.pyplot as plt\n",
    "plt.rcParams[\"figure.figsize\"] = (20,3)\n",
    "import pandas as pd\n",
    "import numpy as np\n",
    "import matplotlib.pyplot as plt\n",
    "import seaborn as sns\n",
    "%matplotlib inline\n",
    "from matplotlib.gridspec import GridSpec\n",
    "pd.set_option('display.max_columns', 100)\n",
    "import plotly.offline as py\n",
    "import plotly.express as px\n",
    "import plotly.graph_objs as go\n",
    "import json\n",
    "import requests\n",
    "from sklearn.impute import KNNImputer\n",
    "from datetime import date\n",
    "from sklearn.impute import SimpleImputer\n",
    "\n",
    "\n"
   ]
  },
  {
   "cell_type": "code",
   "execution_count": 796,
   "id": "f81ba469",
   "metadata": {},
   "outputs": [],
   "source": [
    "linkedin_data_original= pd.read_csv('/Users/deepak/Downloads/dump.csv')        \n"
   ]
  },
  {
   "cell_type": "code",
   "execution_count": 797,
   "id": "96bf068a",
   "metadata": {},
   "outputs": [
    {
     "name": "stdout",
     "output_type": "stream",
     "text": [
      "Requirement already satisfied: category_encoders in /Users/deepak/opt/anaconda3/lib/python3.9/site-packages (2.5.0)\n",
      "Requirement already satisfied: numpy>=1.14.0 in /Users/deepak/opt/anaconda3/lib/python3.9/site-packages (from category_encoders) (1.21.5)\n",
      "Requirement already satisfied: scikit-learn>=0.20.0 in /Users/deepak/opt/anaconda3/lib/python3.9/site-packages (from category_encoders) (1.0.2)\n",
      "Requirement already satisfied: patsy>=0.5.1 in /Users/deepak/opt/anaconda3/lib/python3.9/site-packages (from category_encoders) (0.5.2)\n",
      "Requirement already satisfied: statsmodels>=0.9.0 in /Users/deepak/opt/anaconda3/lib/python3.9/site-packages (from category_encoders) (0.13.2)\n",
      "Requirement already satisfied: scipy>=1.0.0 in /Users/deepak/opt/anaconda3/lib/python3.9/site-packages (from category_encoders) (1.7.3)\n",
      "Requirement already satisfied: pandas>=1.0.5 in /Users/deepak/opt/anaconda3/lib/python3.9/site-packages (from category_encoders) (1.4.2)\n",
      "Requirement already satisfied: python-dateutil>=2.8.1 in /Users/deepak/opt/anaconda3/lib/python3.9/site-packages (from pandas>=1.0.5->category_encoders) (2.8.2)\n",
      "Requirement already satisfied: pytz>=2020.1 in /Users/deepak/opt/anaconda3/lib/python3.9/site-packages (from pandas>=1.0.5->category_encoders) (2021.3)\n",
      "Requirement already satisfied: six in /Users/deepak/opt/anaconda3/lib/python3.9/site-packages (from patsy>=0.5.1->category_encoders) (1.16.0)\n",
      "Requirement already satisfied: joblib>=0.11 in /Users/deepak/opt/anaconda3/lib/python3.9/site-packages (from scikit-learn>=0.20.0->category_encoders) (1.1.0)\n",
      "Requirement already satisfied: threadpoolctl>=2.0.0 in /Users/deepak/opt/anaconda3/lib/python3.9/site-packages (from scikit-learn>=0.20.0->category_encoders) (2.2.0)\n",
      "Requirement already satisfied: packaging>=21.3 in /Users/deepak/opt/anaconda3/lib/python3.9/site-packages (from statsmodels>=0.9.0->category_encoders) (21.3)\n",
      "Requirement already satisfied: pyparsing!=3.0.5,>=2.0.2 in /Users/deepak/opt/anaconda3/lib/python3.9/site-packages (from packaging>=21.3->statsmodels>=0.9.0->category_encoders) (3.0.4)\n",
      "Note: you may need to restart the kernel to use updated packages.\n"
     ]
    }
   ],
   "source": [
    "pip install category_encoders\n"
   ]
  },
  {
   "cell_type": "code",
   "execution_count": 798,
   "id": "493dd44b",
   "metadata": {},
   "outputs": [
    {
     "data": {
      "text/html": [
       "<div>\n",
       "<style scoped>\n",
       "    .dataframe tbody tr th:only-of-type {\n",
       "        vertical-align: middle;\n",
       "    }\n",
       "\n",
       "    .dataframe tbody tr th {\n",
       "        vertical-align: top;\n",
       "    }\n",
       "\n",
       "    .dataframe thead th {\n",
       "        text-align: right;\n",
       "    }\n",
       "</style>\n",
       "<table border=\"1\" class=\"dataframe\">\n",
       "  <thead>\n",
       "    <tr style=\"text-align: right;\">\n",
       "      <th></th>\n",
       "      <th>Unnamed: 0</th>\n",
       "      <th>ageEstimate</th>\n",
       "      <th>companyFollowerCount</th>\n",
       "      <th>companyHasLogo</th>\n",
       "      <th>companyName</th>\n",
       "      <th>companyStaffCount</th>\n",
       "      <th>companyUrl</th>\n",
       "      <th>companyUrn</th>\n",
       "      <th>connectionsCount</th>\n",
       "      <th>country</th>\n",
       "      <th>endDate</th>\n",
       "      <th>followable</th>\n",
       "      <th>followersCount</th>\n",
       "      <th>genderEstimate</th>\n",
       "      <th>hasPicture</th>\n",
       "      <th>isPremium</th>\n",
       "      <th>mbrLocation</th>\n",
       "      <th>mbrLocationCode</th>\n",
       "      <th>mbrTitle</th>\n",
       "      <th>memberUrn</th>\n",
       "      <th>posLocation</th>\n",
       "      <th>posLocationCode</th>\n",
       "      <th>posTitle</th>\n",
       "      <th>positionId</th>\n",
       "      <th>startDate</th>\n",
       "      <th>avgMemberPosDuration</th>\n",
       "      <th>avgCompanyPosDuration</th>\n",
       "    </tr>\n",
       "  </thead>\n",
       "  <tbody>\n",
       "    <tr>\n",
       "      <th>0</th>\n",
       "      <td>0</td>\n",
       "      <td>41.0</td>\n",
       "      <td>198859.0</td>\n",
       "      <td>5a92c12e-0a20-482b-95ec-e705a6294730-2.png</td>\n",
       "      <td>Commonwealth Bank</td>\n",
       "      <td>32905.0</td>\n",
       "      <td>http://www.commbank.com.au/</td>\n",
       "      <td>urn:li:company:2848</td>\n",
       "      <td>500.0</td>\n",
       "      <td>au</td>\n",
       "      <td>NaN</td>\n",
       "      <td>1.0</td>\n",
       "      <td>506.0</td>\n",
       "      <td>male</td>\n",
       "      <td>NaN</td>\n",
       "      <td>0.0</td>\n",
       "      <td>Sydney Area, Australia</td>\n",
       "      <td>urn:li:fs_region:(au,4910)</td>\n",
       "      <td>Portfolio Executive at Commonwealth Bank</td>\n",
       "      <td>urn:li:member:10013136</td>\n",
       "      <td>NaN</td>\n",
       "      <td>NaN</td>\n",
       "      <td>Portfolio Executive</td>\n",
       "      <td>240345.0</td>\n",
       "      <td>2014-07-01</td>\n",
       "      <td>760.5000</td>\n",
       "      <td>989.9361</td>\n",
       "    </tr>\n",
       "    <tr>\n",
       "      <th>1</th>\n",
       "      <td>1</td>\n",
       "      <td>41.0</td>\n",
       "      <td>198859.0</td>\n",
       "      <td>5a92c12e-0a20-482b-95ec-e705a6294730-2.png</td>\n",
       "      <td>Commonwealth Bank</td>\n",
       "      <td>32905.0</td>\n",
       "      <td>http://www.commbank.com.au/</td>\n",
       "      <td>urn:li:company:2848</td>\n",
       "      <td>500.0</td>\n",
       "      <td>au</td>\n",
       "      <td>2014-06-01</td>\n",
       "      <td>1.0</td>\n",
       "      <td>506.0</td>\n",
       "      <td>male</td>\n",
       "      <td>NaN</td>\n",
       "      <td>0.0</td>\n",
       "      <td>Sydney Area, Australia</td>\n",
       "      <td>urn:li:fs_region:(au,4910)</td>\n",
       "      <td>Portfolio Executive at Commonwealth Bank</td>\n",
       "      <td>urn:li:member:10013136</td>\n",
       "      <td>Sydney, Australia</td>\n",
       "      <td>urn:li:fs_region:(au,4910)</td>\n",
       "      <td>Solution Delivery Executive</td>\n",
       "      <td>240346.0</td>\n",
       "      <td>2013-11-01</td>\n",
       "      <td>760.5000</td>\n",
       "      <td>989.9361</td>\n",
       "    </tr>\n",
       "    <tr>\n",
       "      <th>2</th>\n",
       "      <td>2</td>\n",
       "      <td>41.0</td>\n",
       "      <td>10047.0</td>\n",
       "      <td>b1c3fd9a-8f21-48f8-8321-d773b1ff3cb7-2.png</td>\n",
       "      <td>CommSec</td>\n",
       "      <td>619.0</td>\n",
       "      <td>http://www.commsec.com.au</td>\n",
       "      <td>urn:li:company:2851</td>\n",
       "      <td>500.0</td>\n",
       "      <td>au</td>\n",
       "      <td>2012-12-01</td>\n",
       "      <td>1.0</td>\n",
       "      <td>506.0</td>\n",
       "      <td>male</td>\n",
       "      <td>NaN</td>\n",
       "      <td>0.0</td>\n",
       "      <td>Sydney Area, Australia</td>\n",
       "      <td>urn:li:fs_region:(au,4910)</td>\n",
       "      <td>Portfolio Executive at Commonwealth Bank</td>\n",
       "      <td>urn:li:member:10013136</td>\n",
       "      <td>NaN</td>\n",
       "      <td>NaN</td>\n",
       "      <td>Project Manager</td>\n",
       "      <td>240348.0</td>\n",
       "      <td>2008-08-01</td>\n",
       "      <td>760.5000</td>\n",
       "      <td>747.2308</td>\n",
       "    </tr>\n",
       "    <tr>\n",
       "      <th>3</th>\n",
       "      <td>3</td>\n",
       "      <td>41.0</td>\n",
       "      <td>198859.0</td>\n",
       "      <td>5a92c12e-0a20-482b-95ec-e705a6294730-2.png</td>\n",
       "      <td>Commonwealth Bank</td>\n",
       "      <td>32905.0</td>\n",
       "      <td>http://www.commbank.com.au/</td>\n",
       "      <td>urn:li:company:2848</td>\n",
       "      <td>500.0</td>\n",
       "      <td>au</td>\n",
       "      <td>2008-07-01</td>\n",
       "      <td>1.0</td>\n",
       "      <td>506.0</td>\n",
       "      <td>male</td>\n",
       "      <td>NaN</td>\n",
       "      <td>0.0</td>\n",
       "      <td>Sydney Area, Australia</td>\n",
       "      <td>urn:li:fs_region:(au,4910)</td>\n",
       "      <td>Portfolio Executive at Commonwealth Bank</td>\n",
       "      <td>urn:li:member:10013136</td>\n",
       "      <td>NaN</td>\n",
       "      <td>NaN</td>\n",
       "      <td>Project Manager</td>\n",
       "      <td>240350.0</td>\n",
       "      <td>2007-02-01</td>\n",
       "      <td>760.5000</td>\n",
       "      <td>989.9361</td>\n",
       "    </tr>\n",
       "    <tr>\n",
       "      <th>4</th>\n",
       "      <td>4</td>\n",
       "      <td>30.0</td>\n",
       "      <td>300723.0</td>\n",
       "      <td>0f982557-a907-409e-af20-1feb0e0813cd-2.png</td>\n",
       "      <td>PayPal</td>\n",
       "      <td>22522.0</td>\n",
       "      <td>http://www.paypal.com</td>\n",
       "      <td>urn:li:company:1482</td>\n",
       "      <td>500.0</td>\n",
       "      <td>au</td>\n",
       "      <td>NaN</td>\n",
       "      <td>1.0</td>\n",
       "      <td>951.0</td>\n",
       "      <td>female</td>\n",
       "      <td>RTMZ0-46bTjK4V_MGFDG6i5g0yZmFp5oS0S9liWvpWg.jpg</td>\n",
       "      <td>0.0</td>\n",
       "      <td>Sydney Area, Australia</td>\n",
       "      <td>urn:li:fs_region:(au,4910)</td>\n",
       "      <td>Senior Marketing Manager, PayPal</td>\n",
       "      <td>urn:li:member:100186032</td>\n",
       "      <td>NaN</td>\n",
       "      <td>NaN</td>\n",
       "      <td>Senior Marketing Manager</td>\n",
       "      <td>229893.0</td>\n",
       "      <td>2017-01-01</td>\n",
       "      <td>395.2857</td>\n",
       "      <td>683.3496</td>\n",
       "    </tr>\n",
       "    <tr>\n",
       "      <th>...</th>\n",
       "      <td>...</td>\n",
       "      <td>...</td>\n",
       "      <td>...</td>\n",
       "      <td>...</td>\n",
       "      <td>...</td>\n",
       "      <td>...</td>\n",
       "      <td>...</td>\n",
       "      <td>...</td>\n",
       "      <td>...</td>\n",
       "      <td>...</td>\n",
       "      <td>...</td>\n",
       "      <td>...</td>\n",
       "      <td>...</td>\n",
       "      <td>...</td>\n",
       "      <td>...</td>\n",
       "      <td>...</td>\n",
       "      <td>...</td>\n",
       "      <td>...</td>\n",
       "      <td>...</td>\n",
       "      <td>...</td>\n",
       "      <td>...</td>\n",
       "      <td>...</td>\n",
       "      <td>...</td>\n",
       "      <td>...</td>\n",
       "      <td>...</td>\n",
       "      <td>...</td>\n",
       "      <td>...</td>\n",
       "    </tr>\n",
       "    <tr>\n",
       "      <th>39532</th>\n",
       "      <td>39532</td>\n",
       "      <td>46.0</td>\n",
       "      <td>151686.0</td>\n",
       "      <td>71b7f012-183c-43c8-a9af-b39a1b9a89a0-2.png</td>\n",
       "      <td>National Australia Bank</td>\n",
       "      <td>27944.0</td>\n",
       "      <td>http://www.nab.com.au</td>\n",
       "      <td>urn:li:company:2357</td>\n",
       "      <td>362.0</td>\n",
       "      <td>au</td>\n",
       "      <td>2009-04-01</td>\n",
       "      <td>1.0</td>\n",
       "      <td>363.0</td>\n",
       "      <td>male</td>\n",
       "      <td>p_4_000_171_2aa_07c7660.jpg</td>\n",
       "      <td>0.0</td>\n",
       "      <td>Melbourne Area, Australia</td>\n",
       "      <td>urn:li:fs_region:(au,4900)</td>\n",
       "      <td>Head Of (Distributed) Credit, Vic/Tas at Natio...</td>\n",
       "      <td>urn:li:member:9985941</td>\n",
       "      <td>St Kilda Rd Melbourne Business Banking Centre</td>\n",
       "      <td>NaN</td>\n",
       "      <td>Senior Partner</td>\n",
       "      <td>191517.0</td>\n",
       "      <td>2006-08-01</td>\n",
       "      <td>1912.0000</td>\n",
       "      <td>941.0968</td>\n",
       "    </tr>\n",
       "    <tr>\n",
       "      <th>39533</th>\n",
       "      <td>39533</td>\n",
       "      <td>46.0</td>\n",
       "      <td>151686.0</td>\n",
       "      <td>71b7f012-183c-43c8-a9af-b39a1b9a89a0-2.png</td>\n",
       "      <td>National Australia Bank</td>\n",
       "      <td>27944.0</td>\n",
       "      <td>http://www.nab.com.au</td>\n",
       "      <td>urn:li:company:2357</td>\n",
       "      <td>362.0</td>\n",
       "      <td>au</td>\n",
       "      <td>2007-05-01</td>\n",
       "      <td>1.0</td>\n",
       "      <td>363.0</td>\n",
       "      <td>male</td>\n",
       "      <td>p_4_000_171_2aa_07c7660.jpg</td>\n",
       "      <td>0.0</td>\n",
       "      <td>Melbourne Area, Australia</td>\n",
       "      <td>urn:li:fs_region:(au,4900)</td>\n",
       "      <td>Head Of (Distributed) Credit, Vic/Tas at Natio...</td>\n",
       "      <td>urn:li:member:9985941</td>\n",
       "      <td>St Kilda Rd Melbourne Business Banking Centre</td>\n",
       "      <td>NaN</td>\n",
       "      <td>Senior Business Banking Manager / Partner 4</td>\n",
       "      <td>191518.0</td>\n",
       "      <td>2003-08-01</td>\n",
       "      <td>1912.0000</td>\n",
       "      <td>941.0968</td>\n",
       "    </tr>\n",
       "    <tr>\n",
       "      <th>39534</th>\n",
       "      <td>39534</td>\n",
       "      <td>46.0</td>\n",
       "      <td>151686.0</td>\n",
       "      <td>71b7f012-183c-43c8-a9af-b39a1b9a89a0-2.png</td>\n",
       "      <td>National Australia Bank</td>\n",
       "      <td>27944.0</td>\n",
       "      <td>http://www.nab.com.au</td>\n",
       "      <td>urn:li:company:2357</td>\n",
       "      <td>362.0</td>\n",
       "      <td>au</td>\n",
       "      <td>2003-08-01</td>\n",
       "      <td>1.0</td>\n",
       "      <td>363.0</td>\n",
       "      <td>male</td>\n",
       "      <td>p_4_000_171_2aa_07c7660.jpg</td>\n",
       "      <td>0.0</td>\n",
       "      <td>Melbourne Area, Australia</td>\n",
       "      <td>urn:li:fs_region:(au,4900)</td>\n",
       "      <td>Head Of (Distributed) Credit, Vic/Tas at Natio...</td>\n",
       "      <td>urn:li:member:9985941</td>\n",
       "      <td>St Kilda Rd Melbourne &amp; Bourke and Russell St ...</td>\n",
       "      <td>NaN</td>\n",
       "      <td>Business Banking Manager / Partner 3</td>\n",
       "      <td>191519.0</td>\n",
       "      <td>2000-06-01</td>\n",
       "      <td>1912.0000</td>\n",
       "      <td>941.0968</td>\n",
       "    </tr>\n",
       "    <tr>\n",
       "      <th>39535</th>\n",
       "      <td>39535</td>\n",
       "      <td>46.0</td>\n",
       "      <td>151686.0</td>\n",
       "      <td>71b7f012-183c-43c8-a9af-b39a1b9a89a0-2.png</td>\n",
       "      <td>National Australia Bank</td>\n",
       "      <td>27944.0</td>\n",
       "      <td>http://www.nab.com.au</td>\n",
       "      <td>urn:li:company:2357</td>\n",
       "      <td>362.0</td>\n",
       "      <td>au</td>\n",
       "      <td>2000-06-01</td>\n",
       "      <td>1.0</td>\n",
       "      <td>363.0</td>\n",
       "      <td>male</td>\n",
       "      <td>p_4_000_171_2aa_07c7660.jpg</td>\n",
       "      <td>0.0</td>\n",
       "      <td>Melbourne Area, Australia</td>\n",
       "      <td>urn:li:fs_region:(au,4900)</td>\n",
       "      <td>Head Of (Distributed) Credit, Vic/Tas at Natio...</td>\n",
       "      <td>urn:li:member:9985941</td>\n",
       "      <td>Melbourne Office Business Banking Centre</td>\n",
       "      <td>NaN</td>\n",
       "      <td>Business Banking Officer</td>\n",
       "      <td>191520.0</td>\n",
       "      <td>1995-11-01</td>\n",
       "      <td>1912.0000</td>\n",
       "      <td>941.0968</td>\n",
       "    </tr>\n",
       "    <tr>\n",
       "      <th>39536</th>\n",
       "      <td>39536</td>\n",
       "      <td>46.0</td>\n",
       "      <td>151686.0</td>\n",
       "      <td>71b7f012-183c-43c8-a9af-b39a1b9a89a0-2.png</td>\n",
       "      <td>National Australia Bank</td>\n",
       "      <td>27944.0</td>\n",
       "      <td>http://www.nab.com.au</td>\n",
       "      <td>urn:li:company:2357</td>\n",
       "      <td>362.0</td>\n",
       "      <td>au</td>\n",
       "      <td>2000-06-01</td>\n",
       "      <td>1.0</td>\n",
       "      <td>363.0</td>\n",
       "      <td>male</td>\n",
       "      <td>p_4_000_171_2aa_07c7660.jpg</td>\n",
       "      <td>0.0</td>\n",
       "      <td>Melbourne Area, Australia</td>\n",
       "      <td>urn:li:fs_region:(au,4900)</td>\n",
       "      <td>Head Of (Distributed) Credit, Vic/Tas at Natio...</td>\n",
       "      <td>urn:li:member:9985941</td>\n",
       "      <td>271 Collins St Melbourne</td>\n",
       "      <td>NaN</td>\n",
       "      <td>Various customer service roles including inter...</td>\n",
       "      <td>191521.0</td>\n",
       "      <td>1989-02-01</td>\n",
       "      <td>1912.0000</td>\n",
       "      <td>941.0968</td>\n",
       "    </tr>\n",
       "  </tbody>\n",
       "</table>\n",
       "<p>39537 rows × 27 columns</p>\n",
       "</div>"
      ],
      "text/plain": [
       "       Unnamed: 0  ageEstimate  companyFollowerCount  \\\n",
       "0               0         41.0              198859.0   \n",
       "1               1         41.0              198859.0   \n",
       "2               2         41.0               10047.0   \n",
       "3               3         41.0              198859.0   \n",
       "4               4         30.0              300723.0   \n",
       "...           ...          ...                   ...   \n",
       "39532       39532         46.0              151686.0   \n",
       "39533       39533         46.0              151686.0   \n",
       "39534       39534         46.0              151686.0   \n",
       "39535       39535         46.0              151686.0   \n",
       "39536       39536         46.0              151686.0   \n",
       "\n",
       "                                   companyHasLogo              companyName  \\\n",
       "0      5a92c12e-0a20-482b-95ec-e705a6294730-2.png        Commonwealth Bank   \n",
       "1      5a92c12e-0a20-482b-95ec-e705a6294730-2.png        Commonwealth Bank   \n",
       "2      b1c3fd9a-8f21-48f8-8321-d773b1ff3cb7-2.png                  CommSec   \n",
       "3      5a92c12e-0a20-482b-95ec-e705a6294730-2.png        Commonwealth Bank   \n",
       "4      0f982557-a907-409e-af20-1feb0e0813cd-2.png                   PayPal   \n",
       "...                                           ...                      ...   \n",
       "39532  71b7f012-183c-43c8-a9af-b39a1b9a89a0-2.png  National Australia Bank   \n",
       "39533  71b7f012-183c-43c8-a9af-b39a1b9a89a0-2.png  National Australia Bank   \n",
       "39534  71b7f012-183c-43c8-a9af-b39a1b9a89a0-2.png  National Australia Bank   \n",
       "39535  71b7f012-183c-43c8-a9af-b39a1b9a89a0-2.png  National Australia Bank   \n",
       "39536  71b7f012-183c-43c8-a9af-b39a1b9a89a0-2.png  National Australia Bank   \n",
       "\n",
       "       companyStaffCount                   companyUrl           companyUrn  \\\n",
       "0                32905.0  http://www.commbank.com.au/  urn:li:company:2848   \n",
       "1                32905.0  http://www.commbank.com.au/  urn:li:company:2848   \n",
       "2                  619.0    http://www.commsec.com.au  urn:li:company:2851   \n",
       "3                32905.0  http://www.commbank.com.au/  urn:li:company:2848   \n",
       "4                22522.0        http://www.paypal.com  urn:li:company:1482   \n",
       "...                  ...                          ...                  ...   \n",
       "39532            27944.0        http://www.nab.com.au  urn:li:company:2357   \n",
       "39533            27944.0        http://www.nab.com.au  urn:li:company:2357   \n",
       "39534            27944.0        http://www.nab.com.au  urn:li:company:2357   \n",
       "39535            27944.0        http://www.nab.com.au  urn:li:company:2357   \n",
       "39536            27944.0        http://www.nab.com.au  urn:li:company:2357   \n",
       "\n",
       "       connectionsCount country     endDate  followable  followersCount  \\\n",
       "0                 500.0      au         NaN         1.0           506.0   \n",
       "1                 500.0      au  2014-06-01         1.0           506.0   \n",
       "2                 500.0      au  2012-12-01         1.0           506.0   \n",
       "3                 500.0      au  2008-07-01         1.0           506.0   \n",
       "4                 500.0      au         NaN         1.0           951.0   \n",
       "...                 ...     ...         ...         ...             ...   \n",
       "39532             362.0      au  2009-04-01         1.0           363.0   \n",
       "39533             362.0      au  2007-05-01         1.0           363.0   \n",
       "39534             362.0      au  2003-08-01         1.0           363.0   \n",
       "39535             362.0      au  2000-06-01         1.0           363.0   \n",
       "39536             362.0      au  2000-06-01         1.0           363.0   \n",
       "\n",
       "      genderEstimate                                       hasPicture  \\\n",
       "0               male                                              NaN   \n",
       "1               male                                              NaN   \n",
       "2               male                                              NaN   \n",
       "3               male                                              NaN   \n",
       "4             female  RTMZ0-46bTjK4V_MGFDG6i5g0yZmFp5oS0S9liWvpWg.jpg   \n",
       "...              ...                                              ...   \n",
       "39532           male                      p_4_000_171_2aa_07c7660.jpg   \n",
       "39533           male                      p_4_000_171_2aa_07c7660.jpg   \n",
       "39534           male                      p_4_000_171_2aa_07c7660.jpg   \n",
       "39535           male                      p_4_000_171_2aa_07c7660.jpg   \n",
       "39536           male                      p_4_000_171_2aa_07c7660.jpg   \n",
       "\n",
       "       isPremium                mbrLocation             mbrLocationCode  \\\n",
       "0            0.0     Sydney Area, Australia  urn:li:fs_region:(au,4910)   \n",
       "1            0.0     Sydney Area, Australia  urn:li:fs_region:(au,4910)   \n",
       "2            0.0     Sydney Area, Australia  urn:li:fs_region:(au,4910)   \n",
       "3            0.0     Sydney Area, Australia  urn:li:fs_region:(au,4910)   \n",
       "4            0.0     Sydney Area, Australia  urn:li:fs_region:(au,4910)   \n",
       "...          ...                        ...                         ...   \n",
       "39532        0.0  Melbourne Area, Australia  urn:li:fs_region:(au,4900)   \n",
       "39533        0.0  Melbourne Area, Australia  urn:li:fs_region:(au,4900)   \n",
       "39534        0.0  Melbourne Area, Australia  urn:li:fs_region:(au,4900)   \n",
       "39535        0.0  Melbourne Area, Australia  urn:li:fs_region:(au,4900)   \n",
       "39536        0.0  Melbourne Area, Australia  urn:li:fs_region:(au,4900)   \n",
       "\n",
       "                                                mbrTitle  \\\n",
       "0               Portfolio Executive at Commonwealth Bank   \n",
       "1               Portfolio Executive at Commonwealth Bank   \n",
       "2               Portfolio Executive at Commonwealth Bank   \n",
       "3               Portfolio Executive at Commonwealth Bank   \n",
       "4                       Senior Marketing Manager, PayPal   \n",
       "...                                                  ...   \n",
       "39532  Head Of (Distributed) Credit, Vic/Tas at Natio...   \n",
       "39533  Head Of (Distributed) Credit, Vic/Tas at Natio...   \n",
       "39534  Head Of (Distributed) Credit, Vic/Tas at Natio...   \n",
       "39535  Head Of (Distributed) Credit, Vic/Tas at Natio...   \n",
       "39536  Head Of (Distributed) Credit, Vic/Tas at Natio...   \n",
       "\n",
       "                     memberUrn  \\\n",
       "0       urn:li:member:10013136   \n",
       "1       urn:li:member:10013136   \n",
       "2       urn:li:member:10013136   \n",
       "3       urn:li:member:10013136   \n",
       "4      urn:li:member:100186032   \n",
       "...                        ...   \n",
       "39532    urn:li:member:9985941   \n",
       "39533    urn:li:member:9985941   \n",
       "39534    urn:li:member:9985941   \n",
       "39535    urn:li:member:9985941   \n",
       "39536    urn:li:member:9985941   \n",
       "\n",
       "                                             posLocation  \\\n",
       "0                                                    NaN   \n",
       "1                                      Sydney, Australia   \n",
       "2                                                    NaN   \n",
       "3                                                    NaN   \n",
       "4                                                    NaN   \n",
       "...                                                  ...   \n",
       "39532      St Kilda Rd Melbourne Business Banking Centre   \n",
       "39533      St Kilda Rd Melbourne Business Banking Centre   \n",
       "39534  St Kilda Rd Melbourne & Bourke and Russell St ...   \n",
       "39535           Melbourne Office Business Banking Centre   \n",
       "39536                           271 Collins St Melbourne   \n",
       "\n",
       "                  posLocationCode  \\\n",
       "0                             NaN   \n",
       "1      urn:li:fs_region:(au,4910)   \n",
       "2                             NaN   \n",
       "3                             NaN   \n",
       "4                             NaN   \n",
       "...                           ...   \n",
       "39532                         NaN   \n",
       "39533                         NaN   \n",
       "39534                         NaN   \n",
       "39535                         NaN   \n",
       "39536                         NaN   \n",
       "\n",
       "                                                posTitle  positionId  \\\n",
       "0                                    Portfolio Executive    240345.0   \n",
       "1                            Solution Delivery Executive    240346.0   \n",
       "2                                        Project Manager    240348.0   \n",
       "3                                        Project Manager    240350.0   \n",
       "4                               Senior Marketing Manager    229893.0   \n",
       "...                                                  ...         ...   \n",
       "39532                                     Senior Partner    191517.0   \n",
       "39533        Senior Business Banking Manager / Partner 4    191518.0   \n",
       "39534               Business Banking Manager / Partner 3    191519.0   \n",
       "39535                           Business Banking Officer    191520.0   \n",
       "39536  Various customer service roles including inter...    191521.0   \n",
       "\n",
       "        startDate  avgMemberPosDuration  avgCompanyPosDuration  \n",
       "0      2014-07-01              760.5000               989.9361  \n",
       "1      2013-11-01              760.5000               989.9361  \n",
       "2      2008-08-01              760.5000               747.2308  \n",
       "3      2007-02-01              760.5000               989.9361  \n",
       "4      2017-01-01              395.2857               683.3496  \n",
       "...           ...                   ...                    ...  \n",
       "39532  2006-08-01             1912.0000               941.0968  \n",
       "39533  2003-08-01             1912.0000               941.0968  \n",
       "39534  2000-06-01             1912.0000               941.0968  \n",
       "39535  1995-11-01             1912.0000               941.0968  \n",
       "39536  1989-02-01             1912.0000               941.0968  \n",
       "\n",
       "[39537 rows x 27 columns]"
      ]
     },
     "execution_count": 798,
     "metadata": {},
     "output_type": "execute_result"
    }
   ],
   "source": [
    "linkedin_data_original"
   ]
  },
  {
   "cell_type": "code",
   "execution_count": 799,
   "id": "c502d220",
   "metadata": {},
   "outputs": [
    {
     "data": {
      "text/plain": [
       "Index(['Unnamed: 0', 'ageEstimate', 'companyFollowerCount', 'companyHasLogo',\n",
       "       'companyName', 'companyStaffCount', 'companyUrl', 'companyUrn',\n",
       "       'connectionsCount', 'country', 'endDate', 'followable',\n",
       "       'followersCount', 'genderEstimate', 'hasPicture', 'isPremium',\n",
       "       'mbrLocation', 'mbrLocationCode', 'mbrTitle', 'memberUrn',\n",
       "       'posLocation', 'posLocationCode', 'posTitle', 'positionId', 'startDate',\n",
       "       'avgMemberPosDuration', 'avgCompanyPosDuration'],\n",
       "      dtype='object')"
      ]
     },
     "execution_count": 799,
     "metadata": {},
     "output_type": "execute_result"
    }
   ],
   "source": [
    "linkedin_data_original.columns"
   ]
  },
  {
   "cell_type": "code",
   "execution_count": 800,
   "id": "12e5f6fa",
   "metadata": {},
   "outputs": [
    {
     "name": "stdout",
     "output_type": "stream",
     "text": [
      "<class 'pandas.core.frame.DataFrame'>\n",
      "RangeIndex: 39537 entries, 0 to 39536\n",
      "Data columns (total 27 columns):\n",
      " #   Column                 Non-Null Count  Dtype  \n",
      "---  ------                 --------------  -----  \n",
      " 0   Unnamed: 0             39537 non-null  int64  \n",
      " 1   ageEstimate            39537 non-null  float64\n",
      " 2   companyFollowerCount   38071 non-null  float64\n",
      " 3   companyHasLogo         36407 non-null  object \n",
      " 4   companyName            39535 non-null  object \n",
      " 5   companyStaffCount      38401 non-null  float64\n",
      " 6   companyUrl             37449 non-null  object \n",
      " 7   companyUrn             39537 non-null  object \n",
      " 8   connectionsCount       39537 non-null  float64\n",
      " 9   country                39537 non-null  object \n",
      " 10  endDate                30626 non-null  object \n",
      " 11  followable             39537 non-null  float64\n",
      " 12  followersCount         39537 non-null  float64\n",
      " 13  genderEstimate         35567 non-null  object \n",
      " 14  hasPicture             29601 non-null  object \n",
      " 15  isPremium              39537 non-null  float64\n",
      " 16  mbrLocation            39537 non-null  object \n",
      " 17  mbrLocationCode        39389 non-null  object \n",
      " 18  mbrTitle               39537 non-null  object \n",
      " 19  memberUrn              39537 non-null  object \n",
      " 20  posLocation            28411 non-null  object \n",
      " 21  posLocationCode        16967 non-null  object \n",
      " 22  posTitle               39537 non-null  object \n",
      " 23  positionId             39537 non-null  float64\n",
      " 24  startDate              39521 non-null  object \n",
      " 25  avgMemberPosDuration   39312 non-null  float64\n",
      " 26  avgCompanyPosDuration  38686 non-null  float64\n",
      "dtypes: float64(10), int64(1), object(16)\n",
      "memory usage: 8.1+ MB\n"
     ]
    }
   ],
   "source": [
    "linkedin_data_original.info()\n"
   ]
  },
  {
   "cell_type": "markdown",
   "id": "469ea300",
   "metadata": {},
   "source": [
    "Observations:\n",
    "\n",
    "There are missing values in the companyFollowerCount etc\n",
    "will impute missing columns \n",
    "mix of categorical and numnerical and string types "
   ]
  },
  {
   "cell_type": "code",
   "execution_count": 801,
   "id": "2eb8dde7",
   "metadata": {},
   "outputs": [
    {
     "data": {
      "text/plain": [
       "0"
      ]
     },
     "execution_count": 801,
     "metadata": {},
     "output_type": "execute_result"
    }
   ],
   "source": [
    "linkedin_data_original.duplicated().sum()\n"
   ]
  },
  {
   "cell_type": "code",
   "execution_count": 802,
   "id": "9bae5fa5",
   "metadata": {},
   "outputs": [
    {
     "data": {
      "text/plain": [
       "Unnamed: 0                0.00\n",
       "ageEstimate               0.00\n",
       "companyFollowerCount      3.71\n",
       "companyHasLogo            7.92\n",
       "companyName               0.01\n",
       "companyStaffCount         2.87\n",
       "companyUrl                5.28\n",
       "companyUrn                0.00\n",
       "connectionsCount          0.00\n",
       "country                   0.00\n",
       "endDate                  22.54\n",
       "followable                0.00\n",
       "followersCount            0.00\n",
       "genderEstimate           10.04\n",
       "hasPicture               25.13\n",
       "isPremium                 0.00\n",
       "mbrLocation               0.00\n",
       "mbrLocationCode           0.37\n",
       "mbrTitle                  0.00\n",
       "memberUrn                 0.00\n",
       "posLocation              28.14\n",
       "posLocationCode          57.09\n",
       "posTitle                  0.00\n",
       "positionId                0.00\n",
       "startDate                 0.04\n",
       "avgMemberPosDuration      0.57\n",
       "avgCompanyPosDuration     2.15\n",
       "dtype: float64"
      ]
     },
     "execution_count": 802,
     "metadata": {},
     "output_type": "execute_result"
    }
   ],
   "source": [
    "\n",
    "# Let's check for missing values in the data\n",
    "round(linkedin_data_original.isnull().sum() / linkedin_data_original.isnull().count() * 100, 2)\n"
   ]
  },
  {
   "cell_type": "code",
   "execution_count": 803,
   "id": "be8a65f8",
   "metadata": {},
   "outputs": [],
   "source": [
    "#linkedin_data_original['endDate']=linkedin_data_original['endDate'].fillna(date.today())"
   ]
  },
  {
   "cell_type": "markdown",
   "id": "b283b430",
   "metadata": {},
   "source": [
    "##### OBSERVATIONS\n",
    "#### posLocation,posLocationCode we can drop\n",
    "#### impute,companyStaffCount, companyFollowerCount \n",
    "#### companyHasLogo do not drop , replace NA\n",
    "## imputing company follower,staffcount,avgmember pos based on grouping"
   ]
  },
  {
   "cell_type": "code",
   "execution_count": 804,
   "id": "9a433597",
   "metadata": {},
   "outputs": [],
   "source": [
    "\n",
    "linkedin_data_original = linkedin_data_original.drop(['Unnamed: 0', 'posLocationCode', 'companyUrl', \n",
    "              'companyUrn','companyHasLogo','mbrLocationCode','posLocation'], axis=1)"
   ]
  },
  {
   "cell_type": "code",
   "execution_count": 805,
   "id": "249d9cc3",
   "metadata": {},
   "outputs": [
    {
     "data": {
      "text/plain": [
       "16          NaN\n",
       "18          NaN\n",
       "15647    3106.0\n",
       "15649    3106.0\n",
       "15650    3106.0\n",
       "Name: companyFollowerCount, dtype: float64"
      ]
     },
     "execution_count": 805,
     "metadata": {},
     "output_type": "execute_result"
    }
   ],
   "source": [
    "linkedin_data_original[linkedin_data_original.companyName=='The Star Gold Coast'].companyFollowerCount"
   ]
  },
  {
   "cell_type": "code",
   "execution_count": 806,
   "id": "8df573ce",
   "metadata": {},
   "outputs": [],
   "source": [
    "linkedin_data_companystaff=linkedin_data_original.groupby('companyName').companyStaffCount.min()"
   ]
  },
  {
   "cell_type": "code",
   "execution_count": 807,
   "id": "4309021c",
   "metadata": {},
   "outputs": [],
   "source": [
    "linkedin_data_companyfollower=linkedin_data_original.groupby('companyName').agg(({'companyStaffCount':'min','companyFollowerCount':'min','avgCompanyPosDuration':'min'}))\n",
    "\n",
    "\n",
    "\n"
   ]
  },
  {
   "cell_type": "code",
   "execution_count": 808,
   "id": "049ba455",
   "metadata": {},
   "outputs": [
    {
     "data": {
      "text/html": [
       "<div>\n",
       "<style scoped>\n",
       "    .dataframe tbody tr th:only-of-type {\n",
       "        vertical-align: middle;\n",
       "    }\n",
       "\n",
       "    .dataframe tbody tr th {\n",
       "        vertical-align: top;\n",
       "    }\n",
       "\n",
       "    .dataframe thead th {\n",
       "        text-align: right;\n",
       "    }\n",
       "</style>\n",
       "<table border=\"1\" class=\"dataframe\">\n",
       "  <thead>\n",
       "    <tr style=\"text-align: right;\">\n",
       "      <th></th>\n",
       "      <th>companyStaffCount</th>\n",
       "      <th>companyFollowerCount</th>\n",
       "      <th>avgCompanyPosDuration</th>\n",
       "    </tr>\n",
       "    <tr>\n",
       "      <th>companyName</th>\n",
       "      <th></th>\n",
       "      <th></th>\n",
       "      <th></th>\n",
       "    </tr>\n",
       "  </thead>\n",
       "  <tbody>\n",
       "    <tr>\n",
       "      <th>Eco Energy Group Ltd</th>\n",
       "      <td>1.0</td>\n",
       "      <td>3.0</td>\n",
       "      <td>730.0000</td>\n",
       "    </tr>\n",
       "    <tr>\n",
       "      <th>Electricity Regulatory Authority of Vietnam (ERAV)</th>\n",
       "      <td>4.0</td>\n",
       "      <td>15.0</td>\n",
       "      <td>1146.0000</td>\n",
       "    </tr>\n",
       "    <tr>\n",
       "      <th>(CFSGAM) Colonial First State Global Asset Management</th>\n",
       "      <td>363.0</td>\n",
       "      <td>7533.0</td>\n",
       "      <td>1081.1046</td>\n",
       "    </tr>\n",
       "    <tr>\n",
       "      <th>(Infocube) Jeeves Professional Services AB</th>\n",
       "      <td>33.0</td>\n",
       "      <td>459.0</td>\n",
       "      <td>1187.0000</td>\n",
       "    </tr>\n",
       "    <tr>\n",
       "      <th>(STC) Standard Telephones and Cables</th>\n",
       "      <td>10.0</td>\n",
       "      <td>64.0</td>\n",
       "      <td>1197.5500</td>\n",
       "    </tr>\n",
       "    <tr>\n",
       "      <th>...</th>\n",
       "      <td>...</td>\n",
       "      <td>...</td>\n",
       "      <td>...</td>\n",
       "    </tr>\n",
       "    <tr>\n",
       "      <th>zspace</th>\n",
       "      <td>13.0</td>\n",
       "      <td>448.0</td>\n",
       "      <td>588.3947</td>\n",
       "    </tr>\n",
       "    <tr>\n",
       "      <th>{Studio39}</th>\n",
       "      <td>7.0</td>\n",
       "      <td>15.0</td>\n",
       "      <td>747.5000</td>\n",
       "    </tr>\n",
       "    <tr>\n",
       "      <th>Ãcole Polytechnique de MontrÃ©al</th>\n",
       "      <td>1430.0</td>\n",
       "      <td>51674.0</td>\n",
       "      <td>491.1455</td>\n",
       "    </tr>\n",
       "    <tr>\n",
       "      <th>Ãrebro University</th>\n",
       "      <td>1213.0</td>\n",
       "      <td>30332.0</td>\n",
       "      <td>801.1163</td>\n",
       "    </tr>\n",
       "    <tr>\n",
       "      <th>Ù",
       "ÙØ³Ø³Ù ØªÙØ³Ø¹Ù Ø¯Ø§ÙØ´Ø Ù¾ÚÙÙØ´ Ù ÙÙØ§ÙØ±Û ÙØ±Ø²Ø§Ù</th>\n",
       "      <td>6.0</td>\n",
       "      <td>86.0</td>\n",
       "      <td>395.0000</td>\n",
       "    </tr>\n",
       "  </tbody>\n",
       "</table>\n",
       "<p>13755 rows × 3 columns</p>\n",
       "</div>"
      ],
      "text/plain": [
       "                                                    companyStaffCount  \\\n",
       "companyName                                                             \n",
       " Eco Energy Group Ltd                                             1.0   \n",
       " Electricity Regulatory Authority of Vietnam (E...                4.0   \n",
       "(CFSGAM) Colonial First State Global Asset Mana...              363.0   \n",
       "(Infocube) Jeeves Professional Services AB                       33.0   \n",
       "(STC) Standard Telephones and Cables                             10.0   \n",
       "...                                                               ...   \n",
       "zspace                                                           13.0   \n",
       "{Studio39}                                                        7.0   \n",
       "Ãcole Polytechnique de MontrÃ©al                              1430.0   \n",
       "Ãrebro University                                             1213.0   \n",
       "Ù\n",
       "ÙØ³Ø³Ù ØªÙØ³Ø¹Ù Ø¯Ø§ÙØ´Ø Ù¾ÚÙÙØ´ Ù ...                6.0   \n",
       "\n",
       "                                                    companyFollowerCount  \\\n",
       "companyName                                                                \n",
       " Eco Energy Group Ltd                                                3.0   \n",
       " Electricity Regulatory Authority of Vietnam (E...                  15.0   \n",
       "(CFSGAM) Colonial First State Global Asset Mana...                7533.0   \n",
       "(Infocube) Jeeves Professional Services AB                         459.0   \n",
       "(STC) Standard Telephones and Cables                                64.0   \n",
       "...                                                                  ...   \n",
       "zspace                                                             448.0   \n",
       "{Studio39}                                                          15.0   \n",
       "Ãcole Polytechnique de MontrÃ©al                                51674.0   \n",
       "Ãrebro University                                               30332.0   \n",
       "Ù\n",
       "ÙØ³Ø³Ù ØªÙØ³Ø¹Ù Ø¯Ø§ÙØ´Ø Ù¾ÚÙÙØ´ Ù ...                  86.0   \n",
       "\n",
       "                                                    avgCompanyPosDuration  \n",
       "companyName                                                                \n",
       " Eco Energy Group Ltd                                            730.0000  \n",
       " Electricity Regulatory Authority of Vietnam (E...              1146.0000  \n",
       "(CFSGAM) Colonial First State Global Asset Mana...              1081.1046  \n",
       "(Infocube) Jeeves Professional Services AB                      1187.0000  \n",
       "(STC) Standard Telephones and Cables                            1197.5500  \n",
       "...                                                                   ...  \n",
       "zspace                                                           588.3947  \n",
       "{Studio39}                                                       747.5000  \n",
       "Ãcole Polytechnique de MontrÃ©al                                491.1455  \n",
       "Ãrebro University                                               801.1163  \n",
       "Ù\n",
       "ÙØ³Ø³Ù ØªÙØ³Ø¹Ù Ø¯Ø§ÙØ´Ø Ù¾ÚÙÙØ´ Ù ...               395.0000  \n",
       "\n",
       "[13755 rows x 3 columns]"
      ]
     },
     "execution_count": 808,
     "metadata": {},
     "output_type": "execute_result"
    }
   ],
   "source": [
    "linkedin_data_companyfollower"
   ]
  },
  {
   "cell_type": "code",
   "execution_count": 809,
   "id": "c486c236",
   "metadata": {},
   "outputs": [],
   "source": [
    "linkedin_data_member=linkedin_data_original.groupby('memberUrn').agg(({'avgMemberPosDuration':'min'}))\n"
   ]
  },
  {
   "cell_type": "code",
   "execution_count": 810,
   "id": "ddcc26cc",
   "metadata": {},
   "outputs": [],
   "source": [
    "cleantranscations = pd.merge(linkedin_data_companyfollower, linkedin_data_original, on='companyName')\n"
   ]
  },
  {
   "cell_type": "code",
   "execution_count": 811,
   "id": "58a0dbb6",
   "metadata": {},
   "outputs": [],
   "source": [
    "cleantranscations = pd.merge(cleantranscations, linkedin_data_member, on='memberUrn')\n"
   ]
  },
  {
   "cell_type": "code",
   "execution_count": 812,
   "id": "adcb0a7b",
   "metadata": {},
   "outputs": [
    {
     "data": {
      "text/html": [
       "<div>\n",
       "<style scoped>\n",
       "    .dataframe tbody tr th:only-of-type {\n",
       "        vertical-align: middle;\n",
       "    }\n",
       "\n",
       "    .dataframe tbody tr th {\n",
       "        vertical-align: top;\n",
       "    }\n",
       "\n",
       "    .dataframe thead th {\n",
       "        text-align: right;\n",
       "    }\n",
       "</style>\n",
       "<table border=\"1\" class=\"dataframe\">\n",
       "  <thead>\n",
       "    <tr style=\"text-align: right;\">\n",
       "      <th></th>\n",
       "      <th>companyName</th>\n",
       "      <th>companyStaffCount_x</th>\n",
       "      <th>companyFollowerCount_x</th>\n",
       "      <th>avgCompanyPosDuration_x</th>\n",
       "      <th>ageEstimate</th>\n",
       "      <th>companyFollowerCount_y</th>\n",
       "      <th>companyStaffCount_y</th>\n",
       "      <th>connectionsCount</th>\n",
       "      <th>country</th>\n",
       "      <th>endDate</th>\n",
       "      <th>followable</th>\n",
       "      <th>followersCount</th>\n",
       "      <th>genderEstimate</th>\n",
       "      <th>hasPicture</th>\n",
       "      <th>isPremium</th>\n",
       "      <th>mbrLocation</th>\n",
       "      <th>mbrTitle</th>\n",
       "      <th>memberUrn</th>\n",
       "      <th>posTitle</th>\n",
       "      <th>positionId</th>\n",
       "      <th>startDate</th>\n",
       "      <th>avgMemberPosDuration_x</th>\n",
       "      <th>avgCompanyPosDuration_y</th>\n",
       "      <th>avgMemberPosDuration_y</th>\n",
       "    </tr>\n",
       "  </thead>\n",
       "  <tbody>\n",
       "    <tr>\n",
       "      <th>0</th>\n",
       "      <td>Eco Energy Group Ltd</td>\n",
       "      <td>1.0</td>\n",
       "      <td>3.0</td>\n",
       "      <td>730.0000</td>\n",
       "      <td>44.0</td>\n",
       "      <td>3.0</td>\n",
       "      <td>1.0</td>\n",
       "      <td>500.0</td>\n",
       "      <td>au</td>\n",
       "      <td>NaN</td>\n",
       "      <td>1.0</td>\n",
       "      <td>1847.0</td>\n",
       "      <td>male</td>\n",
       "      <td>KE2Wg0xEiqLhhvzr08-Uhlp1Gn82V1SUChnbVQAxJ9g.jpg</td>\n",
       "      <td>0.0</td>\n",
       "      <td>Sydney, Australia</td>\n",
       "      <td>Ensuring customer success for our valued Veriz...</td>\n",
       "      <td>urn:li:member:4368989</td>\n",
       "      <td>Contract - NSW State Sales Manager</td>\n",
       "      <td>327695.0</td>\n",
       "      <td>2017-07-01</td>\n",
       "      <td>845.80</td>\n",
       "      <td>730.0000</td>\n",
       "      <td>845.80</td>\n",
       "    </tr>\n",
       "    <tr>\n",
       "      <th>1</th>\n",
       "      <td>Avaya</td>\n",
       "      <td>16686.0</td>\n",
       "      <td>272335.0</td>\n",
       "      <td>1113.1341</td>\n",
       "      <td>44.0</td>\n",
       "      <td>272335.0</td>\n",
       "      <td>16686.0</td>\n",
       "      <td>500.0</td>\n",
       "      <td>au</td>\n",
       "      <td>2007-01-01</td>\n",
       "      <td>1.0</td>\n",
       "      <td>1847.0</td>\n",
       "      <td>male</td>\n",
       "      <td>KE2Wg0xEiqLhhvzr08-Uhlp1Gn82V1SUChnbVQAxJ9g.jpg</td>\n",
       "      <td>0.0</td>\n",
       "      <td>Sydney, Australia</td>\n",
       "      <td>Ensuring customer success for our valued Veriz...</td>\n",
       "      <td>urn:li:member:4368989</td>\n",
       "      <td>Strategic Account Director</td>\n",
       "      <td>327702.0</td>\n",
       "      <td>2005-01-01</td>\n",
       "      <td>845.80</td>\n",
       "      <td>1113.1341</td>\n",
       "      <td>845.80</td>\n",
       "    </tr>\n",
       "    <tr>\n",
       "      <th>2</th>\n",
       "      <td>Checkpoint Systems</td>\n",
       "      <td>1557.0</td>\n",
       "      <td>27699.0</td>\n",
       "      <td>1114.3256</td>\n",
       "      <td>44.0</td>\n",
       "      <td>27699.0</td>\n",
       "      <td>1557.0</td>\n",
       "      <td>500.0</td>\n",
       "      <td>au</td>\n",
       "      <td>1998-12-01</td>\n",
       "      <td>1.0</td>\n",
       "      <td>1847.0</td>\n",
       "      <td>male</td>\n",
       "      <td>KE2Wg0xEiqLhhvzr08-Uhlp1Gn82V1SUChnbVQAxJ9g.jpg</td>\n",
       "      <td>0.0</td>\n",
       "      <td>Sydney, Australia</td>\n",
       "      <td>Ensuring customer success for our valued Veriz...</td>\n",
       "      <td>urn:li:member:4368989</td>\n",
       "      <td>National Sales Manager</td>\n",
       "      <td>327704.0</td>\n",
       "      <td>1995-01-01</td>\n",
       "      <td>845.80</td>\n",
       "      <td>1114.3256</td>\n",
       "      <td>845.80</td>\n",
       "    </tr>\n",
       "    <tr>\n",
       "      <th>3</th>\n",
       "      <td>IBM</td>\n",
       "      <td>568533.0</td>\n",
       "      <td>4385293.0</td>\n",
       "      <td>1188.7339</td>\n",
       "      <td>44.0</td>\n",
       "      <td>4385293.0</td>\n",
       "      <td>568533.0</td>\n",
       "      <td>500.0</td>\n",
       "      <td>au</td>\n",
       "      <td>2016-08-01</td>\n",
       "      <td>1.0</td>\n",
       "      <td>1847.0</td>\n",
       "      <td>male</td>\n",
       "      <td>KE2Wg0xEiqLhhvzr08-Uhlp1Gn82V1SUChnbVQAxJ9g.jpg</td>\n",
       "      <td>0.0</td>\n",
       "      <td>Sydney, Australia</td>\n",
       "      <td>Ensuring customer success for our valued Veriz...</td>\n",
       "      <td>urn:li:member:4368989</td>\n",
       "      <td>Cloud Sales Specialsit &amp; Business Development ...</td>\n",
       "      <td>327697.0</td>\n",
       "      <td>2013-11-01</td>\n",
       "      <td>845.80</td>\n",
       "      <td>1188.7339</td>\n",
       "      <td>845.80</td>\n",
       "    </tr>\n",
       "    <tr>\n",
       "      <th>4</th>\n",
       "      <td>IBM</td>\n",
       "      <td>568533.0</td>\n",
       "      <td>4385293.0</td>\n",
       "      <td>1188.7339</td>\n",
       "      <td>44.0</td>\n",
       "      <td>4385293.0</td>\n",
       "      <td>568533.0</td>\n",
       "      <td>500.0</td>\n",
       "      <td>au</td>\n",
       "      <td>2013-12-01</td>\n",
       "      <td>1.0</td>\n",
       "      <td>1847.0</td>\n",
       "      <td>male</td>\n",
       "      <td>KE2Wg0xEiqLhhvzr08-Uhlp1Gn82V1SUChnbVQAxJ9g.jpg</td>\n",
       "      <td>0.0</td>\n",
       "      <td>Sydney, Australia</td>\n",
       "      <td>Ensuring customer success for our valued Veriz...</td>\n",
       "      <td>urn:li:member:4368989</td>\n",
       "      <td>Senior Sales Specialist Systems and Technology...</td>\n",
       "      <td>327698.0</td>\n",
       "      <td>2011-08-01</td>\n",
       "      <td>845.80</td>\n",
       "      <td>1188.7339</td>\n",
       "      <td>845.80</td>\n",
       "    </tr>\n",
       "    <tr>\n",
       "      <th>...</th>\n",
       "      <td>...</td>\n",
       "      <td>...</td>\n",
       "      <td>...</td>\n",
       "      <td>...</td>\n",
       "      <td>...</td>\n",
       "      <td>...</td>\n",
       "      <td>...</td>\n",
       "      <td>...</td>\n",
       "      <td>...</td>\n",
       "      <td>...</td>\n",
       "      <td>...</td>\n",
       "      <td>...</td>\n",
       "      <td>...</td>\n",
       "      <td>...</td>\n",
       "      <td>...</td>\n",
       "      <td>...</td>\n",
       "      <td>...</td>\n",
       "      <td>...</td>\n",
       "      <td>...</td>\n",
       "      <td>...</td>\n",
       "      <td>...</td>\n",
       "      <td>...</td>\n",
       "      <td>...</td>\n",
       "      <td>...</td>\n",
       "    </tr>\n",
       "    <tr>\n",
       "      <th>39530</th>\n",
       "      <td>hockingstuart</td>\n",
       "      <td>613.0</td>\n",
       "      <td>3366.0</td>\n",
       "      <td>1090.7874</td>\n",
       "      <td>31.0</td>\n",
       "      <td>3366.0</td>\n",
       "      <td>613.0</td>\n",
       "      <td>500.0</td>\n",
       "      <td>au</td>\n",
       "      <td>NaN</td>\n",
       "      <td>1.0</td>\n",
       "      <td>1445.0</td>\n",
       "      <td>male</td>\n",
       "      <td>b4ccdf67-9b5e-4efd-9961-d223502a6f20-3.jpg</td>\n",
       "      <td>0.0</td>\n",
       "      <td>Melbourne, Australia</td>\n",
       "      <td>Licensed Estate Agent / Senior Sales Consultan...</td>\n",
       "      <td>urn:li:member:199041981</td>\n",
       "      <td>Licensed Estate Agent / Senior Sales Consultant</td>\n",
       "      <td>219362.0</td>\n",
       "      <td>2007-05-01</td>\n",
       "      <td>NaN</td>\n",
       "      <td>1090.7874</td>\n",
       "      <td>NaN</td>\n",
       "    </tr>\n",
       "    <tr>\n",
       "      <th>39531</th>\n",
       "      <td>iFinance Australia</td>\n",
       "      <td>1.0</td>\n",
       "      <td>9.0</td>\n",
       "      <td>NaN</td>\n",
       "      <td>43.0</td>\n",
       "      <td>9.0</td>\n",
       "      <td>1.0</td>\n",
       "      <td>500.0</td>\n",
       "      <td>au</td>\n",
       "      <td>NaN</td>\n",
       "      <td>1.0</td>\n",
       "      <td>12907.0</td>\n",
       "      <td>male</td>\n",
       "      <td>455e3d81-1be3-4c29-9869-509106764ccd-3.jpg</td>\n",
       "      <td>0.0</td>\n",
       "      <td>Sydney, Australia</td>\n",
       "      <td>Finance Broker at iFinance Australia</td>\n",
       "      <td>urn:li:member:184577140</td>\n",
       "      <td>Finance Broker | Wealth Strategist</td>\n",
       "      <td>324688.0</td>\n",
       "      <td>2011-01-01</td>\n",
       "      <td>4748.00</td>\n",
       "      <td>NaN</td>\n",
       "      <td>4748.00</td>\n",
       "    </tr>\n",
       "    <tr>\n",
       "      <th>39532</th>\n",
       "      <td>sgfleet</td>\n",
       "      <td>321.0</td>\n",
       "      <td>3307.0</td>\n",
       "      <td>848.4765</td>\n",
       "      <td>47.0</td>\n",
       "      <td>3307.0</td>\n",
       "      <td>321.0</td>\n",
       "      <td>36.0</td>\n",
       "      <td>au</td>\n",
       "      <td>NaN</td>\n",
       "      <td>1.0</td>\n",
       "      <td>36.0</td>\n",
       "      <td>male</td>\n",
       "      <td>NaN</td>\n",
       "      <td>0.0</td>\n",
       "      <td>Sydney, Australia</td>\n",
       "      <td>Senior Solution Architect/Technical Lead in Fl...</td>\n",
       "      <td>urn:li:member:29867674</td>\n",
       "      <td>Senior Solution Architect/Technical Lead - Fle...</td>\n",
       "      <td>205053.0</td>\n",
       "      <td>2006-12-01</td>\n",
       "      <td>1095.75</td>\n",
       "      <td>848.4765</td>\n",
       "      <td>1095.75</td>\n",
       "    </tr>\n",
       "    <tr>\n",
       "      <th>39533</th>\n",
       "      <td>sgfleet</td>\n",
       "      <td>321.0</td>\n",
       "      <td>3307.0</td>\n",
       "      <td>848.4765</td>\n",
       "      <td>37.0</td>\n",
       "      <td>3307.0</td>\n",
       "      <td>321.0</td>\n",
       "      <td>155.0</td>\n",
       "      <td>au</td>\n",
       "      <td>NaN</td>\n",
       "      <td>1.0</td>\n",
       "      <td>156.0</td>\n",
       "      <td>NaN</td>\n",
       "      <td>utmAgggztMkoTA7oV8QltfdkWOWkO9YeYKfJTL8UdgE.jpg</td>\n",
       "      <td>0.0</td>\n",
       "      <td>Sydney, Australia</td>\n",
       "      <td>Lead .Net Programmer / Architect at SG Fleet</td>\n",
       "      <td>urn:li:member:37588024</td>\n",
       "      <td>Lead .Net Programmer / Architect</td>\n",
       "      <td>214037.0</td>\n",
       "      <td>2007-04-01</td>\n",
       "      <td>851.00</td>\n",
       "      <td>848.4765</td>\n",
       "      <td>851.00</td>\n",
       "    </tr>\n",
       "    <tr>\n",
       "      <th>39534</th>\n",
       "      <td>yLead</td>\n",
       "      <td>17.0</td>\n",
       "      <td>103.0</td>\n",
       "      <td>856.3571</td>\n",
       "      <td>23.0</td>\n",
       "      <td>103.0</td>\n",
       "      <td>17.0</td>\n",
       "      <td>178.0</td>\n",
       "      <td>au</td>\n",
       "      <td>NaN</td>\n",
       "      <td>1.0</td>\n",
       "      <td>176.0</td>\n",
       "      <td>male</td>\n",
       "      <td>NaN</td>\n",
       "      <td>0.0</td>\n",
       "      <td>Fairney View, Queensland, Australia</td>\n",
       "      <td>Board Member at Dandalion Friends</td>\n",
       "      <td>urn:li:member:459308905</td>\n",
       "      <td>Facilitator</td>\n",
       "      <td>1381.0</td>\n",
       "      <td>2015-01-01</td>\n",
       "      <td>334.00</td>\n",
       "      <td>856.3571</td>\n",
       "      <td>334.00</td>\n",
       "    </tr>\n",
       "  </tbody>\n",
       "</table>\n",
       "<p>39535 rows × 24 columns</p>\n",
       "</div>"
      ],
      "text/plain": [
       "                 companyName  companyStaffCount_x  companyFollowerCount_x  \\\n",
       "0       Eco Energy Group Ltd                  1.0                     3.0   \n",
       "1                      Avaya              16686.0                272335.0   \n",
       "2         Checkpoint Systems               1557.0                 27699.0   \n",
       "3                        IBM             568533.0               4385293.0   \n",
       "4                        IBM             568533.0               4385293.0   \n",
       "...                      ...                  ...                     ...   \n",
       "39530          hockingstuart                613.0                  3366.0   \n",
       "39531     iFinance Australia                  1.0                     9.0   \n",
       "39532                sgfleet                321.0                  3307.0   \n",
       "39533                sgfleet                321.0                  3307.0   \n",
       "39534                  yLead                 17.0                   103.0   \n",
       "\n",
       "       avgCompanyPosDuration_x  ageEstimate  companyFollowerCount_y  \\\n",
       "0                     730.0000         44.0                     3.0   \n",
       "1                    1113.1341         44.0                272335.0   \n",
       "2                    1114.3256         44.0                 27699.0   \n",
       "3                    1188.7339         44.0               4385293.0   \n",
       "4                    1188.7339         44.0               4385293.0   \n",
       "...                        ...          ...                     ...   \n",
       "39530                1090.7874         31.0                  3366.0   \n",
       "39531                      NaN         43.0                     9.0   \n",
       "39532                 848.4765         47.0                  3307.0   \n",
       "39533                 848.4765         37.0                  3307.0   \n",
       "39534                 856.3571         23.0                   103.0   \n",
       "\n",
       "       companyStaffCount_y  connectionsCount country     endDate  followable  \\\n",
       "0                      1.0             500.0      au         NaN         1.0   \n",
       "1                  16686.0             500.0      au  2007-01-01         1.0   \n",
       "2                   1557.0             500.0      au  1998-12-01         1.0   \n",
       "3                 568533.0             500.0      au  2016-08-01         1.0   \n",
       "4                 568533.0             500.0      au  2013-12-01         1.0   \n",
       "...                    ...               ...     ...         ...         ...   \n",
       "39530                613.0             500.0      au         NaN         1.0   \n",
       "39531                  1.0             500.0      au         NaN         1.0   \n",
       "39532                321.0              36.0      au         NaN         1.0   \n",
       "39533                321.0             155.0      au         NaN         1.0   \n",
       "39534                 17.0             178.0      au         NaN         1.0   \n",
       "\n",
       "       followersCount genderEstimate  \\\n",
       "0              1847.0           male   \n",
       "1              1847.0           male   \n",
       "2              1847.0           male   \n",
       "3              1847.0           male   \n",
       "4              1847.0           male   \n",
       "...               ...            ...   \n",
       "39530          1445.0           male   \n",
       "39531         12907.0           male   \n",
       "39532            36.0           male   \n",
       "39533           156.0            NaN   \n",
       "39534           176.0           male   \n",
       "\n",
       "                                            hasPicture  isPremium  \\\n",
       "0      KE2Wg0xEiqLhhvzr08-Uhlp1Gn82V1SUChnbVQAxJ9g.jpg        0.0   \n",
       "1      KE2Wg0xEiqLhhvzr08-Uhlp1Gn82V1SUChnbVQAxJ9g.jpg        0.0   \n",
       "2      KE2Wg0xEiqLhhvzr08-Uhlp1Gn82V1SUChnbVQAxJ9g.jpg        0.0   \n",
       "3      KE2Wg0xEiqLhhvzr08-Uhlp1Gn82V1SUChnbVQAxJ9g.jpg        0.0   \n",
       "4      KE2Wg0xEiqLhhvzr08-Uhlp1Gn82V1SUChnbVQAxJ9g.jpg        0.0   \n",
       "...                                                ...        ...   \n",
       "39530       b4ccdf67-9b5e-4efd-9961-d223502a6f20-3.jpg        0.0   \n",
       "39531       455e3d81-1be3-4c29-9869-509106764ccd-3.jpg        0.0   \n",
       "39532                                              NaN        0.0   \n",
       "39533  utmAgggztMkoTA7oV8QltfdkWOWkO9YeYKfJTL8UdgE.jpg        0.0   \n",
       "39534                                              NaN        0.0   \n",
       "\n",
       "                               mbrLocation  \\\n",
       "0                        Sydney, Australia   \n",
       "1                        Sydney, Australia   \n",
       "2                        Sydney, Australia   \n",
       "3                        Sydney, Australia   \n",
       "4                        Sydney, Australia   \n",
       "...                                    ...   \n",
       "39530                 Melbourne, Australia   \n",
       "39531                    Sydney, Australia   \n",
       "39532                    Sydney, Australia   \n",
       "39533                    Sydney, Australia   \n",
       "39534  Fairney View, Queensland, Australia   \n",
       "\n",
       "                                                mbrTitle  \\\n",
       "0      Ensuring customer success for our valued Veriz...   \n",
       "1      Ensuring customer success for our valued Veriz...   \n",
       "2      Ensuring customer success for our valued Veriz...   \n",
       "3      Ensuring customer success for our valued Veriz...   \n",
       "4      Ensuring customer success for our valued Veriz...   \n",
       "...                                                  ...   \n",
       "39530  Licensed Estate Agent / Senior Sales Consultan...   \n",
       "39531               Finance Broker at iFinance Australia   \n",
       "39532  Senior Solution Architect/Technical Lead in Fl...   \n",
       "39533       Lead .Net Programmer / Architect at SG Fleet   \n",
       "39534                  Board Member at Dandalion Friends   \n",
       "\n",
       "                     memberUrn  \\\n",
       "0        urn:li:member:4368989   \n",
       "1        urn:li:member:4368989   \n",
       "2        urn:li:member:4368989   \n",
       "3        urn:li:member:4368989   \n",
       "4        urn:li:member:4368989   \n",
       "...                        ...   \n",
       "39530  urn:li:member:199041981   \n",
       "39531  urn:li:member:184577140   \n",
       "39532   urn:li:member:29867674   \n",
       "39533   urn:li:member:37588024   \n",
       "39534  urn:li:member:459308905   \n",
       "\n",
       "                                                posTitle  positionId  \\\n",
       "0                    Contract - NSW State Sales Manager     327695.0   \n",
       "1                             Strategic Account Director    327702.0   \n",
       "2                                 National Sales Manager    327704.0   \n",
       "3      Cloud Sales Specialsit & Business Development ...    327697.0   \n",
       "4      Senior Sales Specialist Systems and Technology...    327698.0   \n",
       "...                                                  ...         ...   \n",
       "39530    Licensed Estate Agent / Senior Sales Consultant    219362.0   \n",
       "39531                Finance Broker | Wealth Strategist     324688.0   \n",
       "39532  Senior Solution Architect/Technical Lead - Fle...    205053.0   \n",
       "39533                   Lead .Net Programmer / Architect    214037.0   \n",
       "39534                                        Facilitator      1381.0   \n",
       "\n",
       "        startDate  avgMemberPosDuration_x  avgCompanyPosDuration_y  \\\n",
       "0      2017-07-01                  845.80                 730.0000   \n",
       "1      2005-01-01                  845.80                1113.1341   \n",
       "2      1995-01-01                  845.80                1114.3256   \n",
       "3      2013-11-01                  845.80                1188.7339   \n",
       "4      2011-08-01                  845.80                1188.7339   \n",
       "...           ...                     ...                      ...   \n",
       "39530  2007-05-01                     NaN                1090.7874   \n",
       "39531  2011-01-01                 4748.00                      NaN   \n",
       "39532  2006-12-01                 1095.75                 848.4765   \n",
       "39533  2007-04-01                  851.00                 848.4765   \n",
       "39534  2015-01-01                  334.00                 856.3571   \n",
       "\n",
       "       avgMemberPosDuration_y  \n",
       "0                      845.80  \n",
       "1                      845.80  \n",
       "2                      845.80  \n",
       "3                      845.80  \n",
       "4                      845.80  \n",
       "...                       ...  \n",
       "39530                     NaN  \n",
       "39531                 4748.00  \n",
       "39532                 1095.75  \n",
       "39533                  851.00  \n",
       "39534                  334.00  \n",
       "\n",
       "[39535 rows x 24 columns]"
      ]
     },
     "execution_count": 812,
     "metadata": {},
     "output_type": "execute_result"
    }
   ],
   "source": [
    "cleantranscations"
   ]
  },
  {
   "cell_type": "markdown",
   "id": "6bdf2d59",
   "metadata": {},
   "source": [
    "## data clean \n",
    "### rremove duplicate columns and retain non null values\n",
    "### impute gender values , avg for follower count \n",
    "### run regression to for has picture \n",
    "## some hypothesis with inpremium data -- member location\n",
    "## replaced missing avgcompany,followercount by grouping by company, member\n",
    "## then took mean if still missing\n"
   ]
  },
  {
   "cell_type": "code",
   "execution_count": 813,
   "id": "b9a9fc50",
   "metadata": {},
   "outputs": [],
   "source": [
    "# gwnder \n",
    "## encode category variable (target)\n",
    "import category_encoders as ce\n",
    "import pandas as pd\n",
    "# data=pd.DataFrame({'City':[\n",
    "# 'Delhi','Mumbai','Hydrabad','Chennai','Bangalore','Delhi','Hydrabad','Bangalore','Delhi'\n",
    "# ]})\n",
    "\n",
    "#Create object for one-hot encoding\n",
    "#encoder=ce.OneHotEncoder(cols='genderEstimate',handle_unknown='return_nan',return_df=True,use_cat_names=True)\n",
    "encoder= ce.OrdinalEncoder(cols=['genderEstimate'],return_df=True,\n",
    "                           mapping=[{'col':'genderEstimate',\n",
    "'mapping':{'male':0,'female':1}}])\n",
    "##Fit and transform Data\n",
    "cleantranscations = encoder.fit_transform(cleantranscations)\n",
    "# data_encoded\n",
    "\n",
    "\n"
   ]
  },
  {
   "cell_type": "code",
   "execution_count": 814,
   "id": "57ab3868",
   "metadata": {},
   "outputs": [
    {
     "data": {
      "text/html": [
       "<div>\n",
       "<style scoped>\n",
       "    .dataframe tbody tr th:only-of-type {\n",
       "        vertical-align: middle;\n",
       "    }\n",
       "\n",
       "    .dataframe tbody tr th {\n",
       "        vertical-align: top;\n",
       "    }\n",
       "\n",
       "    .dataframe thead th {\n",
       "        text-align: right;\n",
       "    }\n",
       "</style>\n",
       "<table border=\"1\" class=\"dataframe\">\n",
       "  <thead>\n",
       "    <tr style=\"text-align: right;\">\n",
       "      <th></th>\n",
       "      <th>companyName</th>\n",
       "      <th>companyStaffCount_x</th>\n",
       "      <th>companyFollowerCount_x</th>\n",
       "      <th>avgCompanyPosDuration_x</th>\n",
       "      <th>ageEstimate</th>\n",
       "      <th>companyFollowerCount_y</th>\n",
       "      <th>companyStaffCount_y</th>\n",
       "      <th>connectionsCount</th>\n",
       "      <th>country</th>\n",
       "      <th>endDate</th>\n",
       "      <th>followable</th>\n",
       "      <th>followersCount</th>\n",
       "      <th>genderEstimate</th>\n",
       "      <th>hasPicture</th>\n",
       "      <th>isPremium</th>\n",
       "      <th>mbrLocation</th>\n",
       "      <th>mbrTitle</th>\n",
       "      <th>memberUrn</th>\n",
       "      <th>posTitle</th>\n",
       "      <th>positionId</th>\n",
       "      <th>startDate</th>\n",
       "      <th>avgMemberPosDuration_x</th>\n",
       "      <th>avgCompanyPosDuration_y</th>\n",
       "      <th>avgMemberPosDuration_y</th>\n",
       "    </tr>\n",
       "  </thead>\n",
       "  <tbody>\n",
       "    <tr>\n",
       "      <th>0</th>\n",
       "      <td>Eco Energy Group Ltd</td>\n",
       "      <td>1.0</td>\n",
       "      <td>3.0</td>\n",
       "      <td>730.0000</td>\n",
       "      <td>44.0</td>\n",
       "      <td>3.0</td>\n",
       "      <td>1.0</td>\n",
       "      <td>500.0</td>\n",
       "      <td>au</td>\n",
       "      <td>NaN</td>\n",
       "      <td>1.0</td>\n",
       "      <td>1847.0</td>\n",
       "      <td>0.0</td>\n",
       "      <td>KE2Wg0xEiqLhhvzr08-Uhlp1Gn82V1SUChnbVQAxJ9g.jpg</td>\n",
       "      <td>0.0</td>\n",
       "      <td>Sydney, Australia</td>\n",
       "      <td>Ensuring customer success for our valued Veriz...</td>\n",
       "      <td>urn:li:member:4368989</td>\n",
       "      <td>Contract - NSW State Sales Manager</td>\n",
       "      <td>327695.0</td>\n",
       "      <td>2017-07-01</td>\n",
       "      <td>845.80</td>\n",
       "      <td>730.0000</td>\n",
       "      <td>845.80</td>\n",
       "    </tr>\n",
       "    <tr>\n",
       "      <th>1</th>\n",
       "      <td>Avaya</td>\n",
       "      <td>16686.0</td>\n",
       "      <td>272335.0</td>\n",
       "      <td>1113.1341</td>\n",
       "      <td>44.0</td>\n",
       "      <td>272335.0</td>\n",
       "      <td>16686.0</td>\n",
       "      <td>500.0</td>\n",
       "      <td>au</td>\n",
       "      <td>2007-01-01</td>\n",
       "      <td>1.0</td>\n",
       "      <td>1847.0</td>\n",
       "      <td>0.0</td>\n",
       "      <td>KE2Wg0xEiqLhhvzr08-Uhlp1Gn82V1SUChnbVQAxJ9g.jpg</td>\n",
       "      <td>0.0</td>\n",
       "      <td>Sydney, Australia</td>\n",
       "      <td>Ensuring customer success for our valued Veriz...</td>\n",
       "      <td>urn:li:member:4368989</td>\n",
       "      <td>Strategic Account Director</td>\n",
       "      <td>327702.0</td>\n",
       "      <td>2005-01-01</td>\n",
       "      <td>845.80</td>\n",
       "      <td>1113.1341</td>\n",
       "      <td>845.80</td>\n",
       "    </tr>\n",
       "    <tr>\n",
       "      <th>2</th>\n",
       "      <td>Checkpoint Systems</td>\n",
       "      <td>1557.0</td>\n",
       "      <td>27699.0</td>\n",
       "      <td>1114.3256</td>\n",
       "      <td>44.0</td>\n",
       "      <td>27699.0</td>\n",
       "      <td>1557.0</td>\n",
       "      <td>500.0</td>\n",
       "      <td>au</td>\n",
       "      <td>1998-12-01</td>\n",
       "      <td>1.0</td>\n",
       "      <td>1847.0</td>\n",
       "      <td>0.0</td>\n",
       "      <td>KE2Wg0xEiqLhhvzr08-Uhlp1Gn82V1SUChnbVQAxJ9g.jpg</td>\n",
       "      <td>0.0</td>\n",
       "      <td>Sydney, Australia</td>\n",
       "      <td>Ensuring customer success for our valued Veriz...</td>\n",
       "      <td>urn:li:member:4368989</td>\n",
       "      <td>National Sales Manager</td>\n",
       "      <td>327704.0</td>\n",
       "      <td>1995-01-01</td>\n",
       "      <td>845.80</td>\n",
       "      <td>1114.3256</td>\n",
       "      <td>845.80</td>\n",
       "    </tr>\n",
       "    <tr>\n",
       "      <th>3</th>\n",
       "      <td>IBM</td>\n",
       "      <td>568533.0</td>\n",
       "      <td>4385293.0</td>\n",
       "      <td>1188.7339</td>\n",
       "      <td>44.0</td>\n",
       "      <td>4385293.0</td>\n",
       "      <td>568533.0</td>\n",
       "      <td>500.0</td>\n",
       "      <td>au</td>\n",
       "      <td>2016-08-01</td>\n",
       "      <td>1.0</td>\n",
       "      <td>1847.0</td>\n",
       "      <td>0.0</td>\n",
       "      <td>KE2Wg0xEiqLhhvzr08-Uhlp1Gn82V1SUChnbVQAxJ9g.jpg</td>\n",
       "      <td>0.0</td>\n",
       "      <td>Sydney, Australia</td>\n",
       "      <td>Ensuring customer success for our valued Veriz...</td>\n",
       "      <td>urn:li:member:4368989</td>\n",
       "      <td>Cloud Sales Specialsit &amp; Business Development ...</td>\n",
       "      <td>327697.0</td>\n",
       "      <td>2013-11-01</td>\n",
       "      <td>845.80</td>\n",
       "      <td>1188.7339</td>\n",
       "      <td>845.80</td>\n",
       "    </tr>\n",
       "    <tr>\n",
       "      <th>4</th>\n",
       "      <td>IBM</td>\n",
       "      <td>568533.0</td>\n",
       "      <td>4385293.0</td>\n",
       "      <td>1188.7339</td>\n",
       "      <td>44.0</td>\n",
       "      <td>4385293.0</td>\n",
       "      <td>568533.0</td>\n",
       "      <td>500.0</td>\n",
       "      <td>au</td>\n",
       "      <td>2013-12-01</td>\n",
       "      <td>1.0</td>\n",
       "      <td>1847.0</td>\n",
       "      <td>0.0</td>\n",
       "      <td>KE2Wg0xEiqLhhvzr08-Uhlp1Gn82V1SUChnbVQAxJ9g.jpg</td>\n",
       "      <td>0.0</td>\n",
       "      <td>Sydney, Australia</td>\n",
       "      <td>Ensuring customer success for our valued Veriz...</td>\n",
       "      <td>urn:li:member:4368989</td>\n",
       "      <td>Senior Sales Specialist Systems and Technology...</td>\n",
       "      <td>327698.0</td>\n",
       "      <td>2011-08-01</td>\n",
       "      <td>845.80</td>\n",
       "      <td>1188.7339</td>\n",
       "      <td>845.80</td>\n",
       "    </tr>\n",
       "    <tr>\n",
       "      <th>...</th>\n",
       "      <td>...</td>\n",
       "      <td>...</td>\n",
       "      <td>...</td>\n",
       "      <td>...</td>\n",
       "      <td>...</td>\n",
       "      <td>...</td>\n",
       "      <td>...</td>\n",
       "      <td>...</td>\n",
       "      <td>...</td>\n",
       "      <td>...</td>\n",
       "      <td>...</td>\n",
       "      <td>...</td>\n",
       "      <td>...</td>\n",
       "      <td>...</td>\n",
       "      <td>...</td>\n",
       "      <td>...</td>\n",
       "      <td>...</td>\n",
       "      <td>...</td>\n",
       "      <td>...</td>\n",
       "      <td>...</td>\n",
       "      <td>...</td>\n",
       "      <td>...</td>\n",
       "      <td>...</td>\n",
       "      <td>...</td>\n",
       "    </tr>\n",
       "    <tr>\n",
       "      <th>39530</th>\n",
       "      <td>hockingstuart</td>\n",
       "      <td>613.0</td>\n",
       "      <td>3366.0</td>\n",
       "      <td>1090.7874</td>\n",
       "      <td>31.0</td>\n",
       "      <td>3366.0</td>\n",
       "      <td>613.0</td>\n",
       "      <td>500.0</td>\n",
       "      <td>au</td>\n",
       "      <td>NaN</td>\n",
       "      <td>1.0</td>\n",
       "      <td>1445.0</td>\n",
       "      <td>0.0</td>\n",
       "      <td>b4ccdf67-9b5e-4efd-9961-d223502a6f20-3.jpg</td>\n",
       "      <td>0.0</td>\n",
       "      <td>Melbourne, Australia</td>\n",
       "      <td>Licensed Estate Agent / Senior Sales Consultan...</td>\n",
       "      <td>urn:li:member:199041981</td>\n",
       "      <td>Licensed Estate Agent / Senior Sales Consultant</td>\n",
       "      <td>219362.0</td>\n",
       "      <td>2007-05-01</td>\n",
       "      <td>NaN</td>\n",
       "      <td>1090.7874</td>\n",
       "      <td>NaN</td>\n",
       "    </tr>\n",
       "    <tr>\n",
       "      <th>39531</th>\n",
       "      <td>iFinance Australia</td>\n",
       "      <td>1.0</td>\n",
       "      <td>9.0</td>\n",
       "      <td>NaN</td>\n",
       "      <td>43.0</td>\n",
       "      <td>9.0</td>\n",
       "      <td>1.0</td>\n",
       "      <td>500.0</td>\n",
       "      <td>au</td>\n",
       "      <td>NaN</td>\n",
       "      <td>1.0</td>\n",
       "      <td>12907.0</td>\n",
       "      <td>0.0</td>\n",
       "      <td>455e3d81-1be3-4c29-9869-509106764ccd-3.jpg</td>\n",
       "      <td>0.0</td>\n",
       "      <td>Sydney, Australia</td>\n",
       "      <td>Finance Broker at iFinance Australia</td>\n",
       "      <td>urn:li:member:184577140</td>\n",
       "      <td>Finance Broker | Wealth Strategist</td>\n",
       "      <td>324688.0</td>\n",
       "      <td>2011-01-01</td>\n",
       "      <td>4748.00</td>\n",
       "      <td>NaN</td>\n",
       "      <td>4748.00</td>\n",
       "    </tr>\n",
       "    <tr>\n",
       "      <th>39532</th>\n",
       "      <td>sgfleet</td>\n",
       "      <td>321.0</td>\n",
       "      <td>3307.0</td>\n",
       "      <td>848.4765</td>\n",
       "      <td>47.0</td>\n",
       "      <td>3307.0</td>\n",
       "      <td>321.0</td>\n",
       "      <td>36.0</td>\n",
       "      <td>au</td>\n",
       "      <td>NaN</td>\n",
       "      <td>1.0</td>\n",
       "      <td>36.0</td>\n",
       "      <td>0.0</td>\n",
       "      <td>NaN</td>\n",
       "      <td>0.0</td>\n",
       "      <td>Sydney, Australia</td>\n",
       "      <td>Senior Solution Architect/Technical Lead in Fl...</td>\n",
       "      <td>urn:li:member:29867674</td>\n",
       "      <td>Senior Solution Architect/Technical Lead - Fle...</td>\n",
       "      <td>205053.0</td>\n",
       "      <td>2006-12-01</td>\n",
       "      <td>1095.75</td>\n",
       "      <td>848.4765</td>\n",
       "      <td>1095.75</td>\n",
       "    </tr>\n",
       "    <tr>\n",
       "      <th>39533</th>\n",
       "      <td>sgfleet</td>\n",
       "      <td>321.0</td>\n",
       "      <td>3307.0</td>\n",
       "      <td>848.4765</td>\n",
       "      <td>37.0</td>\n",
       "      <td>3307.0</td>\n",
       "      <td>321.0</td>\n",
       "      <td>155.0</td>\n",
       "      <td>au</td>\n",
       "      <td>NaN</td>\n",
       "      <td>1.0</td>\n",
       "      <td>156.0</td>\n",
       "      <td>-1.0</td>\n",
       "      <td>utmAgggztMkoTA7oV8QltfdkWOWkO9YeYKfJTL8UdgE.jpg</td>\n",
       "      <td>0.0</td>\n",
       "      <td>Sydney, Australia</td>\n",
       "      <td>Lead .Net Programmer / Architect at SG Fleet</td>\n",
       "      <td>urn:li:member:37588024</td>\n",
       "      <td>Lead .Net Programmer / Architect</td>\n",
       "      <td>214037.0</td>\n",
       "      <td>2007-04-01</td>\n",
       "      <td>851.00</td>\n",
       "      <td>848.4765</td>\n",
       "      <td>851.00</td>\n",
       "    </tr>\n",
       "    <tr>\n",
       "      <th>39534</th>\n",
       "      <td>yLead</td>\n",
       "      <td>17.0</td>\n",
       "      <td>103.0</td>\n",
       "      <td>856.3571</td>\n",
       "      <td>23.0</td>\n",
       "      <td>103.0</td>\n",
       "      <td>17.0</td>\n",
       "      <td>178.0</td>\n",
       "      <td>au</td>\n",
       "      <td>NaN</td>\n",
       "      <td>1.0</td>\n",
       "      <td>176.0</td>\n",
       "      <td>0.0</td>\n",
       "      <td>NaN</td>\n",
       "      <td>0.0</td>\n",
       "      <td>Fairney View, Queensland, Australia</td>\n",
       "      <td>Board Member at Dandalion Friends</td>\n",
       "      <td>urn:li:member:459308905</td>\n",
       "      <td>Facilitator</td>\n",
       "      <td>1381.0</td>\n",
       "      <td>2015-01-01</td>\n",
       "      <td>334.00</td>\n",
       "      <td>856.3571</td>\n",
       "      <td>334.00</td>\n",
       "    </tr>\n",
       "  </tbody>\n",
       "</table>\n",
       "<p>39535 rows × 24 columns</p>\n",
       "</div>"
      ],
      "text/plain": [
       "                 companyName  companyStaffCount_x  companyFollowerCount_x  \\\n",
       "0       Eco Energy Group Ltd                  1.0                     3.0   \n",
       "1                      Avaya              16686.0                272335.0   \n",
       "2         Checkpoint Systems               1557.0                 27699.0   \n",
       "3                        IBM             568533.0               4385293.0   \n",
       "4                        IBM             568533.0               4385293.0   \n",
       "...                      ...                  ...                     ...   \n",
       "39530          hockingstuart                613.0                  3366.0   \n",
       "39531     iFinance Australia                  1.0                     9.0   \n",
       "39532                sgfleet                321.0                  3307.0   \n",
       "39533                sgfleet                321.0                  3307.0   \n",
       "39534                  yLead                 17.0                   103.0   \n",
       "\n",
       "       avgCompanyPosDuration_x  ageEstimate  companyFollowerCount_y  \\\n",
       "0                     730.0000         44.0                     3.0   \n",
       "1                    1113.1341         44.0                272335.0   \n",
       "2                    1114.3256         44.0                 27699.0   \n",
       "3                    1188.7339         44.0               4385293.0   \n",
       "4                    1188.7339         44.0               4385293.0   \n",
       "...                        ...          ...                     ...   \n",
       "39530                1090.7874         31.0                  3366.0   \n",
       "39531                      NaN         43.0                     9.0   \n",
       "39532                 848.4765         47.0                  3307.0   \n",
       "39533                 848.4765         37.0                  3307.0   \n",
       "39534                 856.3571         23.0                   103.0   \n",
       "\n",
       "       companyStaffCount_y  connectionsCount country     endDate  followable  \\\n",
       "0                      1.0             500.0      au         NaN         1.0   \n",
       "1                  16686.0             500.0      au  2007-01-01         1.0   \n",
       "2                   1557.0             500.0      au  1998-12-01         1.0   \n",
       "3                 568533.0             500.0      au  2016-08-01         1.0   \n",
       "4                 568533.0             500.0      au  2013-12-01         1.0   \n",
       "...                    ...               ...     ...         ...         ...   \n",
       "39530                613.0             500.0      au         NaN         1.0   \n",
       "39531                  1.0             500.0      au         NaN         1.0   \n",
       "39532                321.0              36.0      au         NaN         1.0   \n",
       "39533                321.0             155.0      au         NaN         1.0   \n",
       "39534                 17.0             178.0      au         NaN         1.0   \n",
       "\n",
       "       followersCount  genderEstimate  \\\n",
       "0              1847.0             0.0   \n",
       "1              1847.0             0.0   \n",
       "2              1847.0             0.0   \n",
       "3              1847.0             0.0   \n",
       "4              1847.0             0.0   \n",
       "...               ...             ...   \n",
       "39530          1445.0             0.0   \n",
       "39531         12907.0             0.0   \n",
       "39532            36.0             0.0   \n",
       "39533           156.0            -1.0   \n",
       "39534           176.0             0.0   \n",
       "\n",
       "                                            hasPicture  isPremium  \\\n",
       "0      KE2Wg0xEiqLhhvzr08-Uhlp1Gn82V1SUChnbVQAxJ9g.jpg        0.0   \n",
       "1      KE2Wg0xEiqLhhvzr08-Uhlp1Gn82V1SUChnbVQAxJ9g.jpg        0.0   \n",
       "2      KE2Wg0xEiqLhhvzr08-Uhlp1Gn82V1SUChnbVQAxJ9g.jpg        0.0   \n",
       "3      KE2Wg0xEiqLhhvzr08-Uhlp1Gn82V1SUChnbVQAxJ9g.jpg        0.0   \n",
       "4      KE2Wg0xEiqLhhvzr08-Uhlp1Gn82V1SUChnbVQAxJ9g.jpg        0.0   \n",
       "...                                                ...        ...   \n",
       "39530       b4ccdf67-9b5e-4efd-9961-d223502a6f20-3.jpg        0.0   \n",
       "39531       455e3d81-1be3-4c29-9869-509106764ccd-3.jpg        0.0   \n",
       "39532                                              NaN        0.0   \n",
       "39533  utmAgggztMkoTA7oV8QltfdkWOWkO9YeYKfJTL8UdgE.jpg        0.0   \n",
       "39534                                              NaN        0.0   \n",
       "\n",
       "                               mbrLocation  \\\n",
       "0                        Sydney, Australia   \n",
       "1                        Sydney, Australia   \n",
       "2                        Sydney, Australia   \n",
       "3                        Sydney, Australia   \n",
       "4                        Sydney, Australia   \n",
       "...                                    ...   \n",
       "39530                 Melbourne, Australia   \n",
       "39531                    Sydney, Australia   \n",
       "39532                    Sydney, Australia   \n",
       "39533                    Sydney, Australia   \n",
       "39534  Fairney View, Queensland, Australia   \n",
       "\n",
       "                                                mbrTitle  \\\n",
       "0      Ensuring customer success for our valued Veriz...   \n",
       "1      Ensuring customer success for our valued Veriz...   \n",
       "2      Ensuring customer success for our valued Veriz...   \n",
       "3      Ensuring customer success for our valued Veriz...   \n",
       "4      Ensuring customer success for our valued Veriz...   \n",
       "...                                                  ...   \n",
       "39530  Licensed Estate Agent / Senior Sales Consultan...   \n",
       "39531               Finance Broker at iFinance Australia   \n",
       "39532  Senior Solution Architect/Technical Lead in Fl...   \n",
       "39533       Lead .Net Programmer / Architect at SG Fleet   \n",
       "39534                  Board Member at Dandalion Friends   \n",
       "\n",
       "                     memberUrn  \\\n",
       "0        urn:li:member:4368989   \n",
       "1        urn:li:member:4368989   \n",
       "2        urn:li:member:4368989   \n",
       "3        urn:li:member:4368989   \n",
       "4        urn:li:member:4368989   \n",
       "...                        ...   \n",
       "39530  urn:li:member:199041981   \n",
       "39531  urn:li:member:184577140   \n",
       "39532   urn:li:member:29867674   \n",
       "39533   urn:li:member:37588024   \n",
       "39534  urn:li:member:459308905   \n",
       "\n",
       "                                                posTitle  positionId  \\\n",
       "0                    Contract - NSW State Sales Manager     327695.0   \n",
       "1                             Strategic Account Director    327702.0   \n",
       "2                                 National Sales Manager    327704.0   \n",
       "3      Cloud Sales Specialsit & Business Development ...    327697.0   \n",
       "4      Senior Sales Specialist Systems and Technology...    327698.0   \n",
       "...                                                  ...         ...   \n",
       "39530    Licensed Estate Agent / Senior Sales Consultant    219362.0   \n",
       "39531                Finance Broker | Wealth Strategist     324688.0   \n",
       "39532  Senior Solution Architect/Technical Lead - Fle...    205053.0   \n",
       "39533                   Lead .Net Programmer / Architect    214037.0   \n",
       "39534                                        Facilitator      1381.0   \n",
       "\n",
       "        startDate  avgMemberPosDuration_x  avgCompanyPosDuration_y  \\\n",
       "0      2017-07-01                  845.80                 730.0000   \n",
       "1      2005-01-01                  845.80                1113.1341   \n",
       "2      1995-01-01                  845.80                1114.3256   \n",
       "3      2013-11-01                  845.80                1188.7339   \n",
       "4      2011-08-01                  845.80                1188.7339   \n",
       "...           ...                     ...                      ...   \n",
       "39530  2007-05-01                     NaN                1090.7874   \n",
       "39531  2011-01-01                 4748.00                      NaN   \n",
       "39532  2006-12-01                 1095.75                 848.4765   \n",
       "39533  2007-04-01                  851.00                 848.4765   \n",
       "39534  2015-01-01                  334.00                 856.3571   \n",
       "\n",
       "       avgMemberPosDuration_y  \n",
       "0                      845.80  \n",
       "1                      845.80  \n",
       "2                      845.80  \n",
       "3                      845.80  \n",
       "4                      845.80  \n",
       "...                       ...  \n",
       "39530                     NaN  \n",
       "39531                 4748.00  \n",
       "39532                 1095.75  \n",
       "39533                  851.00  \n",
       "39534                  334.00  \n",
       "\n",
       "[39535 rows x 24 columns]"
      ]
     },
     "execution_count": 814,
     "metadata": {},
     "output_type": "execute_result"
    }
   ],
   "source": [
    "cleantranscations"
   ]
  },
  {
   "cell_type": "code",
   "execution_count": 815,
   "id": "2a5aa18b",
   "metadata": {},
   "outputs": [
    {
     "data": {
      "text/plain": [
       "companyName                 0.00\n",
       "companyStaffCount_x         2.81\n",
       "companyFollowerCount_x      3.65\n",
       "avgCompanyPosDuration_x     2.15\n",
       "ageEstimate                 0.00\n",
       "companyFollowerCount_y      3.70\n",
       "companyStaffCount_y         2.87\n",
       "connectionsCount            0.00\n",
       "country                     0.00\n",
       "endDate                    22.54\n",
       "followable                  0.00\n",
       "followersCount              0.00\n",
       "genderEstimate              0.00\n",
       "hasPicture                 25.13\n",
       "isPremium                   0.00\n",
       "mbrLocation                 0.00\n",
       "mbrTitle                    0.00\n",
       "memberUrn                   0.00\n",
       "posTitle                    0.00\n",
       "positionId                  0.00\n",
       "startDate                   0.04\n",
       "avgMemberPosDuration_x      0.57\n",
       "avgCompanyPosDuration_y     2.15\n",
       "avgMemberPosDuration_y      0.57\n",
       "dtype: float64"
      ]
     },
     "execution_count": 815,
     "metadata": {},
     "output_type": "execute_result"
    }
   ],
   "source": [
    "round(cleantranscations.isnull().sum() / cleantranscations.isnull().count() * 100, 2)"
   ]
  },
  {
   "cell_type": "code",
   "execution_count": 816,
   "id": "6bd47f15",
   "metadata": {},
   "outputs": [],
   "source": [
    "\n",
    "cleantranscations=cleantranscations.drop(['companyStaffCount_y','companyFollowerCount_y','avgCompanyPosDuration_y','avgMemberPosDuration_y'], axis=1)\n"
   ]
  },
  {
   "cell_type": "code",
   "execution_count": 817,
   "id": "8f49d687",
   "metadata": {
    "scrolled": true
   },
   "outputs": [
    {
     "data": {
      "text/plain": [
       "companyName                 0.00\n",
       "companyStaffCount_x         2.81\n",
       "companyFollowerCount_x      3.65\n",
       "avgCompanyPosDuration_x     2.15\n",
       "ageEstimate                 0.00\n",
       "connectionsCount            0.00\n",
       "country                     0.00\n",
       "endDate                    22.54\n",
       "followable                  0.00\n",
       "followersCount              0.00\n",
       "genderEstimate              0.00\n",
       "hasPicture                 25.13\n",
       "isPremium                   0.00\n",
       "mbrLocation                 0.00\n",
       "mbrTitle                    0.00\n",
       "memberUrn                   0.00\n",
       "posTitle                    0.00\n",
       "positionId                  0.00\n",
       "startDate                   0.04\n",
       "avgMemberPosDuration_x      0.57\n",
       "dtype: float64"
      ]
     },
     "execution_count": 817,
     "metadata": {},
     "output_type": "execute_result"
    }
   ],
   "source": [
    "round(cleantranscations.isnull().sum() / cleantranscations.isnull().count() * 100, 2)"
   ]
  },
  {
   "cell_type": "code",
   "execution_count": 818,
   "id": "4bb82ab6",
   "metadata": {},
   "outputs": [],
   "source": [
    "cleantranscations['companyStaffCount_x'].fillna(int(cleantranscations['companyStaffCount_x'].mean()), inplace=True)\n",
    "cleantranscations['companyFollowerCount_x'].fillna(int(cleantranscations['companyFollowerCount_x'].mean()), inplace=True)\n",
    "cleantranscations['avgCompanyPosDuration_x'].fillna(int(cleantranscations['avgCompanyPosDuration_x'].mean()), inplace=True)\n",
    "cleantranscations['avgMemberPosDuration_x'].fillna(int(cleantranscations['avgMemberPosDuration_x'].mean()), inplace=True)\n",
    "\n"
   ]
  },
  {
   "cell_type": "code",
   "execution_count": 819,
   "id": "025c8617",
   "metadata": {
    "scrolled": true
   },
   "outputs": [
    {
     "data": {
      "text/plain": [
       "au    39535\n",
       "Name: country, dtype: int64"
      ]
     },
     "execution_count": 819,
     "metadata": {},
     "output_type": "execute_result"
    }
   ],
   "source": [
    "## impute gender estimate\n",
    "cleantranscations.country.value_counts()\n"
   ]
  },
  {
   "cell_type": "code",
   "execution_count": 820,
   "id": "24d833c2",
   "metadata": {},
   "outputs": [],
   "source": [
    "## haspicture change 0 and 1 \n",
    "cleantranscations['hasPicture'] = cleantranscations['hasPicture'].fillna(0)\n",
    "cleantranscations.loc[cleantranscations[\"hasPicture\"] !=0, \"hasPicture\"] = 1\n",
    "   \n",
    "# linkedin_data_copy[(linkedin_data_copy['hasPicture']!=0)].hasPicture.replace()\n",
    "#cleantranscations[(cleantranscations['hasPicture']!=0)]\n"
   ]
  },
  {
   "cell_type": "code",
   "execution_count": 821,
   "id": "8547e6f8",
   "metadata": {},
   "outputs": [
    {
     "data": {
      "text/plain": [
       "0.0    34381\n",
       "1.0     5154\n",
       "Name: isPremium, dtype: int64"
      ]
     },
     "execution_count": 821,
     "metadata": {},
     "output_type": "execute_result"
    }
   ],
   "source": [
    "cleantranscations.isPremium.value_counts()"
   ]
  },
  {
   "cell_type": "markdown",
   "id": "93d6e880",
   "metadata": {},
   "source": [
    "correlation"
   ]
  },
  {
   "cell_type": "markdown",
   "id": "83c8207f",
   "metadata": {},
   "source": [
    "\n",
    "# regressions to impute the -1 gender to a real value (eother o ot 1 )"
   ]
  },
  {
   "cell_type": "code",
   "execution_count": 822,
   "id": "d303fbf2",
   "metadata": {},
   "outputs": [],
   "source": [
    "imputegendertransaction= cleantranscations.copy()\n",
    "imputegendertransaction['genderEstimate']=imputegendertransaction.genderEstimate.replace(-1, np.nan)\n",
    "\n",
    "X = imputegendertransaction.drop([\"isPremium\"], axis=1)\n",
    "y = imputegendertransaction[\"isPremium\"]\n",
    "\n"
   ]
  },
  {
   "cell_type": "code",
   "execution_count": 823,
   "id": "a3c982aa",
   "metadata": {},
   "outputs": [
    {
     "data": {
      "text/plain": [
       "0.0    23832\n",
       "1.0    11733\n",
       "Name: genderEstimate, dtype: int64"
      ]
     },
     "execution_count": 823,
     "metadata": {},
     "output_type": "execute_result"
    }
   ],
   "source": [
    "imputegendertransaction.genderEstimate.value_counts()"
   ]
  },
  {
   "cell_type": "code",
   "execution_count": 824,
   "id": "67c7974e",
   "metadata": {},
   "outputs": [],
   "source": [
    "X_train,X_test,y_train,y_test=train_test_split(X,y,test_size=0.3,random_state=1,stratify=y)\n"
   ]
  },
  {
   "cell_type": "code",
   "execution_count": 825,
   "id": "0a3e5e50",
   "metadata": {},
   "outputs": [],
   "source": [
    "# Columns to impute\n",
    "reqd_col_for_impute = [\"genderEstimate\"]\n",
    "\n",
    "# Simple Imputer with Mode\n",
    "imputer = SimpleImputer(strategy=\"most_frequent\")\n",
    "\n",
    "# Fit and transform the train data\n",
    "X_train[reqd_col_for_impute] = imputer.fit_transform(X_train[reqd_col_for_impute])\n",
    "\n",
    "# Transform the test data\n",
    "X_test[reqd_col_for_impute] = imputer.transform(X_test[reqd_col_for_impute])\n"
   ]
  },
  {
   "cell_type": "code",
   "execution_count": 826,
   "id": "721cb431",
   "metadata": {},
   "outputs": [
    {
     "name": "stdout",
     "output_type": "stream",
     "text": [
      "companyName                   0\n",
      "companyStaffCount_x           0\n",
      "companyFollowerCount_x        0\n",
      "avgCompanyPosDuration_x       0\n",
      "ageEstimate                   0\n",
      "connectionsCount              0\n",
      "country                       0\n",
      "endDate                    6263\n",
      "followable                    0\n",
      "followersCount                0\n",
      "genderEstimate                0\n",
      "hasPicture                    0\n",
      "mbrLocation                   0\n",
      "mbrTitle                      0\n",
      "memberUrn                     0\n",
      "posTitle                      0\n",
      "positionId                    0\n",
      "startDate                     9\n",
      "avgMemberPosDuration_x        0\n",
      "dtype: int64\n",
      "------------------------------\n",
      "companyName                   0\n",
      "companyStaffCount_x           0\n",
      "companyFollowerCount_x        0\n",
      "avgCompanyPosDuration_x       0\n",
      "ageEstimate                   0\n",
      "connectionsCount              0\n",
      "country                       0\n",
      "endDate                    2647\n",
      "followable                    0\n",
      "followersCount                0\n",
      "genderEstimate                0\n",
      "hasPicture                    0\n",
      "mbrLocation                   0\n",
      "mbrTitle                      0\n",
      "memberUrn                     0\n",
      "posTitle                      0\n",
      "positionId                    0\n",
      "startDate                     7\n",
      "avgMemberPosDuration_x        0\n",
      "dtype: int64\n"
     ]
    }
   ],
   "source": [
    "print(X_train.isna().sum())\n",
    "print(\"-\" * 30)\n",
    "print(X_test.isna().sum())"
   ]
  },
  {
   "cell_type": "code",
   "execution_count": 827,
   "id": "7bc8a64a",
   "metadata": {},
   "outputs": [
    {
     "data": {
      "text/plain": [
       "0.0    19484\n",
       "1.0     8190\n",
       "Name: genderEstimate, dtype: int64"
      ]
     },
     "execution_count": 827,
     "metadata": {},
     "output_type": "execute_result"
    }
   ],
   "source": [
    "X_train.genderEstimate.value_counts()\n"
   ]
  },
  {
   "cell_type": "code",
   "execution_count": 828,
   "id": "07c25402",
   "metadata": {},
   "outputs": [
    {
     "data": {
      "text/plain": [
       "0.0    23832\n",
       "1.0    11733\n",
       "Name: genderEstimate, dtype: int64"
      ]
     },
     "execution_count": 828,
     "metadata": {},
     "output_type": "execute_result"
    }
   ],
   "source": [
    "imputegendertransaction.genderEstimate.value_counts()"
   ]
  },
  {
   "cell_type": "code",
   "execution_count": 829,
   "id": "1c891eaf",
   "metadata": {},
   "outputs": [
    {
     "name": "stdout",
     "output_type": "stream",
     "text": [
      "(27674, 19) (11861, 19)\n"
     ]
    }
   ],
   "source": [
    "\n",
    "print(X_train.shape, X_test.shape)"
   ]
  },
  {
   "cell_type": "code",
   "execution_count": 830,
   "id": "6f2c3f61",
   "metadata": {},
   "outputs": [
    {
     "data": {
      "text/plain": [
       "0.0    34381\n",
       "1.0     5154\n",
       "Name: isPremium, dtype: int64"
      ]
     },
     "execution_count": 830,
     "metadata": {},
     "output_type": "execute_result"
    }
   ],
   "source": [
    "imputegendertransaction.isPremium.value_counts()"
   ]
  },
  {
   "cell_type": "markdown",
   "id": "c8df8470",
   "metadata": {},
   "source": [
    "### predicting gender KNN using knn imputer\n",
    "## how to select value of k \n",
    "## after imputing, features good for in premium\n",
    "## random forecast, x-g boost\n",
    "## hypothesis, "
   ]
  },
  {
   "cell_type": "code",
   "execution_count": 831,
   "id": "b69f1751",
   "metadata": {},
   "outputs": [],
   "source": [
    "from sklearn.impute import KNNImputer\n",
    "import numpy as np"
   ]
  },
  {
   "cell_type": "code",
   "execution_count": 832,
   "id": "665284b1",
   "metadata": {},
   "outputs": [
    {
     "data": {
      "text/html": [
       "<div>\n",
       "<style scoped>\n",
       "    .dataframe tbody tr th:only-of-type {\n",
       "        vertical-align: middle;\n",
       "    }\n",
       "\n",
       "    .dataframe tbody tr th {\n",
       "        vertical-align: top;\n",
       "    }\n",
       "\n",
       "    .dataframe thead th {\n",
       "        text-align: right;\n",
       "    }\n",
       "</style>\n",
       "<table border=\"1\" class=\"dataframe\">\n",
       "  <thead>\n",
       "    <tr style=\"text-align: right;\">\n",
       "      <th></th>\n",
       "      <th>companyName</th>\n",
       "      <th>companyStaffCount_x</th>\n",
       "      <th>companyFollowerCount_x</th>\n",
       "      <th>avgCompanyPosDuration_x</th>\n",
       "      <th>ageEstimate</th>\n",
       "      <th>connectionsCount</th>\n",
       "      <th>country</th>\n",
       "      <th>endDate</th>\n",
       "      <th>followable</th>\n",
       "      <th>followersCount</th>\n",
       "      <th>genderEstimate</th>\n",
       "      <th>hasPicture</th>\n",
       "      <th>isPremium</th>\n",
       "      <th>mbrLocation</th>\n",
       "      <th>mbrTitle</th>\n",
       "      <th>memberUrn</th>\n",
       "      <th>posTitle</th>\n",
       "      <th>positionId</th>\n",
       "      <th>startDate</th>\n",
       "      <th>avgMemberPosDuration_x</th>\n",
       "    </tr>\n",
       "  </thead>\n",
       "  <tbody>\n",
       "    <tr>\n",
       "      <th>0</th>\n",
       "      <td>Eco Energy Group Ltd</td>\n",
       "      <td>1.0</td>\n",
       "      <td>3.0</td>\n",
       "      <td>730.0000</td>\n",
       "      <td>44.0</td>\n",
       "      <td>500.0</td>\n",
       "      <td>au</td>\n",
       "      <td>NaN</td>\n",
       "      <td>1.0</td>\n",
       "      <td>1847.0</td>\n",
       "      <td>0.0</td>\n",
       "      <td>1</td>\n",
       "      <td>0.0</td>\n",
       "      <td>Sydney, Australia</td>\n",
       "      <td>Ensuring customer success for our valued Veriz...</td>\n",
       "      <td>urn:li:member:4368989</td>\n",
       "      <td>Contract - NSW State Sales Manager</td>\n",
       "      <td>327695.0</td>\n",
       "      <td>2017-07-01</td>\n",
       "      <td>845.8</td>\n",
       "    </tr>\n",
       "    <tr>\n",
       "      <th>1</th>\n",
       "      <td>Avaya</td>\n",
       "      <td>16686.0</td>\n",
       "      <td>272335.0</td>\n",
       "      <td>1113.1341</td>\n",
       "      <td>44.0</td>\n",
       "      <td>500.0</td>\n",
       "      <td>au</td>\n",
       "      <td>2007-01-01</td>\n",
       "      <td>1.0</td>\n",
       "      <td>1847.0</td>\n",
       "      <td>0.0</td>\n",
       "      <td>1</td>\n",
       "      <td>0.0</td>\n",
       "      <td>Sydney, Australia</td>\n",
       "      <td>Ensuring customer success for our valued Veriz...</td>\n",
       "      <td>urn:li:member:4368989</td>\n",
       "      <td>Strategic Account Director</td>\n",
       "      <td>327702.0</td>\n",
       "      <td>2005-01-01</td>\n",
       "      <td>845.8</td>\n",
       "    </tr>\n",
       "    <tr>\n",
       "      <th>2</th>\n",
       "      <td>Checkpoint Systems</td>\n",
       "      <td>1557.0</td>\n",
       "      <td>27699.0</td>\n",
       "      <td>1114.3256</td>\n",
       "      <td>44.0</td>\n",
       "      <td>500.0</td>\n",
       "      <td>au</td>\n",
       "      <td>1998-12-01</td>\n",
       "      <td>1.0</td>\n",
       "      <td>1847.0</td>\n",
       "      <td>0.0</td>\n",
       "      <td>1</td>\n",
       "      <td>0.0</td>\n",
       "      <td>Sydney, Australia</td>\n",
       "      <td>Ensuring customer success for our valued Veriz...</td>\n",
       "      <td>urn:li:member:4368989</td>\n",
       "      <td>National Sales Manager</td>\n",
       "      <td>327704.0</td>\n",
       "      <td>1995-01-01</td>\n",
       "      <td>845.8</td>\n",
       "    </tr>\n",
       "    <tr>\n",
       "      <th>3</th>\n",
       "      <td>IBM</td>\n",
       "      <td>568533.0</td>\n",
       "      <td>4385293.0</td>\n",
       "      <td>1188.7339</td>\n",
       "      <td>44.0</td>\n",
       "      <td>500.0</td>\n",
       "      <td>au</td>\n",
       "      <td>2016-08-01</td>\n",
       "      <td>1.0</td>\n",
       "      <td>1847.0</td>\n",
       "      <td>0.0</td>\n",
       "      <td>1</td>\n",
       "      <td>0.0</td>\n",
       "      <td>Sydney, Australia</td>\n",
       "      <td>Ensuring customer success for our valued Veriz...</td>\n",
       "      <td>urn:li:member:4368989</td>\n",
       "      <td>Cloud Sales Specialsit &amp; Business Development ...</td>\n",
       "      <td>327697.0</td>\n",
       "      <td>2013-11-01</td>\n",
       "      <td>845.8</td>\n",
       "    </tr>\n",
       "    <tr>\n",
       "      <th>4</th>\n",
       "      <td>IBM</td>\n",
       "      <td>568533.0</td>\n",
       "      <td>4385293.0</td>\n",
       "      <td>1188.7339</td>\n",
       "      <td>44.0</td>\n",
       "      <td>500.0</td>\n",
       "      <td>au</td>\n",
       "      <td>2013-12-01</td>\n",
       "      <td>1.0</td>\n",
       "      <td>1847.0</td>\n",
       "      <td>0.0</td>\n",
       "      <td>1</td>\n",
       "      <td>0.0</td>\n",
       "      <td>Sydney, Australia</td>\n",
       "      <td>Ensuring customer success for our valued Veriz...</td>\n",
       "      <td>urn:li:member:4368989</td>\n",
       "      <td>Senior Sales Specialist Systems and Technology...</td>\n",
       "      <td>327698.0</td>\n",
       "      <td>2011-08-01</td>\n",
       "      <td>845.8</td>\n",
       "    </tr>\n",
       "  </tbody>\n",
       "</table>\n",
       "</div>"
      ],
      "text/plain": [
       "             companyName  companyStaffCount_x  companyFollowerCount_x  \\\n",
       "0   Eco Energy Group Ltd                  1.0                     3.0   \n",
       "1                  Avaya              16686.0                272335.0   \n",
       "2     Checkpoint Systems               1557.0                 27699.0   \n",
       "3                    IBM             568533.0               4385293.0   \n",
       "4                    IBM             568533.0               4385293.0   \n",
       "\n",
       "   avgCompanyPosDuration_x  ageEstimate  connectionsCount country     endDate  \\\n",
       "0                 730.0000         44.0             500.0      au         NaN   \n",
       "1                1113.1341         44.0             500.0      au  2007-01-01   \n",
       "2                1114.3256         44.0             500.0      au  1998-12-01   \n",
       "3                1188.7339         44.0             500.0      au  2016-08-01   \n",
       "4                1188.7339         44.0             500.0      au  2013-12-01   \n",
       "\n",
       "   followable  followersCount  genderEstimate hasPicture  isPremium  \\\n",
       "0         1.0          1847.0             0.0          1        0.0   \n",
       "1         1.0          1847.0             0.0          1        0.0   \n",
       "2         1.0          1847.0             0.0          1        0.0   \n",
       "3         1.0          1847.0             0.0          1        0.0   \n",
       "4         1.0          1847.0             0.0          1        0.0   \n",
       "\n",
       "         mbrLocation                                           mbrTitle  \\\n",
       "0  Sydney, Australia  Ensuring customer success for our valued Veriz...   \n",
       "1  Sydney, Australia  Ensuring customer success for our valued Veriz...   \n",
       "2  Sydney, Australia  Ensuring customer success for our valued Veriz...   \n",
       "3  Sydney, Australia  Ensuring customer success for our valued Veriz...   \n",
       "4  Sydney, Australia  Ensuring customer success for our valued Veriz...   \n",
       "\n",
       "               memberUrn                                           posTitle  \\\n",
       "0  urn:li:member:4368989                Contract - NSW State Sales Manager    \n",
       "1  urn:li:member:4368989                         Strategic Account Director   \n",
       "2  urn:li:member:4368989                             National Sales Manager   \n",
       "3  urn:li:member:4368989  Cloud Sales Specialsit & Business Development ...   \n",
       "4  urn:li:member:4368989  Senior Sales Specialist Systems and Technology...   \n",
       "\n",
       "   positionId   startDate  avgMemberPosDuration_x  \n",
       "0    327695.0  2017-07-01                   845.8  \n",
       "1    327702.0  2005-01-01                   845.8  \n",
       "2    327704.0  1995-01-01                   845.8  \n",
       "3    327697.0  2013-11-01                   845.8  \n",
       "4    327698.0  2011-08-01                   845.8  "
      ]
     },
     "execution_count": 832,
     "metadata": {},
     "output_type": "execute_result"
    }
   ],
   "source": [
    "imputegendertransaction.head()"
   ]
  },
  {
   "cell_type": "code",
   "execution_count": 833,
   "id": "df98be10",
   "metadata": {},
   "outputs": [],
   "source": [
    "\n",
    "imputer = KNNImputer(n_neighbors= 2)\n",
    "imputegendertransactionestimate = np.round(imputer.fit_transform(imputegendertransaction[['genderEstimate']]))\n"
   ]
  },
  {
   "cell_type": "code",
   "execution_count": 834,
   "id": "265e3cf2",
   "metadata": {},
   "outputs": [],
   "source": [
    "temp=pd.DataFrame(imputegendertransactionestimate)"
   ]
  },
  {
   "cell_type": "code",
   "execution_count": 876,
   "id": "771b8e6c",
   "metadata": {},
   "outputs": [
    {
     "data": {
      "text/plain": [
       "0.0    27802\n",
       "1.0    11733\n",
       "dtype: int64"
      ]
     },
     "execution_count": 876,
     "metadata": {},
     "output_type": "execute_result"
    }
   ],
   "source": [
    "temp.value_counts()"
   ]
  },
  {
   "cell_type": "markdown",
   "id": "989cfa91",
   "metadata": {},
   "source": [
    "### imputation done"
   ]
  },
  {
   "cell_type": "code",
   "execution_count": 835,
   "id": "d5cddcb3",
   "metadata": {},
   "outputs": [
    {
     "data": {
      "text/plain": [
       "companyName                 0.00\n",
       "companyStaffCount_x         0.00\n",
       "companyFollowerCount_x      0.00\n",
       "avgCompanyPosDuration_x     0.00\n",
       "ageEstimate                 0.00\n",
       "connectionsCount            0.00\n",
       "country                     0.00\n",
       "endDate                    22.54\n",
       "followable                  0.00\n",
       "followersCount              0.00\n",
       "genderEstimate              0.00\n",
       "hasPicture                  0.00\n",
       "isPremium                   0.00\n",
       "mbrLocation                 0.00\n",
       "mbrTitle                    0.00\n",
       "memberUrn                   0.00\n",
       "posTitle                    0.00\n",
       "positionId                  0.00\n",
       "startDate                   0.04\n",
       "avgMemberPosDuration_x      0.00\n",
       "dtype: float64"
      ]
     },
     "execution_count": 835,
     "metadata": {},
     "output_type": "execute_result"
    }
   ],
   "source": [
    "##random forest feature selection for inpremium\n",
    "\n",
    "round(cleantranscations.isnull().sum() / cleantranscations.isnull().count() * 100, 2)\n"
   ]
  },
  {
   "cell_type": "code",
   "execution_count": 839,
   "id": "727280b2",
   "metadata": {},
   "outputs": [
    {
     "data": {
      "text/plain": [
       "array([1, 0, 0, ..., 1, 1, 1], dtype=object)"
      ]
     },
     "execution_count": 839,
     "metadata": {},
     "output_type": "execute_result"
    }
   ],
   "source": [
    "cleantranscations.endDate.values"
   ]
  },
  {
   "cell_type": "code",
   "execution_count": 838,
   "id": "2b546754",
   "metadata": {},
   "outputs": [],
   "source": [
    "cleantranscations['endDate'] = cleantranscations['endDate'].fillna(1)\n",
    "cleantranscations.loc[cleantranscations[\"endDate\"] !=1, \"endDate\"] = 0"
   ]
  },
  {
   "cell_type": "code",
   "execution_count": 840,
   "id": "837778a2",
   "metadata": {},
   "outputs": [
    {
     "data": {
      "text/plain": [
       "Index(['companyName', 'companyStaffCount_x', 'companyFollowerCount_x',\n",
       "       'avgCompanyPosDuration_x', 'ageEstimate', 'connectionsCount', 'country',\n",
       "       'endDate', 'followable', 'followersCount', 'genderEstimate',\n",
       "       'hasPicture', 'isPremium', 'mbrLocation', 'mbrTitle', 'memberUrn',\n",
       "       'posTitle', 'positionId', 'startDate', 'avgMemberPosDuration_x'],\n",
       "      dtype='object')"
      ]
     },
     "execution_count": 840,
     "metadata": {},
     "output_type": "execute_result"
    }
   ],
   "source": [
    "cleantranscations.columns"
   ]
  },
  {
   "cell_type": "markdown",
   "id": "829c8abf",
   "metadata": {},
   "source": [
    "## clean group by data"
   ]
  },
  {
   "cell_type": "code",
   "execution_count": 842,
   "id": "c8ded408",
   "metadata": {},
   "outputs": [
    {
     "name": "stderr",
     "output_type": "stream",
     "text": [
      "/var/folders/36/qftc13yd5z75xgyssqd0ngdw0000gn/T/ipykernel_19904/2655549542.py:8: FutureWarning:\n",
      "\n",
      "merging between different levels is deprecated and will be removed in a future version. (2 levels on the left, 1 on the right)\n",
      "\n"
     ]
    }
   ],
   "source": [
    "#linkedin_data_copy.companyName.value_counts()\n",
    "cleantranscations_copy=cleantranscations.copy()\n",
    "linkedin_user=cleantranscations_copy.groupby('memberUrn').agg({'companyName':['nunique'],'posTitle':['count']}).reset_index()\n",
    "\n",
    "#transitdataseller.groupby('seller_state').agg({'freight_value':['mean'],'transit':['mean']})\n",
    "linkedin_user.columns\n",
    "\n",
    "memberlevel = pd.merge(linkedin_user, cleantranscations_copy, on='memberUrn')\n",
    "memberlevel=memberlevel.drop(['companyName','country','mbrLocation','mbrTitle',\n",
    "                      'posTitle','positionId'], axis=1)\n",
    "\n",
    "memberlevelgrp=memberlevel.groupby('memberUrn').agg({\n",
    "    'ageEstimate': 'mean', \n",
    "    'companyFollowerCount_x': 'first',\n",
    "    'connectionsCount':'mean',\n",
    "    'endDate': 'first', \n",
    "    'followersCount': 'mean',\n",
    "    'hasPicture':'first',\n",
    "    'avgMemberPosDuration_x':'mean',\n",
    "    'avgCompanyPosDuration_x':'first',\n",
    "    'isPremium':'first',\n",
    "    'startDate':'first',\n",
    "    'companyStaffCount_x':'first',\n",
    "    'followable':'first'\n",
    "    \n",
    "}).reset_index()\n"
   ]
  },
  {
   "cell_type": "code",
   "execution_count": 843,
   "id": "e1f74bc5",
   "metadata": {},
   "outputs": [
    {
     "data": {
      "text/html": [
       "<div>\n",
       "<style scoped>\n",
       "    .dataframe tbody tr th:only-of-type {\n",
       "        vertical-align: middle;\n",
       "    }\n",
       "\n",
       "    .dataframe tbody tr th {\n",
       "        vertical-align: top;\n",
       "    }\n",
       "\n",
       "    .dataframe thead th {\n",
       "        text-align: right;\n",
       "    }\n",
       "</style>\n",
       "<table border=\"1\" class=\"dataframe\">\n",
       "  <thead>\n",
       "    <tr style=\"text-align: right;\">\n",
       "      <th></th>\n",
       "      <th>memberUrn</th>\n",
       "      <th>ageEstimate</th>\n",
       "      <th>companyFollowerCount_x</th>\n",
       "      <th>connectionsCount</th>\n",
       "      <th>endDate</th>\n",
       "      <th>followersCount</th>\n",
       "      <th>hasPicture</th>\n",
       "      <th>avgMemberPosDuration_x</th>\n",
       "      <th>avgCompanyPosDuration_x</th>\n",
       "      <th>isPremium</th>\n",
       "      <th>startDate</th>\n",
       "      <th>companyStaffCount_x</th>\n",
       "      <th>followable</th>\n",
       "    </tr>\n",
       "  </thead>\n",
       "  <tbody>\n",
       "    <tr>\n",
       "      <th>0</th>\n",
       "      <td>urn:li:member:10013136</td>\n",
       "      <td>41.0</td>\n",
       "      <td>10047.0</td>\n",
       "      <td>500.0</td>\n",
       "      <td>0</td>\n",
       "      <td>506.0</td>\n",
       "      <td>0</td>\n",
       "      <td>760.5000</td>\n",
       "      <td>747.2308</td>\n",
       "      <td>0.0</td>\n",
       "      <td>2008-08-01</td>\n",
       "      <td>619.0</td>\n",
       "      <td>1.0</td>\n",
       "    </tr>\n",
       "    <tr>\n",
       "      <th>1</th>\n",
       "      <td>urn:li:member:100186032</td>\n",
       "      <td>30.0</td>\n",
       "      <td>4385293.0</td>\n",
       "      <td>500.0</td>\n",
       "      <td>0</td>\n",
       "      <td>951.0</td>\n",
       "      <td>1</td>\n",
       "      <td>395.2857</td>\n",
       "      <td>1188.7339</td>\n",
       "      <td>0.0</td>\n",
       "      <td>2014-11-01</td>\n",
       "      <td>568533.0</td>\n",
       "      <td>1.0</td>\n",
       "    </tr>\n",
       "    <tr>\n",
       "      <th>2</th>\n",
       "      <td>urn:li:member:100189195</td>\n",
       "      <td>33.0</td>\n",
       "      <td>3043.0</td>\n",
       "      <td>500.0</td>\n",
       "      <td>0</td>\n",
       "      <td>886.0</td>\n",
       "      <td>1</td>\n",
       "      <td>898.3333</td>\n",
       "      <td>1362.8257</td>\n",
       "      <td>1.0</td>\n",
       "      <td>2005-07-01</td>\n",
       "      <td>158.0</td>\n",
       "      <td>1.0</td>\n",
       "    </tr>\n",
       "    <tr>\n",
       "      <th>3</th>\n",
       "      <td>urn:li:member:100207000</td>\n",
       "      <td>40.0</td>\n",
       "      <td>117254.0</td>\n",
       "      <td>500.0</td>\n",
       "      <td>0</td>\n",
       "      <td>556.0</td>\n",
       "      <td>1</td>\n",
       "      <td>988.8333</td>\n",
       "      <td>750.7748</td>\n",
       "      <td>0.0</td>\n",
       "      <td>2010-09-01</td>\n",
       "      <td>6157.0</td>\n",
       "      <td>1.0</td>\n",
       "    </tr>\n",
       "    <tr>\n",
       "      <th>4</th>\n",
       "      <td>urn:li:member:100271877</td>\n",
       "      <td>42.0</td>\n",
       "      <td>58372.0</td>\n",
       "      <td>500.0</td>\n",
       "      <td>0</td>\n",
       "      <td>15286.0</td>\n",
       "      <td>1</td>\n",
       "      <td>673.3571</td>\n",
       "      <td>1280.0075</td>\n",
       "      <td>0.0</td>\n",
       "      <td>2013-01-01</td>\n",
       "      <td>9391.0</td>\n",
       "      <td>1.0</td>\n",
       "    </tr>\n",
       "  </tbody>\n",
       "</table>\n",
       "</div>"
      ],
      "text/plain": [
       "                 memberUrn  ageEstimate  companyFollowerCount_x  \\\n",
       "0   urn:li:member:10013136         41.0                 10047.0   \n",
       "1  urn:li:member:100186032         30.0               4385293.0   \n",
       "2  urn:li:member:100189195         33.0                  3043.0   \n",
       "3  urn:li:member:100207000         40.0                117254.0   \n",
       "4  urn:li:member:100271877         42.0                 58372.0   \n",
       "\n",
       "   connectionsCount endDate  followersCount hasPicture  \\\n",
       "0             500.0       0           506.0          0   \n",
       "1             500.0       0           951.0          1   \n",
       "2             500.0       0           886.0          1   \n",
       "3             500.0       0           556.0          1   \n",
       "4             500.0       0         15286.0          1   \n",
       "\n",
       "   avgMemberPosDuration_x  avgCompanyPosDuration_x  isPremium   startDate  \\\n",
       "0                760.5000                 747.2308        0.0  2008-08-01   \n",
       "1                395.2857                1188.7339        0.0  2014-11-01   \n",
       "2                898.3333                1362.8257        1.0  2005-07-01   \n",
       "3                988.8333                 750.7748        0.0  2010-09-01   \n",
       "4                673.3571                1280.0075        0.0  2013-01-01   \n",
       "\n",
       "   companyStaffCount_x  followable  \n",
       "0                619.0         1.0  \n",
       "1             568533.0         1.0  \n",
       "2                158.0         1.0  \n",
       "3               6157.0         1.0  \n",
       "4               9391.0         1.0  "
      ]
     },
     "execution_count": 843,
     "metadata": {},
     "output_type": "execute_result"
    }
   ],
   "source": [
    "memberlevelgrp.head()"
   ]
  },
  {
   "cell_type": "markdown",
   "id": "18d0eeb5",
   "metadata": {},
   "source": [
    "## outliers "
   ]
  },
  {
   "cell_type": "code",
   "execution_count": null,
   "id": "e50ef196",
   "metadata": {},
   "outputs": [],
   "source": []
  },
  {
   "cell_type": "code",
   "execution_count": 851,
   "id": "5a09cd47",
   "metadata": {},
   "outputs": [
    {
     "name": "stdout",
     "output_type": "stream",
     "text": [
      "Column Name :  companyStaffCount_x\n",
      "count      6853.000000\n",
      "mean      20299.408142\n",
      "std       66049.686019\n",
      "min           0.000000\n",
      "25%          79.000000\n",
      "50%         934.000000\n",
      "75%        7646.000000\n",
      "max      568533.000000\n",
      "Name: companyStaffCount_x, dtype: float64\n"
     ]
    },
    {
     "name": "stderr",
     "output_type": "stream",
     "text": [
      "/Users/deepak/opt/anaconda3/lib/python3.9/site-packages/seaborn/_decorators.py:36: FutureWarning:\n",
      "\n",
      "Pass the following variable as a keyword arg: x. From version 0.12, the only valid positional argument will be `data`, and passing other arguments without an explicit keyword will result in an error or misinterpretation.\n",
      "\n",
      "/Users/deepak/opt/anaconda3/lib/python3.9/site-packages/seaborn/distributions.py:2619: FutureWarning:\n",
      "\n",
      "`distplot` is a deprecated function and will be removed in a future version. Please adapt your code to use either `displot` (a figure-level function with similar flexibility) or `histplot` (an axes-level function for histograms).\n",
      "\n"
     ]
    },
    {
     "data": {
      "image/png": "[encoded data removed]",
      "text/plain": [
       "<Figure size 432x288 with 2 Axes>"
      ]
     },
     "metadata": {},
     "output_type": "display_data"
    },
    {
     "name": "stdout",
     "output_type": "stream",
     "text": [
      "Column Name :  companyFollowerCount_x\n",
      "count    6.853000e+03\n",
      "mean     2.070847e+05\n",
      "std      6.652952e+05\n",
      "min      0.000000e+00\n",
      "25%      1.148000e+03\n",
      "50%      1.207200e+04\n",
      "75%      1.172540e+05\n",
      "max      7.502740e+06\n",
      "Name: companyFollowerCount_x, dtype: float64\n"
     ]
    },
    {
     "name": "stderr",
     "output_type": "stream",
     "text": [
      "/Users/deepak/opt/anaconda3/lib/python3.9/site-packages/seaborn/_decorators.py:36: FutureWarning:\n",
      "\n",
      "Pass the following variable as a keyword arg: x. From version 0.12, the only valid positional argument will be `data`, and passing other arguments without an explicit keyword will result in an error or misinterpretation.\n",
      "\n",
      "/Users/deepak/opt/anaconda3/lib/python3.9/site-packages/seaborn/distributions.py:2619: FutureWarning:\n",
      "\n",
      "`distplot` is a deprecated function and will be removed in a future version. Please adapt your code to use either `displot` (a figure-level function with similar flexibility) or `histplot` (an axes-level function for histograms).\n",
      "\n"
     ]
    },
    {
     "data": {
      "image/png": "[encoded data removed]",
      "text/plain": [
       "<Figure size 432x288 with 2 Axes>"
      ]
     },
     "metadata": {},
     "output_type": "display_data"
    },
    {
     "name": "stdout",
     "output_type": "stream",
     "text": [
      "Column Name :  avgCompanyPosDuration_x\n",
      "count    6853.000000\n",
      "mean      898.213418\n",
      "std       360.321357\n",
      "min       -60.000000\n",
      "25%       725.843000\n",
      "50%       904.208200\n",
      "75%      1045.913000\n",
      "max      9497.000000\n",
      "Name: avgCompanyPosDuration_x, dtype: float64\n"
     ]
    },
    {
     "name": "stderr",
     "output_type": "stream",
     "text": [
      "/Users/deepak/opt/anaconda3/lib/python3.9/site-packages/seaborn/_decorators.py:36: FutureWarning:\n",
      "\n",
      "Pass the following variable as a keyword arg: x. From version 0.12, the only valid positional argument will be `data`, and passing other arguments without an explicit keyword will result in an error or misinterpretation.\n",
      "\n",
      "/Users/deepak/opt/anaconda3/lib/python3.9/site-packages/seaborn/distributions.py:2619: FutureWarning:\n",
      "\n",
      "`distplot` is a deprecated function and will be removed in a future version. Please adapt your code to use either `displot` (a figure-level function with similar flexibility) or `histplot` (an axes-level function for histograms).\n",
      "\n"
     ]
    },
    {
     "data": {
      "image/png": "[encoded data removed]",
      "text/plain": [
       "<Figure size 432x288 with 2 Axes>"
      ]
     },
     "metadata": {},
     "output_type": "display_data"
    },
    {
     "name": "stdout",
     "output_type": "stream",
     "text": [
      "Column Name :  ageEstimate\n",
      "count    6853.000000\n",
      "mean       37.974464\n",
      "std         9.811062\n",
      "min        20.000000\n",
      "25%        30.000000\n",
      "50%        37.000000\n",
      "75%        44.000000\n",
      "max        86.000000\n",
      "Name: ageEstimate, dtype: float64\n"
     ]
    },
    {
     "name": "stderr",
     "output_type": "stream",
     "text": [
      "/Users/deepak/opt/anaconda3/lib/python3.9/site-packages/seaborn/_decorators.py:36: FutureWarning:\n",
      "\n",
      "Pass the following variable as a keyword arg: x. From version 0.12, the only valid positional argument will be `data`, and passing other arguments without an explicit keyword will result in an error or misinterpretation.\n",
      "\n",
      "/Users/deepak/opt/anaconda3/lib/python3.9/site-packages/seaborn/distributions.py:2619: FutureWarning:\n",
      "\n",
      "`distplot` is a deprecated function and will be removed in a future version. Please adapt your code to use either `displot` (a figure-level function with similar flexibility) or `histplot` (an axes-level function for histograms).\n",
      "\n"
     ]
    },
    {
     "data": {
      "image/png": "[encoded data removed]",
      "text/plain": [
       "<Figure size 432x288 with 2 Axes>"
      ]
     },
     "metadata": {},
     "output_type": "display_data"
    },
    {
     "name": "stdout",
     "output_type": "stream",
     "text": [
      "Column Name :  connectionsCount\n",
      "count    6853.000000\n",
      "mean      400.446520\n",
      "std       139.833879\n",
      "min         0.000000\n",
      "25%       304.000000\n",
      "50%       500.000000\n",
      "75%       500.000000\n",
      "max       500.000000\n",
      "Name: connectionsCount, dtype: float64\n"
     ]
    },
    {
     "name": "stderr",
     "output_type": "stream",
     "text": [
      "/Users/deepak/opt/anaconda3/lib/python3.9/site-packages/seaborn/_decorators.py:36: FutureWarning:\n",
      "\n",
      "Pass the following variable as a keyword arg: x. From version 0.12, the only valid positional argument will be `data`, and passing other arguments without an explicit keyword will result in an error or misinterpretation.\n",
      "\n",
      "/Users/deepak/opt/anaconda3/lib/python3.9/site-packages/seaborn/distributions.py:2619: FutureWarning:\n",
      "\n",
      "`distplot` is a deprecated function and will be removed in a future version. Please adapt your code to use either `displot` (a figure-level function with similar flexibility) or `histplot` (an axes-level function for histograms).\n",
      "\n"
     ]
    },
    {
     "data": {
      "image/png": "[encoded data removed]",
      "text/plain": [
       "<Figure size 432x288 with 2 Axes>"
      ]
     },
     "metadata": {},
     "output_type": "display_data"
    },
    {
     "name": "stdout",
     "output_type": "stream",
     "text": [
      "Column Name :  followersCount\n",
      "count      6853.000000\n",
      "mean       1019.553188\n",
      "std        2678.074011\n",
      "min           0.000000\n",
      "25%         291.000000\n",
      "50%         554.000000\n",
      "75%        1013.000000\n",
      "max      161922.000000\n",
      "Name: followersCount, dtype: float64\n"
     ]
    },
    {
     "name": "stderr",
     "output_type": "stream",
     "text": [
      "/Users/deepak/opt/anaconda3/lib/python3.9/site-packages/seaborn/_decorators.py:36: FutureWarning:\n",
      "\n",
      "Pass the following variable as a keyword arg: x. From version 0.12, the only valid positional argument will be `data`, and passing other arguments without an explicit keyword will result in an error or misinterpretation.\n",
      "\n",
      "/Users/deepak/opt/anaconda3/lib/python3.9/site-packages/seaborn/distributions.py:2619: FutureWarning:\n",
      "\n",
      "`distplot` is a deprecated function and will be removed in a future version. Please adapt your code to use either `displot` (a figure-level function with similar flexibility) or `histplot` (an axes-level function for histograms).\n",
      "\n"
     ]
    },
    {
     "data": {
      "image/png": "[encoded data removed]",
      "text/plain": [
       "<Figure size 432x288 with 2 Axes>"
      ]
     },
     "metadata": {},
     "output_type": "display_data"
    },
    {
     "name": "stdout",
     "output_type": "stream",
     "text": [
      "Column Name :  avgMemberPosDuration_x\n",
      "count     6853.000000\n",
      "mean      1005.614188\n",
      "std        819.373703\n",
      "min          0.000000\n",
      "25%        547.666700\n",
      "50%        822.500000\n",
      "75%       1195.571400\n",
      "max      15492.500000\n",
      "Name: avgMemberPosDuration_x, dtype: float64\n"
     ]
    },
    {
     "name": "stderr",
     "output_type": "stream",
     "text": [
      "/Users/deepak/opt/anaconda3/lib/python3.9/site-packages/seaborn/_decorators.py:36: FutureWarning:\n",
      "\n",
      "Pass the following variable as a keyword arg: x. From version 0.12, the only valid positional argument will be `data`, and passing other arguments without an explicit keyword will result in an error or misinterpretation.\n",
      "\n",
      "/Users/deepak/opt/anaconda3/lib/python3.9/site-packages/seaborn/distributions.py:2619: FutureWarning:\n",
      "\n",
      "`distplot` is a deprecated function and will be removed in a future version. Please adapt your code to use either `displot` (a figure-level function with similar flexibility) or `histplot` (an axes-level function for histograms).\n",
      "\n"
     ]
    },
    {
     "data": {
      "image/png": "[encoded data removed]",
      "text/plain": [
       "<Figure size 432x288 with 2 Axes>"
      ]
     },
     "metadata": {},
     "output_type": "display_data"
    }
   ],
   "source": [
    "for column in memberlevelgrp[['companyStaffCount_x', 'companyFollowerCount_x','avgCompanyPosDuration_x',\n",
    "                                'ageEstimate','connectionsCount','followersCount','avgMemberPosDuration_x']]:\n",
    "    \n",
    "    # Select column contents by column  \n",
    "    # name using [] operator\n",
    "    columnSeriesObj = memberlevelgrp[column]\n",
    "    print('Column Name : ', column)\n",
    "    f, (ax_box, ax_hist) = plt.subplots(2, sharex=True, gridspec_kw={\"height_ratios\": (.15, .85)})\n",
    "    sns.set(style=\"darkgrid\")\n",
    "\n",
    "    # Add a graph in each part\n",
    "    print(memberlevelgrp[column].describe())\n",
    "    sns.boxplot(memberlevelgrp[column], ax=ax_box)\n",
    "    sns.distplot(memberlevelgrp[column], ax=ax_hist)\n",
    "    ax_box.set(xlabel='boxplot')\n",
    "    plt.show()"
   ]
  },
  {
   "cell_type": "code",
   "execution_count": 858,
   "id": "42681b6d",
   "metadata": {},
   "outputs": [
    {
     "data": {
      "text/plain": [
       "count      6853.000000\n",
       "mean      76325.501824\n",
       "std      111851.635320\n",
       "min           0.000000\n",
       "25%        1148.000000\n",
       "50%       12072.000000\n",
       "75%      117254.000000\n",
       "max      321451.000000\n",
       "Name: companyFollowerCount_x, dtype: float64"
      ]
     },
     "execution_count": 858,
     "metadata": {},
     "output_type": "execute_result"
    }
   ],
   "source": [
    "memberlevelgrp.companyFollowerCount_x.describe()"
   ]
  },
  {
   "cell_type": "markdown",
   "id": "6267148d",
   "metadata": {},
   "source": [
    "# Computing 10th, 90th percentiles and replacing the outliers\n"
   ]
  },
  {
   "cell_type": "code",
   "execution_count": 853,
   "id": "ec3aa368",
   "metadata": {},
   "outputs": [
    {
     "name": "stdout",
     "output_type": "stream",
     "text": [
      "New array: [ 10047. 321451.   3043. ...  53175. 321451. 151686.]\n",
      "New array: 321451.0\n"
     ]
    }
   ],
   "source": [
    "ninetieth_percentile = np.percentile(memberlevelgrp.companyFollowerCount_x, 90)\n",
    "# print(tenth_percentile, ninetieth_percentile)b = np.where(sample<tenth_percentile, tenth_percentile, sample)\n",
    "b = np.where(memberlevelgrp.companyFollowerCount_x>ninetieth_percentile, ninetieth_percentile,memberlevelgrp.companyFollowerCount_x)\n",
    "memberlevelgrp[\"companyFollowerCount_x\"] = pd.Series(b) \n",
    "#b = np.where(a<4)\n",
    "# print(\"Sample:\", sample)\n",
    "print(\"New array:\",b)\n",
    "print(\"New array:\",ninetieth_percentile)\n"
   ]
  },
  {
   "cell_type": "code",
   "execution_count": 866,
   "id": "f213d788",
   "metadata": {},
   "outputs": [
    {
     "name": "stdout",
     "output_type": "stream",
     "text": [
      "Column Name :  companyStaffCount_x\n",
      "count      6853.000000\n",
      "mean      20299.408142\n",
      "std       66049.686019\n",
      "min           0.000000\n",
      "25%          79.000000\n",
      "50%         934.000000\n",
      "75%        7646.000000\n",
      "max      568533.000000\n",
      "Name: companyStaffCount_x, dtype: float64\n",
      "New array: [  619. 42120.   158. ...  6677. 42120. 27944.]\n",
      "New array: 42120.0\n",
      "Column Name :  avgCompanyPosDuration_x\n",
      "count    6853.000000\n",
      "mean      898.213418\n",
      "std       360.321357\n",
      "min       -60.000000\n",
      "25%       725.843000\n",
      "50%       904.208200\n",
      "75%      1045.913000\n",
      "max      9497.000000\n",
      "Name: avgCompanyPosDuration_x, dtype: float64\n",
      "New array: [ 747.2308 1188.7339 1210.4338 ...  937.9322  598.4244  941.0968]\n",
      "New array: 1210.4338\n",
      "Column Name :  ageEstimate\n",
      "count    6853.000000\n",
      "mean       37.974464\n",
      "std         9.811062\n",
      "min        20.000000\n",
      "25%        30.000000\n",
      "50%        37.000000\n",
      "75%        44.000000\n",
      "max        86.000000\n",
      "Name: ageEstimate, dtype: float64\n",
      "New array: [41. 30. 33. ... 42. 29. 46.]\n",
      "New array: 51.0\n",
      "Column Name :  followersCount\n",
      "count      6853.000000\n",
      "mean       1019.553188\n",
      "std        2678.074011\n",
      "min           0.000000\n",
      "25%         291.000000\n",
      "50%         554.000000\n",
      "75%        1013.000000\n",
      "max      161922.000000\n",
      "Name: followersCount, dtype: float64\n",
      "New array: [506. 951. 886. ... 991. 202. 363.]\n",
      "New array: 1894.8000000000002\n",
      "Column Name :  avgMemberPosDuration_x\n",
      "count     6853.000000\n",
      "mean      1005.614188\n",
      "std        819.373703\n",
      "min          0.000000\n",
      "25%        547.666700\n",
      "50%        822.500000\n",
      "75%       1195.571400\n",
      "max      15492.500000\n",
      "Name: avgMemberPosDuration_x, dtype: float64\n",
      "New array: [ 760.5     395.2857  898.3333 ...  369.9     488.     1800.8333]\n",
      "New array: 1800.8333\n"
     ]
    },
    {
     "data": {
      "image/png": "[encoded data removed]",
      "text/plain": [
       "<Figure size 432x288 with 2 Axes>"
      ]
     },
     "metadata": {},
     "output_type": "display_data"
    },
    {
     "data": {
      "image/png": "[encoded data removed]",
      "text/plain": [
       "<Figure size 432x288 with 2 Axes>"
      ]
     },
     "metadata": {},
     "output_type": "display_data"
    },
    {
     "data": {
      "image/png": "[encoded data removed]",
      "text/plain": [
       "<Figure size 432x288 with 2 Axes>"
      ]
     },
     "metadata": {},
     "output_type": "display_data"
    },
    {
     "data": {
      "image/png": "[encoded data removed]",
      "text/plain": [
       "<Figure size 432x288 with 2 Axes>"
      ]
     },
     "metadata": {},
     "output_type": "display_data"
    },
    {
     "data": {
      "image/png": "[encoded data removed]",
      "text/plain": [
       "<Figure size 432x288 with 2 Axes>"
      ]
     },
     "metadata": {},
     "output_type": "display_data"
    }
   ],
   "source": [
    "for column in memberlevelgrp[['companyStaffCount_x','avgCompanyPosDuration_x',\n",
    "                                'ageEstimate','followersCount','avgMemberPosDuration_x']]:\n",
    "    \n",
    "    # Select column contents by column  \n",
    "    # name using [] operator\n",
    "    columnSeriesObj = memberlevelgrp[column]\n",
    "    print('Column Name : ', column)\n",
    "    f, (ax_box, ax_hist) = plt.subplots(2, sharex=True, gridspec_kw={\"height_ratios\": (.15, .85)})\n",
    "    sns.set(style=\"darkgrid\")\n",
    "\n",
    "    # Add a graph in each part\n",
    "    print(memberlevelgrp[column].describe())\n",
    "    ninetieth_percentile = np.percentile(memberlevelgrp[column], 90)\n",
    "    # print(tenth_percentile, ninetieth_percentile)b = np.where(sample<tenth_percentile, tenth_percentile, sample)\n",
    "    b = np.where(memberlevelgrp[column]>ninetieth_percentile, ninetieth_percentile,memberlevelgrp[column])\n",
    "    memberlevelgrp[column] = pd.Series(b) \n",
    "    #b = np.where(a<4)\n",
    "    # print(\"Sample:\", sample)\n",
    "    print(\"New array:\",b)\n",
    "    print(\"New array:\",ninetieth_percentile)"
   ]
  },
  {
   "cell_type": "code",
   "execution_count": 867,
   "id": "591f42d8",
   "metadata": {
    "scrolled": true
   },
   "outputs": [
    {
     "name": "stdout",
     "output_type": "stream",
     "text": [
      "Column Name :  companyStaffCount_x\n"
     ]
    },
    {
     "name": "stderr",
     "output_type": "stream",
     "text": [
      "/Users/deepak/opt/anaconda3/lib/python3.9/site-packages/seaborn/_decorators.py:36: FutureWarning:\n",
      "\n",
      "Pass the following variable as a keyword arg: x. From version 0.12, the only valid positional argument will be `data`, and passing other arguments without an explicit keyword will result in an error or misinterpretation.\n",
      "\n",
      "/Users/deepak/opt/anaconda3/lib/python3.9/site-packages/seaborn/distributions.py:2619: FutureWarning:\n",
      "\n",
      "`distplot` is a deprecated function and will be removed in a future version. Please adapt your code to use either `displot` (a figure-level function with similar flexibility) or `histplot` (an axes-level function for histograms).\n",
      "\n"
     ]
    },
    {
     "data": {
      "image/png": "[encoded data removed]",
      "text/plain": [
       "<Figure size 432x288 with 2 Axes>"
      ]
     },
     "metadata": {},
     "output_type": "display_data"
    },
    {
     "name": "stdout",
     "output_type": "stream",
     "text": [
      "count     6853.000000\n",
      "mean      8128.986283\n",
      "std      13575.042987\n",
      "min          0.000000\n",
      "25%         79.000000\n",
      "50%        934.000000\n",
      "75%       7646.000000\n",
      "max      42120.000000\n",
      "Name: companyStaffCount_x, dtype: float64\n",
      "Column Name :  avgCompanyPosDuration_x\n"
     ]
    },
    {
     "name": "stderr",
     "output_type": "stream",
     "text": [
      "/Users/deepak/opt/anaconda3/lib/python3.9/site-packages/seaborn/_decorators.py:36: FutureWarning:\n",
      "\n",
      "Pass the following variable as a keyword arg: x. From version 0.12, the only valid positional argument will be `data`, and passing other arguments without an explicit keyword will result in an error or misinterpretation.\n",
      "\n",
      "/Users/deepak/opt/anaconda3/lib/python3.9/site-packages/seaborn/distributions.py:2619: FutureWarning:\n",
      "\n",
      "`distplot` is a deprecated function and will be removed in a future version. Please adapt your code to use either `displot` (a figure-level function with similar flexibility) or `histplot` (an axes-level function for histograms).\n",
      "\n"
     ]
    },
    {
     "data": {
      "image/png": "[encoded data removed]",
      "text/plain": [
       "<Figure size 432x288 with 2 Axes>"
      ]
     },
     "metadata": {},
     "output_type": "display_data"
    },
    {
     "name": "stdout",
     "output_type": "stream",
     "text": [
      "count    6853.000000\n",
      "mean      864.541305\n",
      "std       255.754008\n",
      "min       -60.000000\n",
      "25%       725.843000\n",
      "50%       904.208200\n",
      "75%      1045.913000\n",
      "max      1210.433800\n",
      "Name: avgCompanyPosDuration_x, dtype: float64\n",
      "Column Name :  ageEstimate\n"
     ]
    },
    {
     "name": "stderr",
     "output_type": "stream",
     "text": [
      "/Users/deepak/opt/anaconda3/lib/python3.9/site-packages/seaborn/_decorators.py:36: FutureWarning:\n",
      "\n",
      "Pass the following variable as a keyword arg: x. From version 0.12, the only valid positional argument will be `data`, and passing other arguments without an explicit keyword will result in an error or misinterpretation.\n",
      "\n",
      "/Users/deepak/opt/anaconda3/lib/python3.9/site-packages/seaborn/distributions.py:2619: FutureWarning:\n",
      "\n",
      "`distplot` is a deprecated function and will be removed in a future version. Please adapt your code to use either `displot` (a figure-level function with similar flexibility) or `histplot` (an axes-level function for histograms).\n",
      "\n"
     ]
    },
    {
     "data": {
      "image/png": "[encoded data removed]",
      "text/plain": [
       "<Figure size 432x288 with 2 Axes>"
      ]
     },
     "metadata": {},
     "output_type": "display_data"
    },
    {
     "name": "stdout",
     "output_type": "stream",
     "text": [
      "count    6853.000000\n",
      "mean       37.368306\n",
      "std         8.602532\n",
      "min        20.000000\n",
      "25%        30.000000\n",
      "50%        37.000000\n",
      "75%        44.000000\n",
      "max        51.000000\n",
      "Name: ageEstimate, dtype: float64\n",
      "Column Name :  followersCount\n"
     ]
    },
    {
     "name": "stderr",
     "output_type": "stream",
     "text": [
      "/Users/deepak/opt/anaconda3/lib/python3.9/site-packages/seaborn/_decorators.py:36: FutureWarning:\n",
      "\n",
      "Pass the following variable as a keyword arg: x. From version 0.12, the only valid positional argument will be `data`, and passing other arguments without an explicit keyword will result in an error or misinterpretation.\n",
      "\n",
      "/Users/deepak/opt/anaconda3/lib/python3.9/site-packages/seaborn/distributions.py:2619: FutureWarning:\n",
      "\n",
      "`distplot` is a deprecated function and will be removed in a future version. Please adapt your code to use either `displot` (a figure-level function with similar flexibility) or `histplot` (an axes-level function for histograms).\n",
      "\n"
     ]
    },
    {
     "data": {
      "image/png": "[encoded data removed]",
      "text/plain": [
       "<Figure size 432x288 with 2 Axes>"
      ]
     },
     "metadata": {},
     "output_type": "display_data"
    },
    {
     "name": "stdout",
     "output_type": "stream",
     "text": [
      "count    6853.000000\n",
      "mean      724.243368\n",
      "std       562.921950\n",
      "min         0.000000\n",
      "25%       291.000000\n",
      "50%       554.000000\n",
      "75%      1013.000000\n",
      "max      1894.800000\n",
      "Name: followersCount, dtype: float64\n",
      "Column Name :  avgMemberPosDuration_x\n"
     ]
    },
    {
     "name": "stderr",
     "output_type": "stream",
     "text": [
      "/Users/deepak/opt/anaconda3/lib/python3.9/site-packages/seaborn/_decorators.py:36: FutureWarning:\n",
      "\n",
      "Pass the following variable as a keyword arg: x. From version 0.12, the only valid positional argument will be `data`, and passing other arguments without an explicit keyword will result in an error or misinterpretation.\n",
      "\n",
      "/Users/deepak/opt/anaconda3/lib/python3.9/site-packages/seaborn/distributions.py:2619: FutureWarning:\n",
      "\n",
      "`distplot` is a deprecated function and will be removed in a future version. Please adapt your code to use either `displot` (a figure-level function with similar flexibility) or `histplot` (an axes-level function for histograms).\n",
      "\n"
     ]
    },
    {
     "data": {
      "image/png": "[encoded data removed]",
      "text/plain": [
       "<Figure size 432x288 with 2 Axes>"
      ]
     },
     "metadata": {},
     "output_type": "display_data"
    },
    {
     "name": "stdout",
     "output_type": "stream",
     "text": [
      "count    6853.000000\n",
      "mean      906.852215\n",
      "std       472.209299\n",
      "min         0.000000\n",
      "25%       547.666700\n",
      "50%       822.500000\n",
      "75%      1195.571400\n",
      "max      1800.833300\n",
      "Name: avgMemberPosDuration_x, dtype: float64\n"
     ]
    }
   ],
   "source": [
    "for column in memberlevelgrp[['companyStaffCount_x','avgCompanyPosDuration_x',\n",
    "                                'ageEstimate','followersCount','avgMemberPosDuration_x']]:\n",
    "    \n",
    "    # Select column contents by column  \n",
    "    # name using [] operator\n",
    "    columnSeriesObj = memberlevelgrp[column]\n",
    "    print('Column Name : ', column)\n",
    "    f, (ax_box, ax_hist) = plt.subplots(2, sharex=True, gridspec_kw={\"height_ratios\": (.15, .85)})\n",
    "    sns.set(style=\"darkgrid\")\n",
    "    sns.boxplot(memberlevelgrp[column], ax=ax_box)\n",
    "    sns.distplot(memberlevelgrp[column], ax=ax_hist)\n",
    "    ax_box.set(xlabel='boxplot')\n",
    "    plt.show()\n",
    "    # Add a graph in each part\n",
    "    print(memberlevelgrp[column].describe())"
   ]
  },
  {
   "cell_type": "code",
   "execution_count": null,
   "id": "f54a0ef7",
   "metadata": {},
   "outputs": [],
   "source": []
  },
  {
   "cell_type": "markdown",
   "id": "e1664ddd",
   "metadata": {},
   "source": [
    "##outlier detection done \n",
    "## ispremium random forest "
   ]
  },
  {
   "cell_type": "code",
   "execution_count": 882,
   "id": "7a99dd29",
   "metadata": {},
   "outputs": [],
   "source": [
    "memberlevelgrp=memberlevelgrp.drop([\"memberUrn\",\"startDate\"], axis=1)\n"
   ]
  },
  {
   "cell_type": "code",
   "execution_count": 918,
   "id": "3bb09a99",
   "metadata": {},
   "outputs": [
    {
     "name": "stdout",
     "output_type": "stream",
     "text": [
      "<class 'pandas.core.frame.DataFrame'>\n",
      "RangeIndex: 6853 entries, 0 to 6852\n",
      "Data columns (total 11 columns):\n",
      " #   Column                   Non-Null Count  Dtype  \n",
      "---  ------                   --------------  -----  \n",
      " 0   ageEstimate              6853 non-null   float64\n",
      " 1   companyFollowerCount_x   6853 non-null   float64\n",
      " 2   connectionsCount         6853 non-null   float64\n",
      " 3   endDate                  6853 non-null   object \n",
      " 4   followersCount           6853 non-null   float64\n",
      " 5   hasPicture               6853 non-null   object \n",
      " 6   avgMemberPosDuration_x   6853 non-null   float64\n",
      " 7   avgCompanyPosDuration_x  6853 non-null   float64\n",
      " 8   isPremium                6853 non-null   object \n",
      " 9   companyStaffCount_x      6853 non-null   float64\n",
      " 10  followable               6853 non-null   float64\n",
      "dtypes: float64(8), object(3)\n",
      "memory usage: 589.1+ KB\n"
     ]
    }
   ],
   "source": [
    "memberlevelgrp.info()"
   ]
  },
  {
   "cell_type": "code",
   "execution_count": 884,
   "id": "dd8e2e28",
   "metadata": {},
   "outputs": [],
   "source": [
    "import pandas as pd\n",
    "from sklearn.ensemble import RandomForestClassifier\n",
    "from sklearn.feature_selection import SelectFromModel"
   ]
  },
  {
   "cell_type": "code",
   "execution_count": 920,
   "id": "685c0726",
   "metadata": {},
   "outputs": [],
   "source": [
    "X = memberlevelgrp.drop([\"isPremium\"], axis=1)\n",
    "\n",
    "y = memberlevelgrp[\"isPremium\"]\n",
    "#memberlevelgrp.isPremium = memberlevelgrp.isPremium.astype('float64')"
   ]
  },
  {
   "cell_type": "code",
   "execution_count": 915,
   "id": "dd83adb9",
   "metadata": {},
   "outputs": [
    {
     "data": {
      "text/plain": [
       "pandas.core.series.Series"
      ]
     },
     "execution_count": 915,
     "metadata": {},
     "output_type": "execute_result"
    }
   ],
   "source": [
    "type(y)"
   ]
  },
  {
   "cell_type": "code",
   "execution_count": 921,
   "id": "09d657a6",
   "metadata": {},
   "outputs": [],
   "source": [
    "X_train,X_test,y_train,y_test=train_test_split(X,y,test_size=0.3,random_state=1)\n"
   ]
  },
  {
   "cell_type": "code",
   "execution_count": 922,
   "id": "4d22c818",
   "metadata": {},
   "outputs": [
    {
     "data": {
      "text/plain": [
       "RandomForestClassifier(random_state=1)"
      ]
     },
     "execution_count": 922,
     "metadata": {},
     "output_type": "execute_result"
    }
   ],
   "source": [
    "from sklearn.ensemble import RandomForestClassifier\n",
    " \n",
    "forest = RandomForestClassifier(n_estimators=100,\n",
    "                                random_state=1)\n",
    "#\n",
    "# Train the mode\n",
    "#\n",
    "forest.fit(X_train, y_train)"
   ]
  },
  {
   "cell_type": "code",
   "execution_count": 923,
   "id": "27771f39",
   "metadata": {},
   "outputs": [
    {
     "data": {
      "text/html": [
       "<div>\n",
       "<style scoped>\n",
       "    .dataframe tbody tr th:only-of-type {\n",
       "        vertical-align: middle;\n",
       "    }\n",
       "\n",
       "    .dataframe tbody tr th {\n",
       "        vertical-align: top;\n",
       "    }\n",
       "\n",
       "    .dataframe thead th {\n",
       "        text-align: right;\n",
       "    }\n",
       "</style>\n",
       "<table border=\"1\" class=\"dataframe\">\n",
       "  <thead>\n",
       "    <tr style=\"text-align: right;\">\n",
       "      <th></th>\n",
       "      <th>Features</th>\n",
       "      <th>im</th>\n",
       "    </tr>\n",
       "  </thead>\n",
       "  <tbody>\n",
       "    <tr>\n",
       "      <th>9</th>\n",
       "      <td>followable</td>\n",
       "      <td>0.005375</td>\n",
       "    </tr>\n",
       "    <tr>\n",
       "      <th>5</th>\n",
       "      <td>hasPicture</td>\n",
       "      <td>0.015085</td>\n",
       "    </tr>\n",
       "    <tr>\n",
       "      <th>3</th>\n",
       "      <td>endDate</td>\n",
       "      <td>0.022519</td>\n",
       "    </tr>\n",
       "    <tr>\n",
       "      <th>2</th>\n",
       "      <td>connectionsCount</td>\n",
       "      <td>0.048302</td>\n",
       "    </tr>\n",
       "    <tr>\n",
       "      <th>0</th>\n",
       "      <td>ageEstimate</td>\n",
       "      <td>0.115480</td>\n",
       "    </tr>\n",
       "    <tr>\n",
       "      <th>8</th>\n",
       "      <td>companyStaffCount_x</td>\n",
       "      <td>0.135915</td>\n",
       "    </tr>\n",
       "    <tr>\n",
       "      <th>1</th>\n",
       "      <td>companyFollowerCount_x</td>\n",
       "      <td>0.136387</td>\n",
       "    </tr>\n",
       "    <tr>\n",
       "      <th>7</th>\n",
       "      <td>avgCompanyPosDuration_x</td>\n",
       "      <td>0.150276</td>\n",
       "    </tr>\n",
       "    <tr>\n",
       "      <th>6</th>\n",
       "      <td>avgMemberPosDuration_x</td>\n",
       "      <td>0.163709</td>\n",
       "    </tr>\n",
       "    <tr>\n",
       "      <th>4</th>\n",
       "      <td>followersCount</td>\n",
       "      <td>0.206952</td>\n",
       "    </tr>\n",
       "  </tbody>\n",
       "</table>\n",
       "</div>"
      ],
      "text/plain": [
       "                  Features        im\n",
       "9               followable  0.005375\n",
       "5               hasPicture  0.015085\n",
       "3                  endDate  0.022519\n",
       "2         connectionsCount  0.048302\n",
       "0              ageEstimate  0.115480\n",
       "8      companyStaffCount_x  0.135915\n",
       "1   companyFollowerCount_x  0.136387\n",
       "7  avgCompanyPosDuration_x  0.150276\n",
       "6   avgMemberPosDuration_x  0.163709\n",
       "4           followersCount  0.206952"
      ]
     },
     "execution_count": 923,
     "metadata": {},
     "output_type": "execute_result"
    }
   ],
   "source": [
    "import numpy as np\n",
    " \n",
    "importances = forest.feature_importances_\n",
    "final_df=pd.DataFrame({\"Features\":pd.DataFrame(X_train).columns,\"im\":importances})\n",
    "final_df.set_index('im')\n",
    "final_df.sort_values('im')\n",
    "#\n",
    "# Sort the feature importance in descending order\n",
    "#\n",
    "# sorted_indices = np.argsort(importances)[::-1]\n",
    " \n",
    "# feat_labels = ispremiumestimator.columns[1:]\n",
    " \n",
    "# for f in range(X_train.shape[1]):\n",
    "#     print(\"%2d) %-*s %f\" % (f + 1, 30,\n",
    "#                             feat_labels[sorted_indices[f]],\n",
    "#                             importances[sorted_indices[f]]))"
   ]
  },
  {
   "cell_type": "code",
   "execution_count": 896,
   "id": "8be1aaf9",
   "metadata": {},
   "outputs": [
    {
     "data": {
      "text/plain": [
       "<AxesSubplot:>"
      ]
     },
     "execution_count": 896,
     "metadata": {},
     "output_type": "execute_result"
    },
    {
     "data": {
      "image/png": "[encoded data removed]",
      "text/plain": [
       "<Figure size 864x504 with 2 Axes>"
      ]
     },
     "metadata": {},
     "output_type": "display_data"
    }
   ],
   "source": [
    "plt.figure(figsize = (12, 7))\n",
    "\n",
    "sns.heatmap(memberlevelgrp.corr(), annot = True, cmap = \"coolwarm\")"
   ]
  },
  {
   "cell_type": "code",
   "execution_count": 452,
   "id": "8c7b01ee",
   "metadata": {},
   "outputs": [],
   "source": [
    "## separate test and prediction  data \n",
    "\n",
    "traindate=cleantranscations[cleantranscations.genderEstimate!=-1]\n",
    "\n",
    "testdate=cleantranscations[cleantranscations.genderEstimate==-1]"
   ]
  },
  {
   "cell_type": "code",
   "execution_count": null,
   "id": "48d12485",
   "metadata": {},
   "outputs": [],
   "source": []
  },
  {
   "cell_type": "code",
   "execution_count": null,
   "id": "d578eb5d",
   "metadata": {},
   "outputs": [],
   "source": []
  },
  {
   "cell_type": "code",
   "execution_count": 429,
   "id": "ff62589b",
   "metadata": {},
   "outputs": [],
   "source": [
    "traindateage=traindate[['ageEstimate','connectionsCount','followable','followersCount','avgMemberPosDuration_x','hasPicture']]\n"
   ]
  },
  {
   "cell_type": "code",
   "execution_count": 440,
   "id": "974f26e8",
   "metadata": {
    "scrolled": true
   },
   "outputs": [
    {
     "data": {
      "text/html": [
       "<div>\n",
       "<style scoped>\n",
       "    .dataframe tbody tr th:only-of-type {\n",
       "        vertical-align: middle;\n",
       "    }\n",
       "\n",
       "    .dataframe tbody tr th {\n",
       "        vertical-align: top;\n",
       "    }\n",
       "\n",
       "    .dataframe thead th {\n",
       "        text-align: right;\n",
       "    }\n",
       "</style>\n",
       "<table border=\"1\" class=\"dataframe\">\n",
       "  <thead>\n",
       "    <tr style=\"text-align: right;\">\n",
       "      <th></th>\n",
       "      <th>ageEstimate</th>\n",
       "      <th>connectionsCount</th>\n",
       "      <th>followable</th>\n",
       "      <th>followersCount</th>\n",
       "      <th>avgMemberPosDuration_x</th>\n",
       "      <th>hasPicture</th>\n",
       "    </tr>\n",
       "  </thead>\n",
       "  <tbody>\n",
       "    <tr>\n",
       "      <th>0</th>\n",
       "      <td>44.0</td>\n",
       "      <td>500.0</td>\n",
       "      <td>1.0</td>\n",
       "      <td>1847.0</td>\n",
       "      <td>845.8000</td>\n",
       "      <td>1</td>\n",
       "    </tr>\n",
       "    <tr>\n",
       "      <th>1</th>\n",
       "      <td>44.0</td>\n",
       "      <td>500.0</td>\n",
       "      <td>1.0</td>\n",
       "      <td>1847.0</td>\n",
       "      <td>845.8000</td>\n",
       "      <td>1</td>\n",
       "    </tr>\n",
       "    <tr>\n",
       "      <th>2</th>\n",
       "      <td>44.0</td>\n",
       "      <td>500.0</td>\n",
       "      <td>1.0</td>\n",
       "      <td>1847.0</td>\n",
       "      <td>845.8000</td>\n",
       "      <td>1</td>\n",
       "    </tr>\n",
       "    <tr>\n",
       "      <th>3</th>\n",
       "      <td>44.0</td>\n",
       "      <td>500.0</td>\n",
       "      <td>1.0</td>\n",
       "      <td>1847.0</td>\n",
       "      <td>845.8000</td>\n",
       "      <td>1</td>\n",
       "    </tr>\n",
       "    <tr>\n",
       "      <th>4</th>\n",
       "      <td>44.0</td>\n",
       "      <td>500.0</td>\n",
       "      <td>1.0</td>\n",
       "      <td>1847.0</td>\n",
       "      <td>845.8000</td>\n",
       "      <td>1</td>\n",
       "    </tr>\n",
       "    <tr>\n",
       "      <th>...</th>\n",
       "      <td>...</td>\n",
       "      <td>...</td>\n",
       "      <td>...</td>\n",
       "      <td>...</td>\n",
       "      <td>...</td>\n",
       "      <td>...</td>\n",
       "    </tr>\n",
       "    <tr>\n",
       "      <th>39529</th>\n",
       "      <td>45.0</td>\n",
       "      <td>237.0</td>\n",
       "      <td>1.0</td>\n",
       "      <td>243.0</td>\n",
       "      <td>1612.3333</td>\n",
       "      <td>1</td>\n",
       "    </tr>\n",
       "    <tr>\n",
       "      <th>39530</th>\n",
       "      <td>31.0</td>\n",
       "      <td>500.0</td>\n",
       "      <td>1.0</td>\n",
       "      <td>1445.0</td>\n",
       "      <td>875.0000</td>\n",
       "      <td>1</td>\n",
       "    </tr>\n",
       "    <tr>\n",
       "      <th>39531</th>\n",
       "      <td>43.0</td>\n",
       "      <td>500.0</td>\n",
       "      <td>1.0</td>\n",
       "      <td>12907.0</td>\n",
       "      <td>4748.0000</td>\n",
       "      <td>1</td>\n",
       "    </tr>\n",
       "    <tr>\n",
       "      <th>39532</th>\n",
       "      <td>47.0</td>\n",
       "      <td>36.0</td>\n",
       "      <td>1.0</td>\n",
       "      <td>36.0</td>\n",
       "      <td>1095.7500</td>\n",
       "      <td>0</td>\n",
       "    </tr>\n",
       "    <tr>\n",
       "      <th>39534</th>\n",
       "      <td>23.0</td>\n",
       "      <td>178.0</td>\n",
       "      <td>1.0</td>\n",
       "      <td>176.0</td>\n",
       "      <td>334.0000</td>\n",
       "      <td>0</td>\n",
       "    </tr>\n",
       "  </tbody>\n",
       "</table>\n",
       "<p>35565 rows × 6 columns</p>\n",
       "</div>"
      ],
      "text/plain": [
       "       ageEstimate  connectionsCount  followable  followersCount  \\\n",
       "0             44.0             500.0         1.0          1847.0   \n",
       "1             44.0             500.0         1.0          1847.0   \n",
       "2             44.0             500.0         1.0          1847.0   \n",
       "3             44.0             500.0         1.0          1847.0   \n",
       "4             44.0             500.0         1.0          1847.0   \n",
       "...            ...               ...         ...             ...   \n",
       "39529         45.0             237.0         1.0           243.0   \n",
       "39530         31.0             500.0         1.0          1445.0   \n",
       "39531         43.0             500.0         1.0         12907.0   \n",
       "39532         47.0              36.0         1.0            36.0   \n",
       "39534         23.0             178.0         1.0           176.0   \n",
       "\n",
       "       avgMemberPosDuration_x hasPicture  \n",
       "0                    845.8000          1  \n",
       "1                    845.8000          1  \n",
       "2                    845.8000          1  \n",
       "3                    845.8000          1  \n",
       "4                    845.8000          1  \n",
       "...                       ...        ...  \n",
       "39529               1612.3333          1  \n",
       "39530                875.0000          1  \n",
       "39531               4748.0000          1  \n",
       "39532               1095.7500          0  \n",
       "39534                334.0000          0  \n",
       "\n",
       "[35565 rows x 6 columns]"
      ]
     },
     "execution_count": 440,
     "metadata": {},
     "output_type": "execute_result"
    }
   ],
   "source": [
    "traindateage"
   ]
  },
  {
   "cell_type": "code",
   "execution_count": 431,
   "id": "979addc4",
   "metadata": {},
   "outputs": [],
   "source": []
  },
  {
   "cell_type": "markdown",
   "id": "3006afbe",
   "metadata": {},
   "source": [
    "## logistic https://www.analyticsvidhya.com/blog/2021/07/an-introduction-to-logistic-regression/"
   ]
  },
  {
   "cell_type": "code",
   "execution_count": 510,
   "id": "9c6ecdcf",
   "metadata": {},
   "outputs": [
    {
     "data": {
      "text/html": [
       "<div>\n",
       "<style scoped>\n",
       "    .dataframe tbody tr th:only-of-type {\n",
       "        vertical-align: middle;\n",
       "    }\n",
       "\n",
       "    .dataframe tbody tr th {\n",
       "        vertical-align: top;\n",
       "    }\n",
       "\n",
       "    .dataframe thead th {\n",
       "        text-align: right;\n",
       "    }\n",
       "</style>\n",
       "<table border=\"1\" class=\"dataframe\">\n",
       "  <thead>\n",
       "    <tr style=\"text-align: right;\">\n",
       "      <th></th>\n",
       "      <th>genderEstimate</th>\n",
       "      <th>ageEstimate</th>\n",
       "      <th>connectionsCount</th>\n",
       "      <th>followable</th>\n",
       "      <th>followersCount</th>\n",
       "      <th>avgMemberPosDuration_x</th>\n",
       "      <th>hasPicture</th>\n",
       "    </tr>\n",
       "  </thead>\n",
       "  <tbody>\n",
       "    <tr>\n",
       "      <th>0</th>\n",
       "      <td>0.0</td>\n",
       "      <td>44.0</td>\n",
       "      <td>500.0</td>\n",
       "      <td>1.0</td>\n",
       "      <td>1847.0</td>\n",
       "      <td>845.8000</td>\n",
       "      <td>1</td>\n",
       "    </tr>\n",
       "    <tr>\n",
       "      <th>1</th>\n",
       "      <td>0.0</td>\n",
       "      <td>44.0</td>\n",
       "      <td>500.0</td>\n",
       "      <td>1.0</td>\n",
       "      <td>1847.0</td>\n",
       "      <td>845.8000</td>\n",
       "      <td>1</td>\n",
       "    </tr>\n",
       "    <tr>\n",
       "      <th>2</th>\n",
       "      <td>0.0</td>\n",
       "      <td>44.0</td>\n",
       "      <td>500.0</td>\n",
       "      <td>1.0</td>\n",
       "      <td>1847.0</td>\n",
       "      <td>845.8000</td>\n",
       "      <td>1</td>\n",
       "    </tr>\n",
       "    <tr>\n",
       "      <th>3</th>\n",
       "      <td>0.0</td>\n",
       "      <td>44.0</td>\n",
       "      <td>500.0</td>\n",
       "      <td>1.0</td>\n",
       "      <td>1847.0</td>\n",
       "      <td>845.8000</td>\n",
       "      <td>1</td>\n",
       "    </tr>\n",
       "    <tr>\n",
       "      <th>4</th>\n",
       "      <td>0.0</td>\n",
       "      <td>44.0</td>\n",
       "      <td>500.0</td>\n",
       "      <td>1.0</td>\n",
       "      <td>1847.0</td>\n",
       "      <td>845.8000</td>\n",
       "      <td>1</td>\n",
       "    </tr>\n",
       "    <tr>\n",
       "      <th>...</th>\n",
       "      <td>...</td>\n",
       "      <td>...</td>\n",
       "      <td>...</td>\n",
       "      <td>...</td>\n",
       "      <td>...</td>\n",
       "      <td>...</td>\n",
       "      <td>...</td>\n",
       "    </tr>\n",
       "    <tr>\n",
       "      <th>39529</th>\n",
       "      <td>1.0</td>\n",
       "      <td>45.0</td>\n",
       "      <td>237.0</td>\n",
       "      <td>1.0</td>\n",
       "      <td>243.0</td>\n",
       "      <td>1612.3333</td>\n",
       "      <td>1</td>\n",
       "    </tr>\n",
       "    <tr>\n",
       "      <th>39530</th>\n",
       "      <td>0.0</td>\n",
       "      <td>31.0</td>\n",
       "      <td>500.0</td>\n",
       "      <td>1.0</td>\n",
       "      <td>1445.0</td>\n",
       "      <td>875.0000</td>\n",
       "      <td>1</td>\n",
       "    </tr>\n",
       "    <tr>\n",
       "      <th>39531</th>\n",
       "      <td>0.0</td>\n",
       "      <td>43.0</td>\n",
       "      <td>500.0</td>\n",
       "      <td>1.0</td>\n",
       "      <td>12907.0</td>\n",
       "      <td>4748.0000</td>\n",
       "      <td>1</td>\n",
       "    </tr>\n",
       "    <tr>\n",
       "      <th>39532</th>\n",
       "      <td>0.0</td>\n",
       "      <td>47.0</td>\n",
       "      <td>36.0</td>\n",
       "      <td>1.0</td>\n",
       "      <td>36.0</td>\n",
       "      <td>1095.7500</td>\n",
       "      <td>0</td>\n",
       "    </tr>\n",
       "    <tr>\n",
       "      <th>39534</th>\n",
       "      <td>0.0</td>\n",
       "      <td>23.0</td>\n",
       "      <td>178.0</td>\n",
       "      <td>1.0</td>\n",
       "      <td>176.0</td>\n",
       "      <td>334.0000</td>\n",
       "      <td>0</td>\n",
       "    </tr>\n",
       "  </tbody>\n",
       "</table>\n",
       "<p>35565 rows × 7 columns</p>\n",
       "</div>"
      ],
      "text/plain": [
       "       genderEstimate  ageEstimate  connectionsCount  followable  \\\n",
       "0                 0.0         44.0             500.0         1.0   \n",
       "1                 0.0         44.0             500.0         1.0   \n",
       "2                 0.0         44.0             500.0         1.0   \n",
       "3                 0.0         44.0             500.0         1.0   \n",
       "4                 0.0         44.0             500.0         1.0   \n",
       "...               ...          ...               ...         ...   \n",
       "39529             1.0         45.0             237.0         1.0   \n",
       "39530             0.0         31.0             500.0         1.0   \n",
       "39531             0.0         43.0             500.0         1.0   \n",
       "39532             0.0         47.0              36.0         1.0   \n",
       "39534             0.0         23.0             178.0         1.0   \n",
       "\n",
       "       followersCount  avgMemberPosDuration_x hasPicture  \n",
       "0              1847.0                845.8000          1  \n",
       "1              1847.0                845.8000          1  \n",
       "2              1847.0                845.8000          1  \n",
       "3              1847.0                845.8000          1  \n",
       "4              1847.0                845.8000          1  \n",
       "...               ...                     ...        ...  \n",
       "39529           243.0               1612.3333          1  \n",
       "39530          1445.0                875.0000          1  \n",
       "39531         12907.0               4748.0000          1  \n",
       "39532            36.0               1095.7500          0  \n",
       "39534           176.0                334.0000          0  \n",
       "\n",
       "[35565 rows x 7 columns]"
      ]
     },
     "execution_count": 510,
     "metadata": {},
     "output_type": "execute_result"
    }
   ],
   "source": [
    "\n",
    "### traindata\n",
    "traincorr=traindate[['genderEstimate','ageEstimate','connectionsCount','followable','followersCount','avgMemberPosDuration_x','hasPicture']]\n",
    "traincorr\n"
   ]
  },
  {
   "cell_type": "code",
   "execution_count": 442,
   "id": "557f8582",
   "metadata": {
    "scrolled": false
   },
   "outputs": [
    {
     "data": {
      "text/plain": [
       "<AxesSubplot:>"
      ]
     },
     "execution_count": 442,
     "metadata": {},
     "output_type": "execute_result"
    },
    {
     "data": {
      "image/png": "[encoded data removed]",
      "text/plain": [
       "<Figure size 864x504 with 2 Axes>"
      ]
     },
     "metadata": {
      "needs_background": "light"
     },
     "output_type": "display_data"
    }
   ],
   "source": [
    "## corr\n",
    "\n",
    "plt.figure(figsize = (12, 7))\n",
    "\n",
    "sns.heatmap(traincorr.corr(), annot = True, cmap = \"coolwarm\")"
   ]
  },
  {
   "cell_type": "markdown",
   "id": "49db3a46",
   "metadata": {},
   "source": [
    "####  ChiSq Test for gender estimate features"
   ]
  },
  {
   "cell_type": "code",
   "execution_count": 443,
   "id": "b96dd0df",
   "metadata": {
    "scrolled": true
   },
   "outputs": [
    {
     "name": "stdout",
     "output_type": "stream",
     "text": [
      "hasPicture         0      1\n",
      "genderEstimate             \n",
      "0.0             5590  18242\n",
      "1.0             3329   8404\n",
      "The P-Value of the ChiSq Test is: 9.619982838625281e-24\n"
     ]
    }
   ],
   "source": [
    "## gender estimate -- haspicture \n",
    "## has picture it is significant \n",
    "## how to put in predictor \n",
    "CrosstabResult=pd.crosstab(index=traincorr['genderEstimate'],columns=traincorr['hasPicture'])\n",
    "print(CrosstabResult)\n",
    " \n",
    "# importing the required function\n",
    "from scipy.stats import chi2_contingency\n",
    " \n",
    "# Performing Chi-sq test\n",
    "ChiSqResult = chi2_contingency(CrosstabResult)\n",
    " \n",
    "# P-Value is the Probability of H0 being True\n",
    "# If P-Value&gt;0.05 then only we Accept the assumption(H0)\n",
    " \n",
    "print('The P-Value of the ChiSq Test is:', ChiSqResult[1])\n"
   ]
  },
  {
   "cell_type": "code",
   "execution_count": 445,
   "id": "d7cd6b0e",
   "metadata": {},
   "outputs": [
    {
     "name": "stdout",
     "output_type": "stream",
     "text": [
      "isPremium         0.0   1.0\n",
      "genderEstimate             \n",
      "0.0             20429  3403\n",
      "1.0             10416  1317\n",
      "The P-Value of the ChiSq Test is: 1.6367598557430305e-15\n"
     ]
    }
   ],
   "source": [
    "# is premium is significant for gender \n",
    "CrosstabResult=pd.crosstab(index=traindate['genderEstimate'],columns=traindate['isPremium'])\n",
    "print(CrosstabResult)\n",
    " \n",
    "# importing the required function\n",
    "from scipy.stats import chi2_contingency\n",
    " \n",
    "# Performing Chi-sq test\n",
    "ChiSqResult = chi2_contingency(CrosstabResult)\n",
    " \n",
    "print('The P-Value of the ChiSq Test is:', ChiSqResult[1])"
   ]
  },
  {
   "cell_type": "code",
   "execution_count": 459,
   "id": "713cc961",
   "metadata": {},
   "outputs": [
    {
     "name": "stdout",
     "output_type": "stream",
     "text": [
      "followable       0.0    1.0\n",
      "genderEstimate             \n",
      "0.0             1060  22772\n",
      "1.0              677  11056\n",
      "The P-Value of the ChiSq Test is: 6.18071810901945e-08\n"
     ]
    }
   ],
   "source": [
    "CrosstabResult=pd.crosstab(index=traindate['genderEstimate'],columns=traindate['followable'])\n",
    "print(CrosstabResult)\n",
    " \n",
    "# importing the required function\n",
    "from scipy.stats import chi2_contingency\n",
    " \n",
    "# Performing Chi-sq test\n",
    "ChiSqResult = chi2_contingency(CrosstabResult)\n",
    " \n",
    "print('The P-Value of the ChiSq Test is:', ChiSqResult[1])"
   ]
  },
  {
   "cell_type": "code",
   "execution_count": 461,
   "id": "6599d63b",
   "metadata": {},
   "outputs": [
    {
     "name": "stdout",
     "output_type": "stream",
     "text": [
      "P-Value for Anova is:  2.0439724367098338e-190\n"
     ]
    }
   ],
   "source": [
    "### anova test\n",
    "\n",
    "########################################################\n",
    "# f_oneway() function takes the group data as input and \n",
    "# returns F-statistic and P-value\n",
    "from scipy.stats import f_oneway\n",
    " \n",
    "# Running the one-way anova test between CarPrice and FuelTypes\n",
    "# Assumption(H0) is that FuelType and CarPrices are NOT correlated\n",
    " \n",
    "# Finds out the Prices data for each FuelType as a list\n",
    "CategoryGroupLists=traindate.groupby('genderEstimate')['ageEstimate'].apply(list)\n",
    " \n",
    "# Performing the ANOVA test\n",
    "# We accept the Assumption(H0) only when P-Value &gt; 0.05\n",
    "AnovaResults = f_oneway(*CategoryGroupLists)\n",
    "print('P-Value for Anova is: ', AnovaResults[1])"
   ]
  },
  {
   "cell_type": "code",
   "execution_count": 462,
   "id": "85bdeb3e",
   "metadata": {},
   "outputs": [
    {
     "name": "stdout",
     "output_type": "stream",
     "text": [
      "P-Value for Anova is:  8.088999776463919e-39\n"
     ]
    }
   ],
   "source": [
    "from scipy.stats import f_oneway\n",
    " \n",
    "# Running the one-way anova test between CarPrice and FuelTypes\n",
    "# Assumption(H0) is that FuelType and CarPrices are NOT correlated\n",
    " \n",
    "# Finds out the Prices data for each FuelType as a list\n",
    "CategoryGroupLists=traindate.groupby('genderEstimate')['connectionsCount'].apply(list)\n",
    " \n",
    "# Performing the ANOVA test\n",
    "# We accept the Assumption(H0) only when P-Value &gt; 0.05\n",
    "AnovaResults = f_oneway(*CategoryGroupLists)\n",
    "print('P-Value for Anova is: ', AnovaResults[1])"
   ]
  },
  {
   "cell_type": "code",
   "execution_count": 463,
   "id": "d6a9ed50",
   "metadata": {},
   "outputs": [
    {
     "name": "stdout",
     "output_type": "stream",
     "text": [
      "P-Value for Anova is:  8.202153496484059e-44\n"
     ]
    }
   ],
   "source": [
    "from scipy.stats import f_oneway\n",
    " \n",
    "# Running the one-way anova test between CarPrice and FuelTypes\n",
    "# Assumption(H0) is that FuelType and CarPrices are NOT correlated\n",
    " \n",
    "# Finds out the Prices data for each FuelType as a list\n",
    "CategoryGroupLists=traindate.groupby('genderEstimate')['avgMemberPosDuration_x'].apply(list)\n",
    " \n",
    "# Performing the ANOVA test\n",
    "# We accept the Assumption(H0) only when P-Value &gt; 0.05\n",
    "AnovaResults = f_oneway(*CategoryGroupLists)\n",
    "print('P-Value for Anova is: ', AnovaResults[1])"
   ]
  },
  {
   "cell_type": "code",
   "execution_count": 464,
   "id": "576e44dd",
   "metadata": {},
   "outputs": [
    {
     "data": {
      "text/html": [
       "<div>\n",
       "<style scoped>\n",
       "    .dataframe tbody tr th:only-of-type {\n",
       "        vertical-align: middle;\n",
       "    }\n",
       "\n",
       "    .dataframe tbody tr th {\n",
       "        vertical-align: top;\n",
       "    }\n",
       "\n",
       "    .dataframe thead th {\n",
       "        text-align: right;\n",
       "    }\n",
       "</style>\n",
       "<table border=\"1\" class=\"dataframe\">\n",
       "  <thead>\n",
       "    <tr style=\"text-align: right;\">\n",
       "      <th></th>\n",
       "      <th>ageEstimate</th>\n",
       "      <th>connectionsCount</th>\n",
       "      <th>followable</th>\n",
       "      <th>followersCount</th>\n",
       "      <th>avgMemberPosDuration_x</th>\n",
       "      <th>hasPicture</th>\n",
       "    </tr>\n",
       "  </thead>\n",
       "  <tbody>\n",
       "    <tr>\n",
       "      <th>0</th>\n",
       "      <td>44.0</td>\n",
       "      <td>500.0</td>\n",
       "      <td>1.0</td>\n",
       "      <td>1847.0</td>\n",
       "      <td>845.8000</td>\n",
       "      <td>1</td>\n",
       "    </tr>\n",
       "    <tr>\n",
       "      <th>1</th>\n",
       "      <td>44.0</td>\n",
       "      <td>500.0</td>\n",
       "      <td>1.0</td>\n",
       "      <td>1847.0</td>\n",
       "      <td>845.8000</td>\n",
       "      <td>1</td>\n",
       "    </tr>\n",
       "    <tr>\n",
       "      <th>2</th>\n",
       "      <td>44.0</td>\n",
       "      <td>500.0</td>\n",
       "      <td>1.0</td>\n",
       "      <td>1847.0</td>\n",
       "      <td>845.8000</td>\n",
       "      <td>1</td>\n",
       "    </tr>\n",
       "    <tr>\n",
       "      <th>3</th>\n",
       "      <td>44.0</td>\n",
       "      <td>500.0</td>\n",
       "      <td>1.0</td>\n",
       "      <td>1847.0</td>\n",
       "      <td>845.8000</td>\n",
       "      <td>1</td>\n",
       "    </tr>\n",
       "    <tr>\n",
       "      <th>4</th>\n",
       "      <td>44.0</td>\n",
       "      <td>500.0</td>\n",
       "      <td>1.0</td>\n",
       "      <td>1847.0</td>\n",
       "      <td>845.8000</td>\n",
       "      <td>1</td>\n",
       "    </tr>\n",
       "    <tr>\n",
       "      <th>...</th>\n",
       "      <td>...</td>\n",
       "      <td>...</td>\n",
       "      <td>...</td>\n",
       "      <td>...</td>\n",
       "      <td>...</td>\n",
       "      <td>...</td>\n",
       "    </tr>\n",
       "    <tr>\n",
       "      <th>39529</th>\n",
       "      <td>45.0</td>\n",
       "      <td>237.0</td>\n",
       "      <td>1.0</td>\n",
       "      <td>243.0</td>\n",
       "      <td>1612.3333</td>\n",
       "      <td>1</td>\n",
       "    </tr>\n",
       "    <tr>\n",
       "      <th>39530</th>\n",
       "      <td>31.0</td>\n",
       "      <td>500.0</td>\n",
       "      <td>1.0</td>\n",
       "      <td>1445.0</td>\n",
       "      <td>875.0000</td>\n",
       "      <td>1</td>\n",
       "    </tr>\n",
       "    <tr>\n",
       "      <th>39531</th>\n",
       "      <td>43.0</td>\n",
       "      <td>500.0</td>\n",
       "      <td>1.0</td>\n",
       "      <td>12907.0</td>\n",
       "      <td>4748.0000</td>\n",
       "      <td>1</td>\n",
       "    </tr>\n",
       "    <tr>\n",
       "      <th>39532</th>\n",
       "      <td>47.0</td>\n",
       "      <td>36.0</td>\n",
       "      <td>1.0</td>\n",
       "      <td>36.0</td>\n",
       "      <td>1095.7500</td>\n",
       "      <td>0</td>\n",
       "    </tr>\n",
       "    <tr>\n",
       "      <th>39534</th>\n",
       "      <td>23.0</td>\n",
       "      <td>178.0</td>\n",
       "      <td>1.0</td>\n",
       "      <td>176.0</td>\n",
       "      <td>334.0000</td>\n",
       "      <td>0</td>\n",
       "    </tr>\n",
       "  </tbody>\n",
       "</table>\n",
       "<p>35565 rows × 6 columns</p>\n",
       "</div>"
      ],
      "text/plain": [
       "       ageEstimate  connectionsCount  followable  followersCount  \\\n",
       "0             44.0             500.0         1.0          1847.0   \n",
       "1             44.0             500.0         1.0          1847.0   \n",
       "2             44.0             500.0         1.0          1847.0   \n",
       "3             44.0             500.0         1.0          1847.0   \n",
       "4             44.0             500.0         1.0          1847.0   \n",
       "...            ...               ...         ...             ...   \n",
       "39529         45.0             237.0         1.0           243.0   \n",
       "39530         31.0             500.0         1.0          1445.0   \n",
       "39531         43.0             500.0         1.0         12907.0   \n",
       "39532         47.0              36.0         1.0            36.0   \n",
       "39534         23.0             178.0         1.0           176.0   \n",
       "\n",
       "       avgMemberPosDuration_x hasPicture  \n",
       "0                    845.8000          1  \n",
       "1                    845.8000          1  \n",
       "2                    845.8000          1  \n",
       "3                    845.8000          1  \n",
       "4                    845.8000          1  \n",
       "...                       ...        ...  \n",
       "39529               1612.3333          1  \n",
       "39530                875.0000          1  \n",
       "39531               4748.0000          1  \n",
       "39532               1095.7500          0  \n",
       "39534                334.0000          0  \n",
       "\n",
       "[35565 rows x 6 columns]"
      ]
     },
     "execution_count": 464,
     "metadata": {},
     "output_type": "execute_result"
    }
   ],
   "source": [
    "## model to predict gender\n",
    "traindateage"
   ]
  },
  {
   "cell_type": "code",
   "execution_count": 465,
   "id": "2f552e89",
   "metadata": {},
   "outputs": [],
   "source": [
    "from sklearn.preprocessing import MinMaxScaler\n",
    "scaler = MinMaxScaler()\n",
    "scaler.fit(traindateage)\n",
    "traindateage_scaled = scaler.transform(traindateage)"
   ]
  },
  {
   "cell_type": "code",
   "execution_count": 466,
   "id": "2514fa5d",
   "metadata": {},
   "outputs": [],
   "source": [
    "#type(traindateage_scaled)\n",
    "y=traindate.genderEstimate"
   ]
  },
  {
   "cell_type": "code",
   "execution_count": 467,
   "id": "ab19f8c7",
   "metadata": {},
   "outputs": [],
   "source": [
    "from sklearn.model_selection import train_test_split\n",
    "X_train, X_test, y_train, y_test= train_test_split(traindateage_scaled,y , test_size=0.2, random_state=42)"
   ]
  },
  {
   "cell_type": "code",
   "execution_count": 468,
   "id": "407c19b5",
   "metadata": {},
   "outputs": [],
   "source": [
    "from sklearn.linear_model import LogisticRegression\n",
    "clf = LogisticRegression()\n",
    "# training the model\n",
    "clf.fit(X_train, y_train)\n",
    "y_pred = clf.predict(X_test)"
   ]
  },
  {
   "cell_type": "code",
   "execution_count": 469,
   "id": "041a59fb",
   "metadata": {},
   "outputs": [
    {
     "name": "stdout",
     "output_type": "stream",
     "text": [
      "Accuracy: 66.91%\n"
     ]
    }
   ],
   "source": [
    "## accuracy of model\n",
    "from sklearn.metrics import accuracy_score\n",
    "accuracy = accuracy_score(y_test, y_pred)\n",
    "print(\"Accuracy: {:.2f}%\".format(accuracy * 100))"
   ]
  },
  {
   "cell_type": "code",
   "execution_count": null,
   "id": "751a1bf5",
   "metadata": {},
   "outputs": [],
   "source": [
    "from sklearn.metrics import confusion_matrix\n",
    "cf = confusion_matrix(y_test, y_pred)\n",
    "plt.figure()\n",
    "sns.heatmap(cf, annot=True)\n",
    "plt.xlabel('Prediction')\n",
    "plt.ylabel('Target')\n",
    "plt.title('Confusion Matrix')"
   ]
  },
  {
   "cell_type": "code",
   "execution_count": 470,
   "id": "d0c19625",
   "metadata": {},
   "outputs": [],
   "source": [
    "from sklearn.preprocessing import MinMaxScaler\n",
    "testdateanswer=testdate[['ageEstimate','connectionsCount','followable','followersCount','avgMemberPosDuration_x','hasPicture']]\n",
    "scaler = MinMaxScaler()\n",
    "scaler.fit(testdateanswer)\n",
    "testdateanswer_scaled = scaler.transform(testdateanswer)\n",
    "y_answer = clf.predict(testdateanswer_scaled)\n"
   ]
  },
  {
   "cell_type": "code",
   "execution_count": 476,
   "id": "1d3549c2",
   "metadata": {},
   "outputs": [
    {
     "data": {
      "text/plain": [
       "array([0., 0., 0., ..., 0., 0., 0.])"
      ]
     },
     "execution_count": 476,
     "metadata": {},
     "output_type": "execute_result"
    }
   ],
   "source": [
    "y_answer"
   ]
  },
  {
   "cell_type": "code",
   "execution_count": 474,
   "id": "bab2ce12",
   "metadata": {},
   "outputs": [
    {
     "data": {
      "text/plain": [
       "3970"
      ]
     },
     "execution_count": 474,
     "metadata": {},
     "output_type": "execute_result"
    }
   ],
   "source": [
    "len(y_answer)"
   ]
  },
  {
   "cell_type": "code",
   "execution_count": null,
   "id": "70c0209d",
   "metadata": {},
   "outputs": [],
   "source": []
  },
  {
   "cell_type": "markdown",
   "id": "986ec885",
   "metadata": {},
   "source": [
    "### in premium features \n",
    "\n",
    "What's the % of Customers and customers that keep in with the premium  services.-- \n",
    "We can see different patterns in preimum Customers based on the type of features provided?\n",
    "We have difference pattern of churn between genders ?\n",
    "What's the difference between customers that pay monthly and by year?\n",
    "what's the most profitable service types?\n",
    "What's the amount lose in revenue?\n",
    "What's the mean age of papeless customers? they are more propense to churn?\n",
    "A lot of other questions that will raise trought the exploration\n",
    "\n",
    "\n"
   ]
  },
  {
   "cell_type": "code",
   "execution_count": 924,
   "id": "11048904",
   "metadata": {},
   "outputs": [
    {
     "data": {
      "text/plain": [
       "<AxesSubplot:>"
      ]
     },
     "execution_count": 924,
     "metadata": {},
     "output_type": "execute_result"
    },
    {
     "data": {
      "image/png": "[encoded data removed]",
      "text/plain": [
       "<Figure size 432x288 with 1 Axes>"
      ]
     },
     "metadata": {},
     "output_type": "display_data"
    }
   ],
   "source": [
    "#What's the % of Customers and customers that keep in with the premium  services.-- \n",
    "memberlevelgrp.isPremium.value_counts().plot(kind='bar')"
   ]
  },
  {
   "cell_type": "code",
   "execution_count": 925,
   "id": "f4d79534",
   "metadata": {},
   "outputs": [
    {
     "data": {
      "text/plain": [
       "0.0    0.886911\n",
       "1.0    0.113089\n",
       "Name: isPremium, dtype: float64"
      ]
     },
     "execution_count": 925,
     "metadata": {},
     "output_type": "execute_result"
    }
   ],
   "source": [
    "memberlevelgrp.isPremium.value_counts()/memberlevelgrp.isPremium.count()"
   ]
  },
  {
   "cell_type": "code",
   "execution_count": 930,
   "id": "30a2b0b1",
   "metadata": {},
   "outputs": [
    {
     "data": {
      "image/png": "[encoded data removed]",
      "text/plain": [
       "<Figure size 432x288 with 1 Axes>"
      ]
     },
     "metadata": {},
     "output_type": "display_data"
    }
   ],
   "source": [
    "# ageEstimate\n",
    "#cleantranscations.ageEstimate.plot.hist()\n",
    "ax = sns.histplot(x = 'ageEstimate', hue = 'isPremium', data = memberlevelgrp,bins=5)\n"
   ]
  },
  {
   "cell_type": "code",
   "execution_count": 938,
   "id": "9430fbda",
   "metadata": {},
   "outputs": [
    {
     "data": {
      "image/png": "[encoded data removed]",
      "text/plain": [
       "<Figure size 432x288 with 1 Axes>"
      ]
     },
     "metadata": {},
     "output_type": "display_data"
    }
   ],
   "source": [
    "ax = sns.histplot(x = 'avgCompanyPosDuration_x', hue = 'isPremium', data = memberlevelgrp,bins=9)\n"
   ]
  },
  {
   "cell_type": "code",
   "execution_count": null,
   "id": "ea0fdf3f",
   "metadata": {},
   "outputs": [],
   "source": [
    "## avgCompanyPosDuration_x \n",
    "## low , medium ,highe duration- in premium-- non premium"
   ]
  },
  {
   "cell_type": "code",
   "execution_count": 940,
   "id": "92ceb758",
   "metadata": {},
   "outputs": [
    {
     "data": {
      "image/png": "[encoded data removed]",
      "text/plain": [
       "<Figure size 432x288 with 1 Axes>"
      ]
     },
     "metadata": {},
     "output_type": "display_data"
    }
   ],
   "source": [
    "#memberlevelgrp[(memberlevelgrp['avgMemberPosDuration_x']<1500)].avgMemberPosDuration_x.plot.hist(bins=100)\n",
    "ax = sns.histplot(x = 'avgMemberPosDuration_x', hue = 'isPremium', data = memberlevelgrp,bins=8)\n"
   ]
  },
  {
   "cell_type": "code",
   "execution_count": 941,
   "id": "2a5e9caa",
   "metadata": {},
   "outputs": [
    {
     "data": {
      "image/png": "[encoded data removed]",
      "text/plain": [
       "<Figure size 432x288 with 1 Axes>"
      ]
     },
     "metadata": {},
     "output_type": "display_data"
    }
   ],
   "source": [
    "ax = sns.histplot(x = 'followersCount', hue = 'isPremium', data = memberlevelgrp,bins=8)\n"
   ]
  },
  {
   "cell_type": "code",
   "execution_count": 944,
   "id": "835935b5",
   "metadata": {},
   "outputs": [
    {
     "data": {
      "image/png": "[encoded data removed]",
      "text/plain": [
       "<Figure size 432x288 with 1 Axes>"
      ]
     },
     "metadata": {},
     "output_type": "display_data"
    }
   ],
   "source": [
    "ax = sns.histplot(x = 'connectionsCount', hue = 'isPremium', data = memberlevelgrp,bins=8)\n"
   ]
  },
  {
   "cell_type": "code",
   "execution_count": 946,
   "id": "cade358e",
   "metadata": {},
   "outputs": [
    {
     "data": {
      "image/png": "[encoded data removed]",
      "text/plain": [
       "<Figure size 432x288 with 1 Axes>"
      ]
     },
     "metadata": {},
     "output_type": "display_data"
    }
   ],
   "source": [
    "ax = sns.histplot(x = 'endDate', hue = 'isPremium', data = memberlevelgrp,bins=2)\n"
   ]
  },
  {
   "cell_type": "markdown",
   "id": "3df3e1dd",
   "metadata": {},
   "source": [
    "## FEATURE ENGINEERING"
   ]
  },
  {
   "cell_type": "code",
   "execution_count": null,
   "id": "54255a2b",
   "metadata": {},
   "outputs": [],
   "source": []
  },
  {
   "cell_type": "markdown",
   "id": "9e98f0d1",
   "metadata": {},
   "source": [
    "Observations:\n",
    "CLIENTNUM: It is a unique identifier for customers and can be dropped as it wouldn't add any information to our analysis.\n",
    "Customer_Age: Average age of customers is 46 years and it has a wide range from 26 to 73 years.\n",
    "Dependent_count: On average the customers in the data have 2 dependents and a maximum of 5 dependents.\n",
    "Months_on_book: All the customers of the bank have at least been with them for a year and 50% of the customers for at least 3 years."
   ]
  },
  {
   "cell_type": "code",
   "execution_count": null,
   "id": "cf61ba4b",
   "metadata": {},
   "outputs": [],
   "source": [
    "Observations:\n",
    "CLIENTNUM: It is a unique identifier for customers and can be dropped as it wouldn't add any information to our analysis.\n",
    "Customer_Age: Average age of customers is 46 years and it has a wide range from 26 to 73 years.\n",
    "Dependent_count: On average the customers in the data have 2 dependents and a maximum of 5 dependents.\n",
    "Months_on_book: All the customers of the bank have at least been with them for a year and 50% of the customers for at least 3 years."
   ]
  },
  {
   "cell_type": "markdown",
   "id": "bb438ab9",
   "metadata": {},
   "source": [
    "#### ANALYSING CATEGORICAL"
   ]
  },
  {
   "cell_type": "code",
   "execution_count": 517,
   "id": "0d16c348",
   "metadata": {},
   "outputs": [
    {
     "data": {
      "text/html": [
       "<div>\n",
       "<style scoped>\n",
       "    .dataframe tbody tr th:only-of-type {\n",
       "        vertical-align: middle;\n",
       "    }\n",
       "\n",
       "    .dataframe tbody tr th {\n",
       "        vertical-align: top;\n",
       "    }\n",
       "\n",
       "    .dataframe thead th {\n",
       "        text-align: right;\n",
       "    }\n",
       "</style>\n",
       "<table border=\"1\" class=\"dataframe\">\n",
       "  <thead>\n",
       "    <tr style=\"text-align: right;\">\n",
       "      <th></th>\n",
       "      <th>count</th>\n",
       "      <th>unique</th>\n",
       "      <th>top</th>\n",
       "      <th>freq</th>\n",
       "    </tr>\n",
       "  </thead>\n",
       "  <tbody>\n",
       "    <tr>\n",
       "      <th>companyName</th>\n",
       "      <td>39535</td>\n",
       "      <td>13755</td>\n",
       "      <td>Telstra</td>\n",
       "      <td>683</td>\n",
       "    </tr>\n",
       "    <tr>\n",
       "      <th>country</th>\n",
       "      <td>39535</td>\n",
       "      <td>1</td>\n",
       "      <td>au</td>\n",
       "      <td>39535</td>\n",
       "    </tr>\n",
       "    <tr>\n",
       "      <th>hasPicture</th>\n",
       "      <td>39535</td>\n",
       "      <td>2</td>\n",
       "      <td>1</td>\n",
       "      <td>29599</td>\n",
       "    </tr>\n",
       "    <tr>\n",
       "      <th>mbrLocation</th>\n",
       "      <td>39535</td>\n",
       "      <td>474</td>\n",
       "      <td>Sydney, Australia</td>\n",
       "      <td>9021</td>\n",
       "    </tr>\n",
       "    <tr>\n",
       "      <th>mbrTitle</th>\n",
       "      <td>39535</td>\n",
       "      <td>6710</td>\n",
       "      <td>National Coordinator - Website and Learning Ma...</td>\n",
       "      <td>69</td>\n",
       "    </tr>\n",
       "    <tr>\n",
       "      <th>memberUrn</th>\n",
       "      <td>39535</td>\n",
       "      <td>6853</td>\n",
       "      <td>urn:li:member:51452257</td>\n",
       "      <td>69</td>\n",
       "    </tr>\n",
       "    <tr>\n",
       "      <th>posTitle</th>\n",
       "      <td>39535</td>\n",
       "      <td>23907</td>\n",
       "      <td>Project Manager</td>\n",
       "      <td>442</td>\n",
       "    </tr>\n",
       "  </tbody>\n",
       "</table>\n",
       "</div>"
      ],
      "text/plain": [
       "             count unique                                                top  \\\n",
       "companyName  39535  13755                                            Telstra   \n",
       "country      39535      1                                                 au   \n",
       "hasPicture   39535      2                                                  1   \n",
       "mbrLocation  39535    474                                  Sydney, Australia   \n",
       "mbrTitle     39535   6710  National Coordinator - Website and Learning Ma...   \n",
       "memberUrn    39535   6853                             urn:li:member:51452257   \n",
       "posTitle     39535  23907                                    Project Manager   \n",
       "\n",
       "              freq  \n",
       "companyName    683  \n",
       "country      39535  \n",
       "hasPicture   29599  \n",
       "mbrLocation   9021  \n",
       "mbrTitle        69  \n",
       "memberUrn       69  \n",
       "posTitle       442  "
      ]
     },
     "execution_count": 517,
     "metadata": {},
     "output_type": "execute_result"
    }
   ],
   "source": [
    "cleantranscations.describe(include=[\"object\"]).T"
   ]
  },
  {
   "cell_type": "code",
   "execution_count": null,
   "id": "4f7f685c",
   "metadata": {},
   "outputs": [],
   "source": [
    "for i in cleantranscations.describe(include=[\"object\"]).columns:\n",
    "    print(\"Unique values in\", i, \"are :\")\n",
    "    print(cleantranscations[i].value_counts())\n",
    "    print(\"*\" * 50)"
   ]
  },
  {
   "cell_type": "code",
   "execution_count": 518,
   "id": "24459ee7",
   "metadata": {},
   "outputs": [
    {
     "data": {
      "text/html": [
       "<div>\n",
       "<style scoped>\n",
       "    .dataframe tbody tr th:only-of-type {\n",
       "        vertical-align: middle;\n",
       "    }\n",
       "\n",
       "    .dataframe tbody tr th {\n",
       "        vertical-align: top;\n",
       "    }\n",
       "\n",
       "    .dataframe thead th {\n",
       "        text-align: right;\n",
       "    }\n",
       "</style>\n",
       "<table border=\"1\" class=\"dataframe\">\n",
       "  <thead>\n",
       "    <tr style=\"text-align: right;\">\n",
       "      <th></th>\n",
       "      <th>companyName</th>\n",
       "      <th>companyStaffCount_x</th>\n",
       "      <th>companyFollowerCount_x</th>\n",
       "      <th>avgCompanyPosDuration_x</th>\n",
       "      <th>ageEstimate</th>\n",
       "      <th>connectionsCount</th>\n",
       "      <th>country</th>\n",
       "      <th>endDate</th>\n",
       "      <th>followable</th>\n",
       "      <th>followersCount</th>\n",
       "      <th>genderEstimate</th>\n",
       "      <th>hasPicture</th>\n",
       "      <th>isPremium</th>\n",
       "      <th>mbrLocation</th>\n",
       "      <th>mbrTitle</th>\n",
       "      <th>memberUrn</th>\n",
       "      <th>posTitle</th>\n",
       "      <th>positionId</th>\n",
       "      <th>startDate</th>\n",
       "      <th>avgMemberPosDuration_x</th>\n",
       "    </tr>\n",
       "  </thead>\n",
       "  <tbody>\n",
       "    <tr>\n",
       "      <th>0</th>\n",
       "      <td>Eco Energy Group Ltd</td>\n",
       "      <td>1.0</td>\n",
       "      <td>3.0</td>\n",
       "      <td>730.0000</td>\n",
       "      <td>44.0</td>\n",
       "      <td>500.0</td>\n",
       "      <td>au</td>\n",
       "      <td>2022-09-21</td>\n",
       "      <td>1.0</td>\n",
       "      <td>1847.0</td>\n",
       "      <td>0.0</td>\n",
       "      <td>1</td>\n",
       "      <td>0.0</td>\n",
       "      <td>Sydney, Australia</td>\n",
       "      <td>Ensuring customer success for our valued Veriz...</td>\n",
       "      <td>urn:li:member:4368989</td>\n",
       "      <td>Contract - NSW State Sales Manager</td>\n",
       "      <td>327695.0</td>\n",
       "      <td>2017-07-01</td>\n",
       "      <td>845.8</td>\n",
       "    </tr>\n",
       "    <tr>\n",
       "      <th>1</th>\n",
       "      <td>Avaya</td>\n",
       "      <td>16686.0</td>\n",
       "      <td>272335.0</td>\n",
       "      <td>1113.1341</td>\n",
       "      <td>44.0</td>\n",
       "      <td>500.0</td>\n",
       "      <td>au</td>\n",
       "      <td>2007-01-01</td>\n",
       "      <td>1.0</td>\n",
       "      <td>1847.0</td>\n",
       "      <td>0.0</td>\n",
       "      <td>1</td>\n",
       "      <td>0.0</td>\n",
       "      <td>Sydney, Australia</td>\n",
       "      <td>Ensuring customer success for our valued Veriz...</td>\n",
       "      <td>urn:li:member:4368989</td>\n",
       "      <td>Strategic Account Director</td>\n",
       "      <td>327702.0</td>\n",
       "      <td>2005-01-01</td>\n",
       "      <td>845.8</td>\n",
       "    </tr>\n",
       "    <tr>\n",
       "      <th>2</th>\n",
       "      <td>Checkpoint Systems</td>\n",
       "      <td>1557.0</td>\n",
       "      <td>27699.0</td>\n",
       "      <td>1114.3256</td>\n",
       "      <td>44.0</td>\n",
       "      <td>500.0</td>\n",
       "      <td>au</td>\n",
       "      <td>1998-12-01</td>\n",
       "      <td>1.0</td>\n",
       "      <td>1847.0</td>\n",
       "      <td>0.0</td>\n",
       "      <td>1</td>\n",
       "      <td>0.0</td>\n",
       "      <td>Sydney, Australia</td>\n",
       "      <td>Ensuring customer success for our valued Veriz...</td>\n",
       "      <td>urn:li:member:4368989</td>\n",
       "      <td>National Sales Manager</td>\n",
       "      <td>327704.0</td>\n",
       "      <td>1995-01-01</td>\n",
       "      <td>845.8</td>\n",
       "    </tr>\n",
       "    <tr>\n",
       "      <th>3</th>\n",
       "      <td>IBM</td>\n",
       "      <td>568533.0</td>\n",
       "      <td>4385293.0</td>\n",
       "      <td>1188.7339</td>\n",
       "      <td>44.0</td>\n",
       "      <td>500.0</td>\n",
       "      <td>au</td>\n",
       "      <td>2016-08-01</td>\n",
       "      <td>1.0</td>\n",
       "      <td>1847.0</td>\n",
       "      <td>0.0</td>\n",
       "      <td>1</td>\n",
       "      <td>0.0</td>\n",
       "      <td>Sydney, Australia</td>\n",
       "      <td>Ensuring customer success for our valued Veriz...</td>\n",
       "      <td>urn:li:member:4368989</td>\n",
       "      <td>Cloud Sales Specialsit &amp; Business Development ...</td>\n",
       "      <td>327697.0</td>\n",
       "      <td>2013-11-01</td>\n",
       "      <td>845.8</td>\n",
       "    </tr>\n",
       "    <tr>\n",
       "      <th>4</th>\n",
       "      <td>IBM</td>\n",
       "      <td>568533.0</td>\n",
       "      <td>4385293.0</td>\n",
       "      <td>1188.7339</td>\n",
       "      <td>44.0</td>\n",
       "      <td>500.0</td>\n",
       "      <td>au</td>\n",
       "      <td>2013-12-01</td>\n",
       "      <td>1.0</td>\n",
       "      <td>1847.0</td>\n",
       "      <td>0.0</td>\n",
       "      <td>1</td>\n",
       "      <td>0.0</td>\n",
       "      <td>Sydney, Australia</td>\n",
       "      <td>Ensuring customer success for our valued Veriz...</td>\n",
       "      <td>urn:li:member:4368989</td>\n",
       "      <td>Senior Sales Specialist Systems and Technology...</td>\n",
       "      <td>327698.0</td>\n",
       "      <td>2011-08-01</td>\n",
       "      <td>845.8</td>\n",
       "    </tr>\n",
       "  </tbody>\n",
       "</table>\n",
       "</div>"
      ],
      "text/plain": [
       "             companyName  companyStaffCount_x  companyFollowerCount_x  \\\n",
       "0   Eco Energy Group Ltd                  1.0                     3.0   \n",
       "1                  Avaya              16686.0                272335.0   \n",
       "2     Checkpoint Systems               1557.0                 27699.0   \n",
       "3                    IBM             568533.0               4385293.0   \n",
       "4                    IBM             568533.0               4385293.0   \n",
       "\n",
       "   avgCompanyPosDuration_x  ageEstimate  connectionsCount country    endDate  \\\n",
       "0                 730.0000         44.0             500.0      au 2022-09-21   \n",
       "1                1113.1341         44.0             500.0      au 2007-01-01   \n",
       "2                1114.3256         44.0             500.0      au 1998-12-01   \n",
       "3                1188.7339         44.0             500.0      au 2016-08-01   \n",
       "4                1188.7339         44.0             500.0      au 2013-12-01   \n",
       "\n",
       "   followable  followersCount  genderEstimate hasPicture  isPremium  \\\n",
       "0         1.0          1847.0             0.0          1        0.0   \n",
       "1         1.0          1847.0             0.0          1        0.0   \n",
       "2         1.0          1847.0             0.0          1        0.0   \n",
       "3         1.0          1847.0             0.0          1        0.0   \n",
       "4         1.0          1847.0             0.0          1        0.0   \n",
       "\n",
       "         mbrLocation                                           mbrTitle  \\\n",
       "0  Sydney, Australia  Ensuring customer success for our valued Veriz...   \n",
       "1  Sydney, Australia  Ensuring customer success for our valued Veriz...   \n",
       "2  Sydney, Australia  Ensuring customer success for our valued Veriz...   \n",
       "3  Sydney, Australia  Ensuring customer success for our valued Veriz...   \n",
       "4  Sydney, Australia  Ensuring customer success for our valued Veriz...   \n",
       "\n",
       "               memberUrn                                           posTitle  \\\n",
       "0  urn:li:member:4368989                Contract - NSW State Sales Manager    \n",
       "1  urn:li:member:4368989                         Strategic Account Director   \n",
       "2  urn:li:member:4368989                             National Sales Manager   \n",
       "3  urn:li:member:4368989  Cloud Sales Specialsit & Business Development ...   \n",
       "4  urn:li:member:4368989  Senior Sales Specialist Systems and Technology...   \n",
       "\n",
       "   positionId  startDate  avgMemberPosDuration_x  \n",
       "0    327695.0 2017-07-01                   845.8  \n",
       "1    327702.0 2005-01-01                   845.8  \n",
       "2    327704.0 1995-01-01                   845.8  \n",
       "3    327697.0 2013-11-01                   845.8  \n",
       "4    327698.0 2011-08-01                   845.8  "
      ]
     },
     "execution_count": 518,
     "metadata": {},
     "output_type": "execute_result"
    }
   ],
   "source": [
    "cleantranscations.head()"
   ]
  },
  {
   "cell_type": "markdown",
   "id": "2a0e7c04",
   "metadata": {},
   "source": [
    "#### ANALYSING FRATURES BY GRAPHS\n",
    "#### connections count,followers : avg count \n",
    "#### ciuntry \n",
    "##### has picture,is premium - bargrpah\n",
    "##### mbrLocation- density graph\n",
    "##### mbr title per person -graph\n",
    "#### avgMemberPosDuration,avgCompanyPosDuration -graph"
   ]
  },
  {
   "cell_type": "markdown",
   "id": "148a34f6",
   "metadata": {},
   "source": [
    "# selecting criteria for premium \n",
    "#companies, employeees, jobs title \n",
    "#active vs non active customers (last date check )\n",
    "#reasons to get premium\n",
    "#followers count- more engagement, network increase, visibility increase  \n",
    "   #followers count (high) - premium - creater mode,monteize \n",
    "#companyHasLogo- authenicity,followers less - more likely to change\n",
    "#company avg - less more- likely to change\n",
    "#companyStaffCount- same increase visibility in same as company connection \n",
    "#hasPicture-engagement,location- high%  of people taken premium \n",
    "#end date-- open job or not\n",
    "##how oftern company changes, with titles / time :check this\n",
    "#company profile: company picture,followers,url size -- premium \n",
    "#number of companies, position- frequent changer\n",
    "#title- duration  - exceed than avg - more likely to change\n",
    "# hypothesis with premium "
   ]
  },
  {
   "cell_type": "markdown",
   "id": "6000fb5d",
   "metadata": {},
   "source": [
    "### companies analysis"
   ]
  },
  {
   "cell_type": "code",
   "execution_count": 519,
   "id": "6e169d85",
   "metadata": {},
   "outputs": [],
   "source": [
    "cleantranscations_copy=cleantranscations.copy()"
   ]
  },
  {
   "cell_type": "code",
   "execution_count": 927,
   "id": "40aeb5be",
   "metadata": {},
   "outputs": [
    {
     "data": {
      "text/plain": [
       "1800.8333    686\n",
       "875.0000     161\n",
       "1065.0000     18\n",
       "1430.0000     15\n",
       "639.0000      12\n",
       "            ... \n",
       "745.0000       1\n",
       "1034.6000      1\n",
       "694.0000       1\n",
       "243.3333       1\n",
       "369.9000       1\n",
       "Name: avgMemberPosDuration_x, Length: 4404, dtype: int64"
      ]
     },
     "execution_count": 927,
     "metadata": {},
     "output_type": "execute_result"
    }
   ],
   "source": [
    "# buckets , bar graph \n",
    "memberlevelgrp.avgMemberPosDuration_x.value_counts()\n"
   ]
  },
  {
   "cell_type": "code",
   "execution_count": 929,
   "id": "979a731f",
   "metadata": {},
   "outputs": [
    {
     "name": "stderr",
     "output_type": "stream",
     "text": [
      "/Users/deepak/opt/anaconda3/lib/python3.9/site-packages/seaborn/_decorators.py:36: FutureWarning:\n",
      "\n",
      "Pass the following variable as a keyword arg: x. From version 0.12, the only valid positional argument will be `data`, and passing other arguments without an explicit keyword will result in an error or misinterpretation.\n",
      "\n",
      "/Users/deepak/opt/anaconda3/lib/python3.9/site-packages/seaborn/distributions.py:2619: FutureWarning:\n",
      "\n",
      "`distplot` is a deprecated function and will be removed in a future version. Please adapt your code to use either `displot` (a figure-level function with similar flexibility) or `histplot` (an axes-level function for histograms).\n",
      "\n"
     ]
    },
    {
     "data": {
      "image/png": "[encoded data removed]",
      "text/plain": [
       "<Figure size 432x288 with 2 Axes>"
      ]
     },
     "metadata": {},
     "output_type": "display_data"
    }
   ],
   "source": [
    "f, (ax_box, ax_hist) = plt.subplots(2, sharex=True, gridspec_kw={\"height_ratios\": (.15, .85)})\n",
    "sns.set(style=\"darkgrid\")\n",
    "\n",
    "# Add a graph in each part\n",
    "sns.boxplot(memberlevelgrp[\"connectionsCount\"], ax=ax_box)\n",
    "sns.distplot(memberlevelgrp[\"connectionsCount\"], ax=ax_hist)\n",
    "ax_box.set(xlabel='connectionsCount')\n",
    "plt.show()\n",
    "\n"
   ]
  },
  {
   "cell_type": "markdown",
   "id": "ef3b657b",
   "metadata": {},
   "source": [
    "#### 500 connectoins is considered on higher side, MOST PEOPLE HAVE THAT"
   ]
  },
  {
   "cell_type": "code",
   "execution_count": 548,
   "id": "f64b3b0f",
   "metadata": {},
   "outputs": [
    {
     "data": {
      "text/plain": [
       "<AxesSubplot:ylabel='Frequency'>"
      ]
     },
     "execution_count": 548,
     "metadata": {},
     "output_type": "execute_result"
    },
    {
     "data": {
      "image/png": "[encoded data removed]",
      "text/plain": [
       "<Figure size 432x288 with 1 Axes>"
      ]
     },
     "metadata": {},
     "output_type": "display_data"
    }
   ],
   "source": [
    "memberlevelgrp[(memberlevelgrp['avgMemberPosDuration_x']<1500)].avgMemberPosDuration_x.plot.hist(bins=100)\n"
   ]
  },
  {
   "cell_type": "code",
   "execution_count": null,
   "id": "0ca969d0",
   "metadata": {},
   "outputs": [],
   "source": []
  },
  {
   "cell_type": "code",
   "execution_count": 551,
   "id": "7761c21f",
   "metadata": {},
   "outputs": [
    {
     "data": {
      "text/plain": [
       "<AxesSubplot:ylabel='Frequency'>"
      ]
     },
     "execution_count": 551,
     "metadata": {},
     "output_type": "execute_result"
    },
    {
     "data": {
      "image/png": "[encoded data removed]",
      "text/plain": [
       "<Figure size 432x288 with 1 Axes>"
      ]
     },
     "metadata": {},
     "output_type": "display_data"
    }
   ],
   "source": [
    "memberlevelgrp.avgMemberPosDuration_x.plot.hist(bins=100)\n",
    "# peak around 1500-2000 days , then it is right skewed "
   ]
  },
  {
   "cell_type": "code",
   "execution_count": 552,
   "id": "0017563a",
   "metadata": {},
   "outputs": [
    {
     "data": {
      "text/plain": [
       "count     6853.000000\n",
       "mean      1005.614188\n",
       "std        819.373703\n",
       "min          0.000000\n",
       "25%        547.666700\n",
       "50%        822.500000\n",
       "75%       1195.571400\n",
       "max      15492.500000\n",
       "Name: avgMemberPosDuration_x, dtype: float64"
      ]
     },
     "execution_count": 552,
     "metadata": {},
     "output_type": "execute_result"
    }
   ],
   "source": [
    "memberlevelgrp.avgMemberPosDuration_x.describe()"
   ]
  },
  {
   "cell_type": "markdown",
   "id": "56ada003",
   "metadata": {},
   "source": [
    "##### OBSERVATIONS\n",
    "#### avgMemberPosDuration : mean is around 870 and median 730- most of the candidates around 2 years\n",
    "#### after 800~ 3.5 YEARS there is downard trend - more likely cadidates will take premium after 2 years\n",
    "### it is cyclical trend every year\n"
   ]
  },
  {
   "cell_type": "code",
   "execution_count": 553,
   "id": "4eb415a8",
   "metadata": {},
   "outputs": [
    {
     "data": {
      "text/plain": [
       "<AxesSubplot:ylabel='Frequency'>"
      ]
     },
     "execution_count": 553,
     "metadata": {},
     "output_type": "execute_result"
    },
    {
     "data": {
      "image/png": "[encoded data removed]",
      "text/plain": [
       "<Figure size 432x288 with 1 Axes>"
      ]
     },
     "metadata": {},
     "output_type": "display_data"
    }
   ],
   "source": [
    "#some big companies will push data towards towards higher number how to balance it \n",
    "# dell vs startups \n",
    "memberlevelgrp.avgCompanyPosDuration_x.plot.hist(bins=100)"
   ]
  },
  {
   "cell_type": "code",
   "execution_count": 554,
   "id": "95380675",
   "metadata": {},
   "outputs": [
    {
     "data": {
      "text/plain": [
       "<AxesSubplot:ylabel='Frequency'>"
      ]
     },
     "execution_count": 554,
     "metadata": {},
     "output_type": "execute_result"
    },
    {
     "data": {
      "image/png": "[encoded data removed]",
      "text/plain": [
       "<Figure size 432x288 with 1 Axes>"
      ]
     },
     "metadata": {},
     "output_type": "display_data"
    }
   ],
   "source": [
    "memberlevelgrp[(memberlevelgrp['avgCompanyPosDuration_x']<1500)].avgCompanyPosDuration_x.plot.hist(bins=100)\n"
   ]
  },
  {
   "cell_type": "code",
   "execution_count": 555,
   "id": "d147541f",
   "metadata": {},
   "outputs": [
    {
     "data": {
      "text/plain": [
       "<AxesSubplot:ylabel='Frequency'>"
      ]
     },
     "execution_count": 555,
     "metadata": {},
     "output_type": "execute_result"
    },
    {
     "data": {
      "image/png": "[encoded data removed]",
      "text/plain": [
       "<Figure size 432x288 with 1 Axes>"
      ]
     },
     "metadata": {},
     "output_type": "display_data"
    }
   ],
   "source": [
    "memberlevelgrp[(memberlevelgrp['avgCompanyPosDuration_x']>1300) & (memberlevelgrp['avgCompanyPosDuration_x']<3000)].avgCompanyPosDuration_x.plot.hist(bins=100)\n",
    "\n",
    "\n"
   ]
  },
  {
   "cell_type": "code",
   "execution_count": 556,
   "id": "bdd5e4a2",
   "metadata": {},
   "outputs": [
    {
     "data": {
      "text/plain": [
       "count    6853.000000\n",
       "mean      898.213418\n",
       "std       360.321357\n",
       "min       -60.000000\n",
       "25%       725.843000\n",
       "50%       904.208200\n",
       "75%      1045.913000\n",
       "max      9497.000000\n",
       "Name: avgCompanyPosDuration_x, dtype: float64"
      ]
     },
     "execution_count": 556,
     "metadata": {},
     "output_type": "execute_result"
    }
   ],
   "source": [
    "memberlevelgrp.avgCompanyPosDuration_x.describe()"
   ]
  },
  {
   "cell_type": "code",
   "execution_count": 557,
   "id": "6ce4b9b5",
   "metadata": {},
   "outputs": [
    {
     "data": {
      "text/plain": [
       "887.0000     168\n",
       "942.0500     116\n",
       "989.9361      86\n",
       "1050.0325     80\n",
       "937.9322      52\n",
       "            ... \n",
       "398.0000       1\n",
       "1310.5168      1\n",
       "241.1466       1\n",
       "198.0000       1\n",
       "584.3958       1\n",
       "Name: avgCompanyPosDuration_x, Length: 3540, dtype: int64"
      ]
     },
     "execution_count": 557,
     "metadata": {},
     "output_type": "execute_result"
    }
   ],
   "source": [
    "memberlevelgrp.avgCompanyPosDuration_x.value_counts()"
   ]
  },
  {
   "cell_type": "markdown",
   "id": "1aed375d",
   "metadata": {},
   "source": [
    "#### avgCompanyPosDuration : mean is around 900 and median 900 - most of the companies employee stay is around 2.5 years\n",
    "### after 2.5 years  there is downard trend - more likely cadidates will take premium after 2 years\n"
   ]
  },
  {
   "cell_type": "code",
   "execution_count": 559,
   "id": "de9d8160",
   "metadata": {},
   "outputs": [
    {
     "data": {
      "text/html": [
       "<div>\n",
       "<style scoped>\n",
       "    .dataframe tbody tr th:only-of-type {\n",
       "        vertical-align: middle;\n",
       "    }\n",
       "\n",
       "    .dataframe tbody tr th {\n",
       "        vertical-align: top;\n",
       "    }\n",
       "\n",
       "    .dataframe thead th {\n",
       "        text-align: right;\n",
       "    }\n",
       "</style>\n",
       "<table border=\"1\" class=\"dataframe\">\n",
       "  <thead>\n",
       "    <tr style=\"text-align: right;\">\n",
       "      <th></th>\n",
       "      <th>memberUrn</th>\n",
       "      <th>ageEstimate</th>\n",
       "      <th>companyFollowerCount_x</th>\n",
       "      <th>connectionsCount</th>\n",
       "      <th>endDate</th>\n",
       "      <th>followersCount</th>\n",
       "      <th>hasPicture</th>\n",
       "      <th>genderEstimate</th>\n",
       "      <th>avgMemberPosDuration_x</th>\n",
       "      <th>avgCompanyPosDuration_x</th>\n",
       "      <th>isPremium</th>\n",
       "    </tr>\n",
       "  </thead>\n",
       "  <tbody>\n",
       "    <tr>\n",
       "      <th>0</th>\n",
       "      <td>urn:li:member:10013136</td>\n",
       "      <td>41.0</td>\n",
       "      <td>10047.0</td>\n",
       "      <td>500.0</td>\n",
       "      <td>2012-12-01</td>\n",
       "      <td>506.0</td>\n",
       "      <td>0</td>\n",
       "      <td>0.0</td>\n",
       "      <td>760.5000</td>\n",
       "      <td>747.2308</td>\n",
       "      <td>0.0</td>\n",
       "    </tr>\n",
       "    <tr>\n",
       "      <th>1</th>\n",
       "      <td>urn:li:member:100186032</td>\n",
       "      <td>30.0</td>\n",
       "      <td>4385293.0</td>\n",
       "      <td>500.0</td>\n",
       "      <td>2015-12-01</td>\n",
       "      <td>951.0</td>\n",
       "      <td>1</td>\n",
       "      <td>1.0</td>\n",
       "      <td>395.2857</td>\n",
       "      <td>1188.7339</td>\n",
       "      <td>0.0</td>\n",
       "    </tr>\n",
       "    <tr>\n",
       "      <th>2</th>\n",
       "      <td>urn:li:member:100189195</td>\n",
       "      <td>33.0</td>\n",
       "      <td>3043.0</td>\n",
       "      <td>500.0</td>\n",
       "      <td>2005-09-01</td>\n",
       "      <td>886.0</td>\n",
       "      <td>1</td>\n",
       "      <td>0.0</td>\n",
       "      <td>898.3333</td>\n",
       "      <td>1362.8257</td>\n",
       "      <td>1.0</td>\n",
       "    </tr>\n",
       "    <tr>\n",
       "      <th>3</th>\n",
       "      <td>urn:li:member:100207000</td>\n",
       "      <td>40.0</td>\n",
       "      <td>117254.0</td>\n",
       "      <td>500.0</td>\n",
       "      <td>2013-08-01</td>\n",
       "      <td>556.0</td>\n",
       "      <td>1</td>\n",
       "      <td>-1.0</td>\n",
       "      <td>988.8333</td>\n",
       "      <td>750.7748</td>\n",
       "      <td>0.0</td>\n",
       "    </tr>\n",
       "    <tr>\n",
       "      <th>4</th>\n",
       "      <td>urn:li:member:100271877</td>\n",
       "      <td>42.0</td>\n",
       "      <td>58372.0</td>\n",
       "      <td>500.0</td>\n",
       "      <td>2014-12-01</td>\n",
       "      <td>15286.0</td>\n",
       "      <td>1</td>\n",
       "      <td>0.0</td>\n",
       "      <td>673.3571</td>\n",
       "      <td>1280.0075</td>\n",
       "      <td>0.0</td>\n",
       "    </tr>\n",
       "    <tr>\n",
       "      <th>...</th>\n",
       "      <td>...</td>\n",
       "      <td>...</td>\n",
       "      <td>...</td>\n",
       "      <td>...</td>\n",
       "      <td>...</td>\n",
       "      <td>...</td>\n",
       "      <td>...</td>\n",
       "      <td>...</td>\n",
       "      <td>...</td>\n",
       "      <td>...</td>\n",
       "      <td>...</td>\n",
       "    </tr>\n",
       "    <tr>\n",
       "      <th>6848</th>\n",
       "      <td>urn:li:member:996695</td>\n",
       "      <td>41.0</td>\n",
       "      <td>6786.0</td>\n",
       "      <td>500.0</td>\n",
       "      <td>2016-06-01</td>\n",
       "      <td>3070.0</td>\n",
       "      <td>1</td>\n",
       "      <td>0.0</td>\n",
       "      <td>1083.6667</td>\n",
       "      <td>584.3958</td>\n",
       "      <td>0.0</td>\n",
       "    </tr>\n",
       "    <tr>\n",
       "      <th>6849</th>\n",
       "      <td>urn:li:member:99727786</td>\n",
       "      <td>45.0</td>\n",
       "      <td>21283.0</td>\n",
       "      <td>335.0</td>\n",
       "      <td>2022-09-21</td>\n",
       "      <td>336.0</td>\n",
       "      <td>1</td>\n",
       "      <td>0.0</td>\n",
       "      <td>910.1000</td>\n",
       "      <td>2187.4245</td>\n",
       "      <td>0.0</td>\n",
       "    </tr>\n",
       "    <tr>\n",
       "      <th>6850</th>\n",
       "      <td>urn:li:member:9976147</td>\n",
       "      <td>42.0</td>\n",
       "      <td>53175.0</td>\n",
       "      <td>500.0</td>\n",
       "      <td>2012-12-01</td>\n",
       "      <td>991.0</td>\n",
       "      <td>1</td>\n",
       "      <td>0.0</td>\n",
       "      <td>369.9000</td>\n",
       "      <td>937.9322</td>\n",
       "      <td>0.0</td>\n",
       "    </tr>\n",
       "    <tr>\n",
       "      <th>6851</th>\n",
       "      <td>urn:li:member:99806927</td>\n",
       "      <td>29.0</td>\n",
       "      <td>7502740.0</td>\n",
       "      <td>201.0</td>\n",
       "      <td>2022-09-21</td>\n",
       "      <td>202.0</td>\n",
       "      <td>1</td>\n",
       "      <td>0.0</td>\n",
       "      <td>488.0000</td>\n",
       "      <td>598.4244</td>\n",
       "      <td>0.0</td>\n",
       "    </tr>\n",
       "    <tr>\n",
       "      <th>6852</th>\n",
       "      <td>urn:li:member:9985941</td>\n",
       "      <td>46.0</td>\n",
       "      <td>151686.0</td>\n",
       "      <td>362.0</td>\n",
       "      <td>2022-09-21</td>\n",
       "      <td>363.0</td>\n",
       "      <td>1</td>\n",
       "      <td>0.0</td>\n",
       "      <td>1912.0000</td>\n",
       "      <td>941.0968</td>\n",
       "      <td>0.0</td>\n",
       "    </tr>\n",
       "  </tbody>\n",
       "</table>\n",
       "<p>6853 rows × 11 columns</p>\n",
       "</div>"
      ],
      "text/plain": [
       "                    memberUrn  ageEstimate  companyFollowerCount_x  \\\n",
       "0      urn:li:member:10013136         41.0                 10047.0   \n",
       "1     urn:li:member:100186032         30.0               4385293.0   \n",
       "2     urn:li:member:100189195         33.0                  3043.0   \n",
       "3     urn:li:member:100207000         40.0                117254.0   \n",
       "4     urn:li:member:100271877         42.0                 58372.0   \n",
       "...                       ...          ...                     ...   \n",
       "6848     urn:li:member:996695         41.0                  6786.0   \n",
       "6849   urn:li:member:99727786         45.0                 21283.0   \n",
       "6850    urn:li:member:9976147         42.0                 53175.0   \n",
       "6851   urn:li:member:99806927         29.0               7502740.0   \n",
       "6852    urn:li:member:9985941         46.0                151686.0   \n",
       "\n",
       "      connectionsCount    endDate  followersCount hasPicture  genderEstimate  \\\n",
       "0                500.0 2012-12-01           506.0          0             0.0   \n",
       "1                500.0 2015-12-01           951.0          1             1.0   \n",
       "2                500.0 2005-09-01           886.0          1             0.0   \n",
       "3                500.0 2013-08-01           556.0          1            -1.0   \n",
       "4                500.0 2014-12-01         15286.0          1             0.0   \n",
       "...                ...        ...             ...        ...             ...   \n",
       "6848             500.0 2016-06-01          3070.0          1             0.0   \n",
       "6849             335.0 2022-09-21           336.0          1             0.0   \n",
       "6850             500.0 2012-12-01           991.0          1             0.0   \n",
       "6851             201.0 2022-09-21           202.0          1             0.0   \n",
       "6852             362.0 2022-09-21           363.0          1             0.0   \n",
       "\n",
       "      avgMemberPosDuration_x  avgCompanyPosDuration_x  isPremium  \n",
       "0                   760.5000                 747.2308        0.0  \n",
       "1                   395.2857                1188.7339        0.0  \n",
       "2                   898.3333                1362.8257        1.0  \n",
       "3                   988.8333                 750.7748        0.0  \n",
       "4                   673.3571                1280.0075        0.0  \n",
       "...                      ...                      ...        ...  \n",
       "6848               1083.6667                 584.3958        0.0  \n",
       "6849                910.1000                2187.4245        0.0  \n",
       "6850                369.9000                 937.9322        0.0  \n",
       "6851                488.0000                 598.4244        0.0  \n",
       "6852               1912.0000                 941.0968        0.0  \n",
       "\n",
       "[6853 rows x 11 columns]"
      ]
     },
     "execution_count": 559,
     "metadata": {},
     "output_type": "execute_result"
    }
   ],
   "source": [
    "memberlevelgrp"
   ]
  },
  {
   "cell_type": "code",
   "execution_count": null,
   "id": "484c47f3",
   "metadata": {
    "scrolled": true
   },
   "outputs": [],
   "source": [
    "\n",
    "#linkedin_data_copy[(linkedin_data_copy['hasPicture']!=0)].loc[hasPicture=1\n",
    "                                                              "
   ]
  },
  {
   "cell_type": "code",
   "execution_count": 564,
   "id": "3bdb7c7f",
   "metadata": {},
   "outputs": [],
   "source": [
    "#linkedin_data_copy=linkedin_data_copy[\"hasPicture\"].fillna(0, inplace=True)\n",
    "memberlevelgrp['duration']=memberlevelgrp.endDate-memberlevelgrp.startDate\n",
    "memberlevelgrp['duration']=memberlevelgrp['duration'].dt.days"
   ]
  },
  {
   "cell_type": "code",
   "execution_count": 568,
   "id": "b7b77bce",
   "metadata": {},
   "outputs": [
    {
     "data": {
      "text/plain": [
       "<AxesSubplot:ylabel='Frequency'>"
      ]
     },
     "execution_count": 568,
     "metadata": {},
     "output_type": "execute_result"
    },
    {
     "data": {
      "image/png": "[encoded data removed]",
      "text/plain": [
       "<Figure size 432x288 with 1 Axes>"
      ]
     },
     "metadata": {},
     "output_type": "display_data"
    }
   ],
   "source": [
    "memberlevelgrp.duration.plot.hist(bins=100)"
   ]
  },
  {
   "cell_type": "code",
   "execution_count": 571,
   "id": "3ecbccad",
   "metadata": {},
   "outputs": [
    {
     "data": {
      "text/plain": [
       "<AxesSubplot:ylabel='Frequency'>"
      ]
     },
     "execution_count": 571,
     "metadata": {},
     "output_type": "execute_result"
    },
    {
     "data": {
      "image/png": "[encoded data removed]",
      "text/plain": [
       "<Figure size 432x288 with 1 Axes>"
      ]
     },
     "metadata": {},
     "output_type": "display_data"
    }
   ],
   "source": [
    "#linkedin_data_copy.value_counts('duration').plot.hist(bins=100)\n",
    "memberlevelgrp[(memberlevelgrp['duration']>500) & (memberlevelgrp['duration']<2000)].duration.plot.hist(bins=100)\n",
    "\n"
   ]
  },
  {
   "cell_type": "code",
   "execution_count": 572,
   "id": "62ee3536",
   "metadata": {},
   "outputs": [
    {
     "data": {
      "text/plain": [
       "<AxesSubplot:ylabel='Frequency'>"
      ]
     },
     "execution_count": 572,
     "metadata": {},
     "output_type": "execute_result"
    },
    {
     "data": {
      "image/png": "[encoded data removed]",
      "text/plain": [
       "<Figure size 432x288 with 1 Axes>"
      ]
     },
     "metadata": {},
     "output_type": "display_data"
    }
   ],
   "source": [
    "memberlevelgrp[(memberlevelgrp['duration']<500)].duration.plot.hist(bins=100)\n"
   ]
  },
  {
   "cell_type": "markdown",
   "id": "78298d31",
   "metadata": {},
   "source": [
    "#### most of the candidates leave around 2 years , then there is decline trend \n",
    "#### duration has some cyclicity to it , after a year or so \n",
    "#### candidates leave around their anniversary or so, \n",
    "\n",
    "#### try to make segments for marketing team ,with other features"
   ]
  },
  {
   "cell_type": "code",
   "execution_count": null,
   "id": "fe3c8dc8",
   "metadata": {},
   "outputs": [],
   "source": [
    "\n"
   ]
  },
  {
   "cell_type": "markdown",
   "id": "c490d143",
   "metadata": {},
   "source": [
    "### 75%-- has picture 25 %-- do not have picture"
   ]
  },
  {
   "cell_type": "code",
   "execution_count": null,
   "id": "7b69efa4",
   "metadata": {},
   "outputs": [],
   "source": [
    "#linkedin_data_copy[\"companyHasLogo\"].fillna(0,inplace=True)"
   ]
  },
  {
   "cell_type": "code",
   "execution_count": null,
   "id": "9784878b",
   "metadata": {},
   "outputs": [],
   "source": [
    "\n",
    "#linkedin_data_copy.loc[(linkedin_data_copy.companyHasLogo!=0),'companyHasLogo']='1'"
   ]
  },
  {
   "cell_type": "code",
   "execution_count": null,
   "id": "a1c5558e",
   "metadata": {},
   "outputs": [],
   "source": [
    "#find latest start date and check end date for each person to check job open or not"
   ]
  },
  {
   "cell_type": "code",
   "execution_count": null,
   "id": "08162602",
   "metadata": {},
   "outputs": [],
   "source": [
    "linkedin_user.rename"
   ]
  },
  {
   "cell_type": "code",
   "execution_count": 573,
   "id": "97979fbb",
   "metadata": {},
   "outputs": [
    {
     "name": "stderr",
     "output_type": "stream",
     "text": [
      "/Users/deepak/opt/anaconda3/lib/python3.9/site-packages/seaborn/_decorators.py:36: FutureWarning:\n",
      "\n",
      "Pass the following variable as a keyword arg: x. From version 0.12, the only valid positional argument will be `data`, and passing other arguments without an explicit keyword will result in an error or misinterpretation.\n",
      "\n",
      "/Users/deepak/opt/anaconda3/lib/python3.9/site-packages/seaborn/distributions.py:2619: FutureWarning:\n",
      "\n",
      "`distplot` is a deprecated function and will be removed in a future version. Please adapt your code to use either `displot` (a figure-level function with similar flexibility) or `histplot` (an axes-level function for histograms).\n",
      "\n"
     ]
    },
    {
     "data": {
      "image/png": "[encoded data removed]",
      "text/plain": [
       "<Figure size 432x288 with 2 Axes>"
      ]
     },
     "metadata": {},
     "output_type": "display_data"
    }
   ],
   "source": [
    "f, (ax_box, ax_hist) = plt.subplots(2, sharex=True, gridspec_kw={\"height_ratios\": (.15, .85)})\n",
    "sns.boxplot(memberlevelgrp[\"duration\"], ax=ax_box)\n",
    "sns.distplot(memberlevelgrp[\"duration\"], ax=ax_hist)\n",
    "ax_box.set(xlabel='duration')\n",
    "plt.show()"
   ]
  },
  {
   "cell_type": "code",
   "execution_count": 574,
   "id": "8f25b4c2",
   "metadata": {
    "scrolled": true
   },
   "outputs": [
    {
     "name": "stderr",
     "output_type": "stream",
     "text": [
      "/Users/deepak/opt/anaconda3/lib/python3.9/site-packages/seaborn/_decorators.py:36: FutureWarning:\n",
      "\n",
      "Pass the following variable as a keyword arg: x. From version 0.12, the only valid positional argument will be `data`, and passing other arguments without an explicit keyword will result in an error or misinterpretation.\n",
      "\n",
      "/Users/deepak/opt/anaconda3/lib/python3.9/site-packages/seaborn/distributions.py:2619: FutureWarning:\n",
      "\n",
      "`distplot` is a deprecated function and will be removed in a future version. Please adapt your code to use either `displot` (a figure-level function with similar flexibility) or `histplot` (an axes-level function for histograms).\n",
      "\n"
     ]
    },
    {
     "data": {
      "image/png": "[encoded data removed]",
      "text/plain": [
       "<Figure size 432x288 with 2 Axes>"
      ]
     },
     "metadata": {},
     "output_type": "display_data"
    }
   ],
   "source": [
    "f, (ax_box, ax_hist) = plt.subplots(2, sharex=True, gridspec_kw={\"height_ratios\": (.15, .85)})\n",
    "sns.boxplot(memberlevelgrp[\"ageEstimate\"], ax=ax_box)\n",
    "sns.distplot(memberlevelgrp[\"ageEstimate\"], ax=ax_hist)\n",
    "ax_box.set(xlabel='ageEstimate')\n",
    "plt.show()"
   ]
  },
  {
   "cell_type": "code",
   "execution_count": 576,
   "id": "1e4e23e9",
   "metadata": {},
   "outputs": [
    {
     "data": {
      "text/plain": [
       "Text(0, 0.5, 'gender premium %')"
      ]
     },
     "execution_count": 576,
     "metadata": {},
     "output_type": "execute_result"
    },
    {
     "data": {
      "image/png": "[encoded data removed]",
      "text/plain": [
       "<Figure size 576x288 with 1 Axes>"
      ]
     },
     "metadata": {},
     "output_type": "display_data"
    }
   ],
   "source": [
    "(pd.crosstab(memberlevelgrp['genderEstimate'],memberlevelgrp['isPremium'])).plot(kind='bar',figsize=(8,4),stacked=True)\n",
    "plt.ylabel('gender premium %')\n"
   ]
  },
  {
   "cell_type": "code",
   "execution_count": 575,
   "id": "b7306295",
   "metadata": {},
   "outputs": [
    {
     "data": {
      "text/plain": [
       "Text(0, 0.5, ' premium %')"
      ]
     },
     "execution_count": 575,
     "metadata": {},
     "output_type": "execute_result"
    },
    {
     "data": {
      "image/png": "[encoded data removed]",
      "text/plain": [
       "<Figure size 576x288 with 1 Axes>"
      ]
     },
     "metadata": {},
     "output_type": "display_data"
    }
   ],
   "source": [
    "(pd.crosstab(memberlevelgrp['hasPicture'],memberlevelgrp['isPremium'])).plot(kind='bar',figsize=(8,4),stacked=True)\n",
    "plt.ylabel(' premium %')\n"
   ]
  },
  {
   "cell_type": "code",
   "execution_count": 577,
   "id": "da0ad57f",
   "metadata": {},
   "outputs": [
    {
     "data": {
      "text/plain": [
       "Text(0, 0.5, 'average company %')"
      ]
     },
     "execution_count": 577,
     "metadata": {},
     "output_type": "execute_result"
    },
    {
     "data": {
      "image/png": "[encoded data removed]",
      "text/plain": [
       "<Figure size 576x288 with 1 Axes>"
      ]
     },
     "metadata": {},
     "output_type": "display_data"
    }
   ],
   "source": [
    "(pd.crosstab(memberlevelgrp['avgCompanyPosDuration_x'],memberlevelgrp['isPremium'])).plot(kind='bar',figsize=(8,4),stacked=True)\n",
    "plt.ylabel('average company %')\n"
   ]
  },
  {
   "cell_type": "code",
   "execution_count": null,
   "id": "33cda1c8",
   "metadata": {},
   "outputs": [],
   "source": []
  }
 ],
 "metadata": {
  "kernelspec": {
   "display_name": "Python 3 (ipykernel)",
   "language": "python",
   "name": "python3"
  },
  "language_info": {
   "codemirror_mode": {
    "name": "ipython",
    "version": 3
   },
   "file_extension": ".py",
   "mimetype": "text/x-python",
   "name": "python",
   "nbconvert_exporter": "python",
   "pygments_lexer": "ipython3",
   "version": "3.9.12"
  }
 },
 "nbformat": 4,
 "nbformat_minor": 5
}
